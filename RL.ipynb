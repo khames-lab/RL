{
  "nbformat": 4,
  "nbformat_minor": 0,
  "metadata": {
    "kernelspec": {
      "display_name": "Python 3",
      "language": "python",
      "name": "python3"
    },
    "language_info": {
      "codemirror_mode": {
        "name": "ipython",
        "version": 3
      },
      "file_extension": ".py",
      "mimetype": "text/x-python",
      "name": "python",
      "nbconvert_exporter": "python",
      "pygments_lexer": "ipython3",
      "version": "3.8.4"
    },
    "colab": {
      "name": "RL_muZero.ipynb",
      "provenance": [],
      "collapsed_sections": []
    },
    "accelerator": "GPU"
  },
  "cells": [
    {
      "cell_type": "markdown",
      "metadata": {
        "id": "WPydH9ic9RH-"
      },
      "source": [
        "# Reinforcement Learning Projet\r\n",
        "\r\n",
        "**Athors** : Yassine Filali, Mohamed Farhat and Mohamed El Khames Boumaiza"
      ]
    },
    {
      "cell_type": "code",
      "metadata": {
        "id": "6mLzblyI9Puc"
      },
      "source": [
        "#Importing necessary libraries\r\n",
        "import numpy as np\r\n",
        "import torch\r\n",
        "import torch.nn as nn\r\n",
        "import torch.nn.functional as F\r\n",
        "import time\r\n",
        "import copy\r\n",
        "import torch.optim as optim\r\n",
        "import matplotlib.pyplot as plt"
      ],
      "execution_count": null,
      "outputs": []
    },
    {
      "cell_type": "markdown",
      "metadata": {
        "id": "pW4JhU2I9rzi"
      },
      "source": [
        "Implementation of the **State** class "
      ]
    },
    {
      "cell_type": "code",
      "metadata": {
        "id": "uGVp4juJFra3"
      },
      "source": [
        "class State:\r\n",
        "  def __init__(self):\r\n",
        "        self.tictactoe = State_tictactoe \r\n",
        "        "
      ],
      "execution_count": null,
      "outputs": []
    },
    {
      "cell_type": "markdown",
      "metadata": {
        "id": "jtFeqWPS9ucE"
      },
      "source": [
        "Implementation of a simple game: **Tic-Tac-Toe**"
      ]
    },
    {
      "cell_type": "code",
      "metadata": {
        "id": "0ppZnlVYGIdY"
      },
      "source": [
        "class State_tictactoe:\r\n",
        "    X, Y = 'ABC',  '123'\r\n",
        "    C = {0: '_', 1: 'O', -1: 'X'}\r\n",
        "\r\n",
        "    def __init__(self):\r\n",
        "        self.board = np.zeros((3, 3)) \r\n",
        "        self.color = 1\r\n",
        "        self.win_color = 0\r\n",
        "        self.record = []\r\n",
        "        self.BLACK = 1  # first turn\r\n",
        "        self.WHITE = -1 #second turn player\r\n",
        "\r\n",
        "    def action2str(self, a):\r\n",
        "        return self.X[a // 3] + self.Y[a % 3]\r\n",
        "\r\n",
        "    def str2action(self, s):\r\n",
        "        return self.X.find(s[0]) * 3 + self.Y.find(s[1])\r\n",
        "\r\n",
        "    def record_string(self):\r\n",
        "        return ' '.join([self.action2str(a) for a in self.record])\r\n",
        "\r\n",
        "    def __str__(self):\r\n",
        "        # output board.\r\n",
        "        s = '   ' + ' '.join(self.Y) + '\\n'\r\n",
        "        for i in range(3):\r\n",
        "            s += self.X[i] + ' ' + ' '.join([self.C[self.board[i, j]] for j in range(3)]) + '\\n'\r\n",
        "        s += 'record = ' + self.record_string()\r\n",
        "        return s\r\n",
        "\r\n",
        "    def play(self, action):\r\n",
        "        # state transition function\r\n",
        "        # action is position inerger (0~8) or string representation of action sequence\r\n",
        "        if isinstance(action, str):\r\n",
        "            for astr in action.split():\r\n",
        "                self.play(self.str2action(astr))\r\n",
        "            return self\r\n",
        "\r\n",
        "        x, y = action // 3, action % 3\r\n",
        "        self.board[x, y] = self.color\r\n",
        "\r\n",
        "        # check whether 3 stones are on the line\r\n",
        "        if self.board[x, :].sum() == 3 * self.color \\\r\n",
        "          or self.board[:, y].sum() == 3 * self.color \\\r\n",
        "          or (x == y and np.diag(self.board, k=0).sum() == 3 * self.color) \\\r\n",
        "          or (x == 2 - y and np.diag(self.board[::-1,:], k=0).sum() == 3 * self.color):\r\n",
        "            self.win_color = self.color\r\n",
        "\r\n",
        "        self.color = -self.color\r\n",
        "        self.record.append(action)\r\n",
        "        return self\r\n",
        "\r\n",
        "    def terminal(self):\r\n",
        "        # terminal state check\r\n",
        "        return self.win_color != 0 or len(self.record) == 3 * 3\r\n",
        "\r\n",
        "    def terminal_reward(self):\r\n",
        "        # terminal reward \r\n",
        "        return self.win_color if self.color == self.BLACK else -self.win_color\r\n",
        "\r\n",
        "    def legal_actions(self):\r\n",
        "        # list of legal actions on each state\r\n",
        "        return [a for a in range(3 * 3) if self.board[a // 3, a % 3] == 0]\r\n",
        "\r\n",
        "    def feature(self):\r\n",
        "        # input tensor for neural net (state)\r\n",
        "        return np.stack([self.board == self.color, self.board == -self.color]).astype(np.float32)\r\n",
        "\r\n",
        "    def action_feature(self, action):\r\n",
        "        # input tensor for neural net (action)\r\n",
        "        a = np.zeros((1, 3, 3), dtype=np.float32)\r\n",
        "        a[0, action // 3, action % 3] = 1\r\n",
        "        return a"
      ],
      "execution_count": null,
      "outputs": []
    },
    {
      "cell_type": "markdown",
      "metadata": {
        "id": "cmACNHCN9zP_"
      },
      "source": [
        "Lets see some examples"
      ]
    },
    {
      "cell_type": "code",
      "metadata": {
        "colab": {
          "base_uri": "https://localhost:8080/"
        },
        "id": "2hrXXfHtGMBm",
        "outputId": "d6ee4963-d2cb-4d03-8dfb-58551d3f8f7c"
      },
      "source": [
        "state_ttt = State().tictactoe()\r\n",
        "print(\"Example 1 : \")\r\n",
        "action = 'A1 A2'\r\n",
        "state = state_ttt.play(action)\r\n",
        "print(state)\r\n",
        "print('Input feature after playing', action)\r\n",
        "print(state.feature())\r\n",
        "\r\n",
        "print(\"Example 2 : \")\r\n",
        "action = 'B1 A2 A1 B3'\r\n",
        "state = state_ttt.play(action)\r\n",
        "print(state)\r\n",
        "print('Input feature after playing', action)\r\n",
        "print(state.feature())\r\n"
      ],
      "execution_count": null,
      "outputs": [
        {
          "output_type": "stream",
          "text": [
            "Example 1 : \n",
            "   1 2 3\n",
            "A O X _\n",
            "B _ _ _\n",
            "C _ _ _\n",
            "record = A1 A2\n",
            "Input feature after playing A1 A2\n",
            "[[[1. 0. 0.]\n",
            "  [0. 0. 0.]\n",
            "  [0. 0. 0.]]\n",
            "\n",
            " [[0. 1. 0.]\n",
            "  [0. 0. 0.]\n",
            "  [0. 0. 0.]]]\n",
            "Example 2 : \n",
            "   1 2 3\n",
            "A O X _\n",
            "B O _ X\n",
            "C _ _ _\n",
            "record = A1 A2 B1 A2 A1 B3\n",
            "Input feature after playing B1 A2 A1 B3\n",
            "[[[1. 0. 0.]\n",
            "  [1. 0. 0.]\n",
            "  [0. 0. 0.]]\n",
            "\n",
            " [[0. 1. 0.]\n",
            "  [0. 0. 1.]\n",
            "  [0. 0. 0.]]]\n"
          ],
          "name": "stdout"
        }
      ]
    },
    {
      "cell_type": "markdown",
      "metadata": {
        "id": "6cAVei_494pQ"
      },
      "source": [
        "Small Convolutional neural network using PyTorch"
      ]
    },
    {
      "cell_type": "code",
      "metadata": {
        "id": "9MtrJHcd1LeB"
      },
      "source": [
        "class Conv(nn.Module):\n",
        "    def __init__(self, filters0, filters1, kernel_size, bn=False):\n",
        "        super().__init__()\n",
        "        self.conv = nn.Conv2d(filters0, filters1, kernel_size, stride=1, padding=kernel_size//2, bias=False)\n",
        "        self.bn = None\n",
        "        if bn:\n",
        "            self.bn = nn.BatchNorm2d(filters1)\n",
        "\n",
        "    def forward(self, x):\n",
        "        h = self.conv(x)\n",
        "        if self.bn is not None:\n",
        "            h = self.bn(h)\n",
        "        return h\n",
        "\n",
        "class ResidualBlock(nn.Module):\n",
        "    def __init__(self, filters):\n",
        "        super().__init__()\n",
        "        self.conv = Conv(filters, filters, 3, True)\n",
        "\n",
        "    def forward(self, x):\n",
        "        return F.relu(x + (self.conv(x)))\n"
      ],
      "execution_count": null,
      "outputs": []
    },
    {
      "cell_type": "code",
      "metadata": {
        "id": "yp7wSCbq1LeB"
      },
      "source": [
        "num_filters = 16\n",
        "num_blocks = 4\n",
        "\n",
        "class Representation(nn.Module):\n",
        "    ''' Conversion from observation to inner abstract state '''\n",
        "    def __init__(self, input_shape):\n",
        "        super().__init__()\n",
        "        self.input_shape = input_shape\n",
        "        self.board_size = self.input_shape[1] * self.input_shape[2]\n",
        "\n",
        "        self.layer0 = Conv(self.input_shape[0], num_filters, 3, bn=True)\n",
        "        self.blocks = nn.ModuleList([ResidualBlock(num_filters) for _ in range(num_blocks)])\n",
        "\n",
        "    def forward(self, x):\n",
        "        h = F.relu(self.layer0(x))\n",
        "        for block in self.blocks:\n",
        "            h = block(h)\n",
        "        return h\n",
        "\n",
        "    def inference(self, x):\n",
        "        self.eval()\n",
        "        with torch.no_grad():\n",
        "            rp = self(torch.from_numpy(x).unsqueeze(0))\n",
        "        return rp.cpu().numpy()[0]\n",
        "\n",
        "class Prediction(nn.Module):\n",
        "    ''' Policy and value prediction from inner abstract state '''\n",
        "    def __init__(self, action_shape):\n",
        "        super().__init__()\n",
        "        self.board_size = np.prod(action_shape[1:])\n",
        "        self.action_size = action_shape[0] * self.board_size\n",
        "\n",
        "        self.conv_p1 = Conv(num_filters, 4, 1, bn=True)\n",
        "        self.conv_p2 = Conv(4, 1, 1)\n",
        "\n",
        "        self.conv_v = Conv(num_filters, 4, 1, bn=True)\n",
        "        self.fc_v = nn.Linear(self.board_size * 4, 1, bias=False)\n",
        "\n",
        "    def forward(self, rp):\n",
        "        h_p = F.relu(self.conv_p1(rp))\n",
        "        h_p = self.conv_p2(h_p).view(-1, self.action_size)\n",
        "\n",
        "        h_v = F.relu(self.conv_v(rp))\n",
        "        h_v = self.fc_v(h_v.view(-1, self.board_size * 4))\n",
        "\n",
        "        # range of value is -1 ~ 1\n",
        "        return F.softmax(h_p, dim=-1), torch.tanh(h_v)\n",
        "\n",
        "    def inference(self, rp):\n",
        "        self.eval()\n",
        "        with torch.no_grad():\n",
        "            p, v = self(torch.from_numpy(rp).unsqueeze(0))\n",
        "        return p.cpu().numpy()[0], v.cpu().numpy()[0][0]\n",
        "\n",
        "class Dynamics(nn.Module):\n",
        "    '''Abstract state transition'''\n",
        "    def __init__(self, rp_shape, act_shape):\n",
        "        super().__init__()\n",
        "        self.rp_shape = rp_shape\n",
        "        self.layer0 = Conv(rp_shape[0] + act_shape[0], num_filters, 3, bn=True)\n",
        "        self.blocks = nn.ModuleList([ResidualBlock(num_filters) for _ in range(num_blocks)])\n",
        "\n",
        "    def forward(self, rp, a):\n",
        "        h = torch.cat([rp, a], dim=1)\n",
        "        h = self.layer0(h)\n",
        "        for block in self.blocks:\n",
        "            h = block(h)\n",
        "        return h\n",
        "\n",
        "    def inference(self, rp, a):\n",
        "        self.eval()\n",
        "        with torch.no_grad():\n",
        "            rp = self(torch.from_numpy(rp).unsqueeze(0), torch.from_numpy(a).unsqueeze(0))\n",
        "        return rp.cpu().numpy()[0]\n",
        "\n",
        "class Net(nn.Module):\n",
        "    '''Whole net'''\n",
        "    def __init__(self,state):\n",
        "        super().__init__()\n",
        "        #state = State()\n",
        "        input_shape = state.feature().shape\n",
        "        action_shape = state.action_feature(0).shape\n",
        "        rp_shape = (num_filters, *input_shape[1:])\n",
        "\n",
        "        self.representation = Representation(input_shape)\n",
        "        self.prediction = Prediction(action_shape)\n",
        "        self.dynamics = Dynamics(rp_shape, action_shape)\n",
        "\n",
        "    def predict(self, state0, path):\n",
        "        '''Predict p and v from original state and path'''\n",
        "        outputs = []\n",
        "        x = state0.feature()\n",
        "        rp = self.representation.inference(x)\n",
        "        outputs.append(self.prediction.inference(rp))\n",
        "        for action in path:\n",
        "            a = state0.action_feature(action)\n",
        "            rp = self.dynamics.inference(rp, a)\n",
        "            outputs.append(self.prediction.inference(rp))\n",
        "        return outputs"
      ],
      "execution_count": null,
      "outputs": []
    },
    {
      "cell_type": "code",
      "metadata": {
        "colab": {
          "base_uri": "https://localhost:8080/"
        },
        "id": "5dfQrmCA1LeC",
        "outputId": "f9eba746-5c56-48e1-d987-c249c300b3c0"
      },
      "source": [
        "def show_net(net, state):\n",
        "    '''Display policy (p) and value (v)'''\n",
        "    print(state)\n",
        "    p, v = net.predict(state, [])[-1]\n",
        "    print('policy p = ')\n",
        "    print((p * 1000).astype(int).reshape((-1, *net.representation.input_shape[1:3])))\n",
        "    print('value v = ', v)\n",
        "    print()\n",
        "\n",
        "#  Outputs before training\n",
        "state = State().tictactoe()\n",
        "show_net(Net(state),state )"
      ],
      "execution_count": null,
      "outputs": [
        {
          "output_type": "stream",
          "text": [
            "   1 2 3\n",
            "A _ _ _\n",
            "B _ _ _\n",
            "C _ _ _\n",
            "record = \n",
            "policy p = \n",
            "[[[111 111 111]\n",
            "  [111 111 111]\n",
            "  [111 111 111]]]\n",
            "value v =  0.0\n",
            "\n"
          ],
          "name": "stdout"
        }
      ]
    },
    {
      "cell_type": "markdown",
      "metadata": {
        "id": "woYqVrR7-BAW"
      },
      "source": [
        "Implementation of the MCTS (Monte Carlo Tree Search)"
      ]
    },
    {
      "cell_type": "code",
      "metadata": {
        "id": "jZo72FTa1LeD"
      },
      "source": [
        "class Tree:\n",
        "    def __init__(self, net):\n",
        "        self.net = net\n",
        "        self.nodes = {}\n",
        "\n",
        "    def search(self, state, path, rp, depth):\n",
        "        # Return the predicted value from the new state\n",
        "        key = state.record_string()\n",
        "        if len(path) > 0:\n",
        "            key += '|' + ' '.join(map(state.action2str, path))\n",
        "        if key not in self.nodes:\n",
        "            p, v = self.net.prediction.inference(rp)\n",
        "            self.nodes[key] = Node(p, v)\n",
        "            return v\n",
        "\n",
        "        # State transition by an action selected from bandit\n",
        "        node = self.nodes[key]\n",
        "        p = node.p\n",
        "        mask = np.zeros_like(p)\n",
        "        if depth == 0:\n",
        "            # Add noise to policy on the root node\n",
        "            p = 0.75 * p + 0.25 * np.random.dirichlet([0.15] * len(p))\n",
        "            # On the root node, we choose action only from legal actions\n",
        "            mask[state.legal_actions()] = 1\n",
        "            p *= mask\n",
        "            p /= p.sum() + 1e-16\n",
        "\n",
        "        n, q_sum = 1 + node.n, node.q_sum_all / node.n_all + node.q_sum\n",
        "        ucb = q_sum / n + 2.0 * np.sqrt(node.n_all) * p / n + mask * 4 # PUCB formula\n",
        "        best_action = np.argmax(ucb)\n",
        "\n",
        "        # Search next state by recursively calling this function\n",
        "        rp_next = self.net.dynamics.inference(rp, state.action_feature(best_action))\n",
        "        path.append(best_action)\n",
        "        q_new = -self.search(state, path, rp_next, depth + 1) # With the assumption of changing player by turn\n",
        "        node.update(best_action, q_new)\n",
        "\n",
        "        return q_new\n",
        "\n",
        "    def think(self, state, num_simulations, temperature = 0, show=False):\n",
        "        # End point of MCTS\n",
        "        if show:\n",
        "            print(state)\n",
        "        start, prev_time = time.time(), 0\n",
        "        for _ in range(num_simulations):\n",
        "            self.search(state, [], self.net.representation.inference(state.feature()), depth=0)\n",
        "\n",
        "            # Display search result on every second\n",
        "            if show:\n",
        "                tmp_time = time.time() - start\n",
        "                if int(tmp_time) > int(prev_time):\n",
        "                    prev_time = tmp_time\n",
        "                    root, pv = self.nodes[state.record_string()], self.pv(state)\n",
        "                    print('%.2f sec. best %s. q = %.4f. n = %d / %d. pv = %s'\n",
        "                          % (tmp_time, state.action2str(pv[0]), root.q_sum[pv[0]] / root.n[pv[0]],\n",
        "                             root.n[pv[0]], root.n_all, ' '.join([state.action2str(a) for a in pv])))\n",
        "\n",
        "        #  Return probability distribution weighted by the number of simulations\n",
        "        n = root = self.nodes[state.record_string()].n + 1\n",
        "        n = (n / np.max(n)) ** (1 / (temperature + 1e-8))\n",
        "        return n / n.sum()\n",
        "\n",
        "    def pv(self, state):\n",
        "        # Return principal variation (action sequence which is considered as the best)\n",
        "        s, pv_seq = copy.deepcopy(state), []\n",
        "        while True:\n",
        "            key = s.record_string()\n",
        "            if key not in self.nodes or self.nodes[key].n.sum() == 0:\n",
        "                break\n",
        "            best_action = sorted([(a, self.nodes[key].n[a]) for a in s.legal_actions()], key=lambda x: -x[1])[0][0]\n",
        "            pv_seq.append(best_action)\n",
        "            s.play(best_action)\n",
        "        return pv_seq\n",
        "\n",
        "class Node:\n",
        "    '''Search result of one abstract (or root) state'''\n",
        "    def __init__(self, p, v):\n",
        "        self.p, self.v = p, v\n",
        "        self.n, self.q_sum = np.zeros_like(p), np.zeros_like(p)\n",
        "        self.n_all, self.q_sum_all = 1, v / 2 # prior\n",
        "\n",
        "    def update(self, action, q_new):\n",
        "        # Update\n",
        "        self.n[action] += 1\n",
        "        self.q_sum[action] += q_new\n",
        "\n",
        "        # Update overall stats\n",
        "        self.n_all += 1\n",
        "        self.q_sum_all += q_new"
      ],
      "execution_count": null,
      "outputs": []
    },
    {
      "cell_type": "markdown",
      "metadata": {
        "id": "7x_JnFbR-E4D"
      },
      "source": [
        "Search with initialized net"
      ]
    },
    {
      "cell_type": "code",
      "metadata": {
        "scrolled": true,
        "colab": {
          "base_uri": "https://localhost:8080/"
        },
        "id": "v_vz07zd1LeE",
        "outputId": "899c5e2d-34a6-4806-c09b-1a09eda93297"
      },
      "source": [
        "state = State().tictactoe()\n",
        "\n",
        "tree = Tree(Net(state))\n",
        "tree.think(state, 100, show=True)\n",
        "\n",
        "tree = Tree(Net(state))\n",
        "tree.think(state.play('A1 C1 A2 C2'), 100, show=True)\n"
      ],
      "execution_count": null,
      "outputs": [
        {
          "output_type": "stream",
          "text": [
            "   1 2 3\n",
            "A _ _ _\n",
            "B _ _ _\n",
            "C _ _ _\n",
            "record = \n",
            "   1 2 3\n",
            "A O O _\n",
            "B _ _ _\n",
            "C X X _\n",
            "record = A1 C1 A2 C2\n"
          ],
          "name": "stdout"
        },
        {
          "output_type": "execute_result",
          "data": {
            "text/plain": [
              "array([0., 0., 0., 0., 0., 0., 0., 0., 1.], dtype=float32)"
            ]
          },
          "metadata": {
            "tags": []
          },
          "execution_count": 12
        }
      ]
    },
    {
      "cell_type": "markdown",
      "metadata": {
        "id": "xpVxBOV2-Hik"
      },
      "source": [
        "Training of neural net"
      ]
    },
    {
      "cell_type": "code",
      "metadata": {
        "id": "PijUuwGh1LeF"
      },
      "source": [
        "batch_size = 32\n",
        "num_steps = 100\n",
        "\n",
        "def gen_target(ep, k):\n",
        "    '''Generate inputs and targets for training'''\n",
        "    # path, reward, observation, action, policy\n",
        "    turn_idx = np.random.randint(len(ep[0]))\n",
        "    ps, vs, ax = [], [], []\n",
        "    for t in range(turn_idx, turn_idx + k + 1):\n",
        "        if t < len(ep[0]):\n",
        "            p = ep[4][t]\n",
        "            a = ep[3][t]\n",
        "        else: # state after finishing game\n",
        "            # p is 0 (loss is 0)\n",
        "            p = np.zeros_like(ep[4][-1])\n",
        "            # random action selection\n",
        "            a = np.zeros(np.prod(ep[3][-1].shape), dtype=np.float32)\n",
        "            a[np.random.randint(len(a))] = 1\n",
        "            a = a.reshape(ep[3][-1].shape)\n",
        "        vs.append([ep[1] if t % 2 == 0 else -ep[1]])\n",
        "        ps.append(p)\n",
        "        ax.append(a)\n",
        "        \n",
        "    return ep[2][turn_idx], ax, ps, vs\n",
        "\n",
        "def train(episodes, net, opt):\n",
        "    '''Train neural net'''\n",
        "    p_loss_sum, v_loss_sum = 0, 0\n",
        "    p_loss_l = []\n",
        "    v_loss_l = []\n",
        "    net.train()\n",
        "    k = 4\n",
        "    for _ in range(num_steps):\n",
        "        x, ax, p_target, v_target = zip(*[gen_target(episodes[np.random.randint(len(episodes))], k) for j in range(batch_size)])\n",
        "        x = torch.from_numpy(np.array(x))\n",
        "        ax = torch.from_numpy(np.array(ax))\n",
        "        p_target = torch.from_numpy(np.array(p_target))\n",
        "        v_target = torch.FloatTensor(np.array(v_target))\n",
        "\n",
        "        # Change the order of axis as [time step, batch, ...]\n",
        "        ax = torch.transpose(ax, 0, 1)\n",
        "        p_target = torch.transpose(p_target, 0, 1)\n",
        "        v_target = torch.transpose(v_target, 0, 1)\n",
        "\n",
        "        p_loss, v_loss = 0, 0\n",
        "\n",
        "        # Compute losses for k (+ current) steps\n",
        "        for t in range(k + 1):\n",
        "            rp = net.representation(x) if t == 0 else net.dynamics(rp, ax[t - 1])\n",
        "            p, v = net.prediction(rp)\n",
        "            p_loss += torch.sum(-p_target[t] * torch.log(p))\n",
        "            v_loss += torch.sum((v_target[t] - v) ** 2)\n",
        "\n",
        "        p_loss_sum += p_loss.item()\n",
        "        v_loss_sum += v_loss.item()\n",
        "\n",
        "        optimizer.zero_grad()\n",
        "        (p_loss + v_loss).backward()\n",
        "        optimizer.step()\n",
        "\n",
        "    num_train_datum = num_steps * batch_size\n",
        "    print('p_loss %f v_loss %f' % (p_loss_sum / num_train_datum, v_loss_sum / num_train_datum))\n",
        "    return net,p_loss_sum, v_loss_sum"
      ],
      "execution_count": null,
      "outputs": []
    },
    {
      "cell_type": "markdown",
      "metadata": {
        "id": "O75aD2Bf-LHS"
      },
      "source": [
        "# **Battle against random agents**"
      ]
    },
    {
      "cell_type": "code",
      "metadata": {
        "id": "nYXkTlt81LeF"
      },
      "source": [
        "def vs_random(net, n=100):\n",
        "    results = {}\n",
        "    for i in range(n):\n",
        "        first_turn = i % 2 == 0\n",
        "        turn = first_turn\n",
        "        state =  State().tictactoe()\n",
        "        while not state.terminal():\n",
        "            if turn:\n",
        "                p, _ = net.predict(state, [])[-1]\n",
        "                action = sorted([(a, p[a]) for a in state.legal_actions()], key=lambda x:-x[1])[0][0]\n",
        "            else:\n",
        "                action = np.random.choice(state.legal_actions())\n",
        "            state.play(action)\n",
        "            turn = not turn\n",
        "        r = state.terminal_reward() if turn else -state.terminal_reward()\n",
        "        results[r] = results.get(r, 0) + 1\n",
        "    return results"
      ],
      "execution_count": null,
      "outputs": []
    },
    {
      "cell_type": "markdown",
      "metadata": {
        "id": "NsoC4XWT-OWL"
      },
      "source": [
        "Main algorithm of MuZero vs random agent"
      ]
    },
    {
      "cell_type": "code",
      "metadata": {
        "scrolled": true,
        "colab": {
          "base_uri": "https://localhost:8080/"
        },
        "id": "LwKvPfDQ1LeG",
        "outputId": "9aa80f9e-e773-4cce-d4a0-41a6b35025e0"
      },
      "source": [
        "num_games = 6000\n",
        "num_games_one_epoch = 50\n",
        "num_simulations = 50\n",
        "\n",
        "state_ttt = State().tictactoe()\n",
        "net = Net(state_ttt)\n",
        "optimizer = optim.SGD(net.parameters(), lr=3e-4, weight_decay=3e-5, momentum=0.8)\n",
        "\n",
        "# Display battle results as {-1: lose 0: draw 1: win} (for episode generated for training, 1 means that the first player won)\n",
        "vs_random_sum = vs_random(net)\n",
        "print('vs_random = ', sorted(vs_random_sum.items()))\n",
        "\n",
        "episodes = []\n",
        "result_distribution = {1: 0, 0: 0, -1: 0}\n",
        "plot_sum=[]\n",
        "plot_loss = []\n",
        "plot_value = []\n",
        "\n",
        "for g in range(num_games):\n",
        "    # Generate one episode\n",
        "    record, p_targets, features, action_features = [], [], [], []\n",
        "    #print(state)\n",
        "\n",
        "    state = State().tictactoe()\n",
        "    # temperature using to make policy targets from search results\n",
        "    temperature = 0.7\n",
        "    while not state.terminal():\n",
        "        tree = Tree(net)\n",
        "        p_target = tree.think(state, num_simulations, temperature)\n",
        "        p_targets.append(p_target)\n",
        "        features.append(state.feature())\n",
        "        # Select action with generated distribution, and then make a transition by that action\n",
        "        action = np.random.choice(np.arange(len(p_target)), p=p_target)\n",
        "        action_features.append(state.action_feature(action))\n",
        "        state.play(action)\n",
        "        record.append(action)\n",
        "        temperature *= 0.8\n",
        "    # reward seen from the first turn player\n",
        "    reward = state.terminal_reward() * (1 if len(record) % 2 == 0 else -1)\n",
        "    result_distribution[reward] += 1\n",
        "    episodes.append((record, reward, features, action_features, p_targets))\n",
        "    if g % num_games_one_epoch == 0:\n",
        "        print('game ', end='')\n",
        "    print(g, ' ', end='')\n",
        "\n",
        "    # Training of neural net\n",
        "    if (g + 1) % num_games_one_epoch == 0:\n",
        "        # Show the result distributiuon of generated episodes\n",
        "        #print('generated = ', sorted(result_distribution.items()))\n",
        "        net,loss,value = train(episodes, net, optimizer)\n",
        "        plot_loss.append(loss)\n",
        "        plot_value.append(value)\n",
        "\n",
        "        vs_random_once = vs_random(net)\n",
        "        #print('vs_random = ', sorted(vs_random_once.items()), end='')\n",
        "        for r, n in vs_random_once.items():\n",
        "            vs_random_sum[r] += n\n",
        "        #print(' sum = ', sorted(vs_random_sum.items()))\n",
        "        plot_sum.append(vs_random_once.items())\n",
        "\n",
        "        #show_net(net, State().tictactoe())\n",
        "        #show_net(net, State().play('A1 C1 A2 C2'))\n",
        "        #show_net(net, State().play('A1 B2 C3 B3 C1'))\n",
        "        #show_net(net, State().play('B2 A2 A3 C1 B3'))\n",
        "        #show_net(net, State().play('B2 A2 A3 C1'))\n",
        "print('finished')"
      ],
      "execution_count": null,
      "outputs": [
        {
          "output_type": "stream",
          "text": [
            "vs_random =  [(-1, 36), (0, 16), (1, 48)]\n",
            "game 0  1  2  3  4  5  6  7  8  9  10  11  12  13  14  15  16  17  18  19  20  21  22  23  24  25  26  27  28  29  30  31  32  33  34  35  36  37  38  39  40  41  42  43  44  45  46  47  48  49  p_loss 7.754660 v_loss 3.156447\n",
            "game 50  51  52  53  54  55  56  57  58  59  60  61  62  63  64  65  66  67  68  69  70  71  72  73  74  75  76  77  78  79  80  81  82  83  84  85  86  87  88  89  90  91  92  93  94  95  96  97  98  99  p_loss 6.875947 v_loss 2.788024\n",
            "game 100  101  102  103  104  105  106  107  108  109  110  111  112  113  114  115  116  117  118  119  120  121  122  123  124  125  126  127  128  129  130  131  132  133  134  135  136  137  138  139  140  141  142  143  144  145  146  147  148  149  p_loss 6.565114 v_loss 2.998505\n",
            "game 150  151  152  153  154  155  156  157  158  159  160  161  162  163  164  165  166  167  168  169  170  171  172  173  174  175  176  177  178  179  180  181  182  183  184  185  186  187  188  189  190  191  192  193  194  195  196  197  198  199  p_loss 6.308366 v_loss 3.176653\n",
            "game 200  201  202  203  204  205  206  207  208  209  210  211  212  213  214  215  216  217  218  219  220  221  222  223  224  225  226  227  228  229  230  231  232  233  234  235  236  237  238  239  240  241  242  243  244  245  246  247  248  249  p_loss 5.662229 v_loss 3.350109\n",
            "game 250  251  252  253  254  255  256  257  258  259  260  261  262  263  264  265  266  267  268  269  270  271  272  273  274  275  276  277  278  279  280  281  282  283  284  285  286  287  288  289  290  291  292  293  294  295  296  297  298  299  p_loss 5.490370 v_loss 3.155261\n",
            "game 300  301  302  303  304  305  306  307  308  309  310  311  312  313  314  315  316  317  318  319  320  321  322  323  324  325  326  327  328  329  330  331  332  333  334  335  336  337  338  339  340  341  342  343  344  345  346  347  348  349  p_loss 5.272645 v_loss 3.303200\n",
            "game 350  351  352  353  354  355  356  357  358  359  360  361  362  363  364  365  366  367  368  369  370  371  372  373  374  375  376  377  378  379  380  381  382  383  384  385  386  387  388  389  390  391  392  393  394  395  396  397  398  399  p_loss 5.311876 v_loss 3.209173\n",
            "game 400  401  402  403  404  405  406  407  408  409  410  411  412  413  414  415  416  417  418  419  420  421  422  423  424  425  426  427  428  429  430  431  432  433  434  435  436  437  438  439  440  441  442  443  444  445  446  447  448  449  p_loss 5.155025 v_loss 3.092938\n",
            "game 450  451  452  453  454  455  456  457  458  459  460  461  462  463  464  465  466  467  468  469  470  471  472  473  474  475  476  477  478  479  480  481  482  483  484  485  486  487  488  489  490  491  492  493  494  495  496  497  498  499  p_loss 5.055113 v_loss 3.094553\n",
            "game 500  501  502  503  504  505  506  507  508  509  510  511  512  513  514  515  516  517  518  519  520  521  522  523  524  525  526  527  528  529  530  531  532  533  534  535  536  537  538  539  540  541  542  543  544  545  546  547  548  549  p_loss 4.951580 v_loss 3.029870\n",
            "game 550  551  552  553  554  555  556  557  558  559  560  561  562  563  564  565  566  567  568  569  570  571  572  573  574  575  576  577  578  579  580  581  582  583  584  585  586  587  588  589  590  591  592  593  594  595  596  597  598  599  p_loss 4.939600 v_loss 3.142084\n",
            "game 600  601  602  603  604  605  606  607  608  609  610  611  612  613  614  615  616  617  618  619  620  621  622  623  624  625  626  627  628  629  630  631  632  633  634  635  636  637  638  639  640  641  642  643  644  645  646  647  648  649  p_loss 4.945839 v_loss 3.094528\n",
            "game 650  651  652  653  654  655  656  657  658  659  660  661  662  663  664  665  666  667  668  669  670  671  672  673  674  675  676  677  678  679  680  681  682  683  684  685  686  687  688  689  690  691  692  693  694  695  696  697  698  699  p_loss 4.828207 v_loss 3.022299\n",
            "game 700  701  702  703  704  705  706  707  708  709  710  711  712  713  714  715  716  717  718  719  720  721  722  723  724  725  726  727  728  729  730  731  732  733  734  735  736  737  738  739  740  741  742  743  744  745  746  747  748  749  p_loss 4.784328 v_loss 3.062257\n",
            "game 750  751  752  753  754  755  756  757  758  759  760  761  762  763  764  765  766  767  768  769  770  771  772  773  774  775  776  777  778  779  780  781  782  783  784  785  786  787  788  789  790  791  792  793  794  795  796  797  798  799  p_loss 4.790879 v_loss 3.033463\n",
            "game 800  801  802  803  804  805  806  807  808  809  810  811  812  813  814  815  816  817  818  819  820  821  822  823  824  825  826  827  828  829  830  831  832  833  834  835  836  837  838  839  840  841  842  843  844  845  846  847  848  849  p_loss 4.735674 v_loss 3.007334\n",
            "game 850  851  852  853  854  855  856  857  858  859  860  861  862  863  864  865  866  867  868  869  870  871  872  873  874  875  876  877  878  879  880  881  882  883  884  885  886  887  888  889  890  891  892  893  894  895  896  897  898  899  p_loss 4.737837 v_loss 2.995462\n",
            "game 900  901  902  903  904  905  906  907  908  909  910  911  912  913  914  915  916  917  918  919  920  921  922  923  924  925  926  927  928  929  930  931  932  933  934  935  936  937  938  939  940  941  942  943  944  945  946  947  948  949  p_loss 4.683451 v_loss 2.876406\n",
            "game 950  951  952  953  954  955  956  957  958  959  960  961  962  963  964  965  966  967  968  969  970  971  972  973  974  975  976  977  978  979  980  981  982  983  984  985  986  987  988  989  990  991  992  993  994  995  996  997  998  999  p_loss 4.679212 v_loss 2.871940\n",
            "game 1000  1001  1002  1003  1004  1005  1006  1007  1008  1009  1010  1011  1012  1013  1014  1015  1016  1017  1018  1019  1020  1021  1022  1023  1024  1025  1026  1027  1028  1029  1030  1031  1032  1033  1034  1035  1036  1037  1038  1039  1040  1041  1042  1043  1044  1045  1046  1047  1048  1049  p_loss 4.668014 v_loss 2.795030\n",
            "game 1050  1051  1052  1053  1054  1055  1056  1057  1058  1059  1060  1061  1062  1063  1064  1065  1066  1067  1068  1069  1070  1071  1072  1073  1074  1075  1076  1077  1078  1079  1080  1081  1082  1083  1084  1085  1086  1087  1088  1089  1090  1091  1092  1093  1094  1095  1096  1097  1098  1099  p_loss 4.606096 v_loss 2.782656\n",
            "game 1100  1101  1102  1103  1104  1105  1106  1107  1108  1109  1110  1111  1112  1113  1114  1115  1116  1117  1118  1119  1120  1121  1122  1123  1124  1125  1126  1127  1128  1129  1130  1131  1132  1133  1134  1135  1136  1137  1138  1139  1140  1141  1142  1143  1144  1145  1146  1147  1148  1149  p_loss 4.646244 v_loss 2.755026\n",
            "game 1150  1151  1152  1153  1154  1155  1156  1157  1158  1159  1160  1161  1162  1163  1164  1165  1166  1167  1168  1169  1170  1171  1172  1173  1174  1175  1176  1177  1178  1179  1180  1181  1182  1183  1184  1185  1186  1187  1188  1189  1190  1191  1192  1193  1194  1195  1196  1197  1198  1199  p_loss 4.651270 v_loss 2.771929\n",
            "game 1200  1201  1202  1203  1204  1205  1206  1207  1208  1209  1210  1211  1212  1213  1214  1215  1216  1217  1218  1219  1220  1221  1222  1223  1224  1225  1226  1227  1228  1229  1230  1231  1232  1233  1234  1235  1236  1237  1238  1239  1240  1241  1242  1243  1244  1245  1246  1247  1248  1249  p_loss 4.681446 v_loss 2.652800\n",
            "game 1250  1251  1252  1253  1254  1255  1256  1257  1258  1259  1260  1261  1262  1263  1264  1265  1266  1267  1268  1269  1270  1271  1272  1273  1274  1275  1276  1277  1278  1279  1280  1281  1282  1283  1284  1285  1286  1287  1288  1289  1290  1291  1292  1293  1294  1295  1296  1297  1298  1299  p_loss 4.572813 v_loss 2.622625\n",
            "game 1300  1301  1302  1303  1304  1305  1306  1307  1308  1309  1310  1311  1312  1313  1314  1315  1316  1317  1318  1319  1320  1321  1322  1323  1324  1325  1326  1327  1328  1329  1330  1331  1332  1333  1334  1335  1336  1337  1338  1339  1340  1341  1342  1343  1344  1345  1346  1347  1348  1349  p_loss 4.592614 v_loss 2.648485\n",
            "game 1350  1351  1352  1353  1354  1355  1356  1357  1358  1359  1360  1361  1362  1363  1364  1365  1366  1367  1368  1369  1370  1371  1372  1373  1374  1375  1376  1377  1378  1379  1380  1381  1382  1383  1384  1385  1386  1387  1388  1389  1390  1391  1392  1393  1394  1395  1396  1397  1398  1399  p_loss 4.479899 v_loss 2.607137\n",
            "game 1400  1401  1402  1403  1404  1405  1406  1407  1408  1409  1410  1411  1412  1413  1414  1415  1416  1417  1418  1419  1420  1421  1422  1423  1424  1425  1426  1427  1428  1429  1430  1431  1432  1433  1434  1435  1436  1437  1438  1439  1440  1441  1442  1443  1444  1445  1446  1447  1448  1449  p_loss 4.583553 v_loss 2.469977\n",
            "game 1450  1451  1452  1453  1454  1455  1456  1457  1458  1459  1460  1461  1462  1463  1464  1465  1466  1467  1468  1469  1470  1471  1472  1473  1474  1475  1476  1477  1478  1479  1480  1481  1482  1483  1484  1485  1486  1487  1488  1489  1490  1491  1492  1493  1494  1495  1496  1497  1498  1499  p_loss 4.484033 v_loss 2.534938\n",
            "game 1500  1501  1502  1503  1504  1505  1506  1507  1508  1509  1510  1511  1512  1513  1514  1515  1516  1517  1518  1519  1520  1521  1522  1523  1524  1525  1526  1527  1528  1529  1530  1531  1532  1533  1534  1535  1536  1537  1538  1539  1540  1541  1542  1543  1544  1545  1546  1547  1548  1549  p_loss 4.572358 v_loss 2.439478\n",
            "game 1550  1551  1552  1553  1554  1555  1556  1557  1558  1559  1560  1561  1562  1563  1564  1565  1566  1567  1568  1569  1570  1571  1572  1573  1574  1575  1576  1577  1578  1579  1580  1581  1582  1583  1584  1585  1586  1587  1588  1589  1590  1591  1592  1593  1594  1595  1596  1597  1598  1599  p_loss 4.555381 v_loss 2.382950\n",
            "game 1600  1601  1602  1603  1604  1605  1606  1607  1608  1609  1610  1611  1612  1613  1614  1615  1616  1617  1618  1619  1620  1621  1622  1623  1624  1625  1626  1627  1628  1629  1630  1631  1632  1633  1634  1635  1636  1637  1638  1639  1640  1641  1642  1643  1644  1645  1646  1647  1648  1649  p_loss 4.408124 v_loss 2.412340\n",
            "game 1650  1651  1652  1653  1654  1655  1656  1657  1658  1659  1660  1661  1662  1663  1664  1665  1666  1667  1668  1669  1670  1671  1672  1673  1674  1675  1676  1677  1678  1679  1680  1681  1682  1683  1684  1685  1686  1687  1688  1689  1690  1691  1692  1693  1694  1695  1696  1697  1698  1699  p_loss 4.452267 v_loss 2.405214\n",
            "game 1700  1701  1702  1703  1704  1705  1706  1707  1708  1709  1710  1711  1712  1713  1714  1715  1716  1717  1718  1719  1720  1721  1722  1723  1724  1725  1726  1727  1728  1729  1730  1731  1732  1733  1734  1735  1736  1737  1738  1739  1740  1741  1742  1743  1744  1745  1746  1747  1748  1749  p_loss 4.519978 v_loss 2.479265\n",
            "game 1750  1751  1752  1753  1754  1755  1756  1757  1758  1759  1760  1761  1762  1763  1764  1765  1766  1767  1768  1769  1770  1771  1772  1773  1774  1775  1776  1777  1778  1779  1780  1781  1782  1783  1784  1785  1786  1787  1788  1789  1790  1791  1792  1793  1794  1795  1796  1797  1798  1799  p_loss 4.416928 v_loss 2.371092\n",
            "game 1800  1801  1802  1803  1804  1805  1806  1807  1808  1809  1810  1811  1812  1813  1814  1815  1816  1817  1818  1819  1820  1821  1822  1823  1824  1825  1826  1827  1828  1829  1830  1831  1832  1833  1834  1835  1836  1837  1838  1839  1840  1841  1842  1843  1844  1845  1846  1847  1848  1849  p_loss 4.456499 v_loss 2.266318\n",
            "game 1850  1851  1852  1853  1854  1855  1856  1857  1858  1859  1860  1861  1862  1863  1864  1865  1866  1867  1868  1869  1870  1871  1872  1873  1874  1875  1876  1877  1878  1879  1880  1881  1882  1883  1884  1885  1886  1887  1888  1889  1890  1891  1892  1893  1894  1895  1896  1897  1898  1899  p_loss 4.432062 v_loss 2.286396\n",
            "game 1900  1901  1902  1903  1904  1905  1906  1907  1908  1909  1910  1911  1912  1913  1914  1915  1916  1917  1918  1919  1920  1921  1922  1923  1924  1925  1926  1927  1928  1929  1930  1931  1932  1933  1934  1935  1936  1937  1938  1939  1940  1941  1942  1943  1944  1945  1946  1947  1948  1949  p_loss 4.380789 v_loss 2.232640\n",
            "game 1950  1951  1952  1953  1954  1955  1956  1957  1958  1959  1960  1961  1962  1963  1964  1965  1966  1967  1968  1969  1970  1971  1972  1973  1974  1975  1976  1977  1978  1979  1980  1981  1982  1983  1984  1985  1986  1987  1988  1989  1990  1991  1992  1993  1994  1995  1996  1997  1998  1999  p_loss 4.374909 v_loss 2.159257\n",
            "game 2000  2001  2002  2003  2004  2005  2006  2007  2008  2009  2010  2011  2012  2013  2014  2015  2016  2017  2018  2019  2020  2021  2022  2023  2024  2025  2026  2027  2028  2029  2030  2031  2032  2033  2034  2035  2036  2037  2038  2039  2040  2041  2042  2043  2044  2045  2046  2047  2048  2049  p_loss 4.358963 v_loss 2.095132\n",
            "game 2050  2051  2052  2053  2054  2055  2056  2057  2058  2059  2060  2061  2062  2063  2064  2065  2066  2067  2068  2069  2070  2071  2072  2073  2074  2075  2076  2077  2078  2079  2080  2081  2082  2083  2084  2085  2086  2087  2088  2089  2090  2091  2092  2093  2094  2095  2096  2097  2098  2099  p_loss 4.270499 v_loss 2.144804\n",
            "game 2100  2101  2102  2103  2104  2105  2106  2107  2108  2109  2110  2111  2112  2113  2114  2115  2116  2117  2118  2119  2120  2121  2122  2123  2124  2125  2126  2127  2128  2129  2130  2131  2132  2133  2134  2135  2136  2137  2138  2139  2140  2141  2142  2143  2144  2145  2146  2147  2148  2149  p_loss 4.252789 v_loss 2.116138\n",
            "game 2150  2151  2152  2153  2154  2155  2156  2157  2158  2159  2160  2161  2162  2163  2164  2165  2166  2167  2168  2169  2170  2171  2172  2173  2174  2175  2176  2177  2178  2179  2180  2181  2182  2183  2184  2185  2186  2187  2188  2189  2190  2191  2192  2193  2194  2195  2196  2197  2198  2199  p_loss 4.304601 v_loss 2.018332\n",
            "game 2200  2201  2202  2203  2204  2205  2206  2207  2208  2209  2210  2211  2212  2213  2214  2215  2216  2217  2218  2219  2220  2221  2222  2223  2224  2225  2226  2227  2228  2229  2230  2231  2232  2233  2234  2235  2236  2237  2238  2239  2240  2241  2242  2243  2244  2245  2246  2247  2248  2249  p_loss 4.310192 v_loss 2.132121\n",
            "game 2250  2251  2252  2253  2254  2255  2256  2257  2258  2259  2260  2261  2262  2263  2264  2265  2266  2267  2268  2269  2270  2271  2272  2273  2274  2275  2276  2277  2278  2279  2280  2281  2282  2283  2284  2285  2286  2287  2288  2289  2290  2291  2292  2293  2294  2295  2296  2297  2298  2299  p_loss 4.260628 v_loss 2.055443\n",
            "game 2300  2301  2302  2303  2304  2305  2306  2307  2308  2309  2310  2311  2312  2313  2314  2315  2316  2317  2318  2319  2320  2321  2322  2323  2324  2325  2326  2327  2328  2329  2330  2331  2332  2333  2334  2335  2336  2337  2338  2339  2340  2341  2342  2343  2344  2345  2346  2347  2348  2349  p_loss 4.277388 v_loss 2.051694\n",
            "game 2350  2351  2352  2353  2354  2355  2356  2357  2358  2359  2360  2361  2362  2363  2364  2365  2366  2367  2368  2369  2370  2371  2372  2373  2374  2375  2376  2377  2378  2379  2380  2381  2382  2383  2384  2385  2386  2387  2388  2389  2390  2391  2392  2393  2394  2395  2396  2397  2398  2399  p_loss 4.102865 v_loss 2.006402\n",
            "game 2400  2401  2402  2403  2404  2405  2406  2407  2408  2409  2410  2411  2412  2413  2414  2415  2416  2417  2418  2419  2420  2421  2422  2423  2424  2425  2426  2427  2428  2429  2430  2431  2432  2433  2434  2435  2436  2437  2438  2439  2440  2441  2442  2443  2444  2445  2446  2447  2448  2449  p_loss 4.176923 v_loss 2.001810\n",
            "game 2450  2451  2452  2453  2454  2455  2456  2457  2458  2459  2460  2461  2462  2463  2464  2465  2466  2467  2468  2469  2470  2471  2472  2473  2474  2475  2476  2477  2478  2479  2480  2481  2482  2483  2484  2485  2486  2487  2488  2489  2490  2491  2492  2493  2494  2495  2496  2497  2498  2499  p_loss 4.176956 v_loss 1.947316\n",
            "game 2500  2501  2502  2503  2504  2505  2506  2507  2508  2509  2510  2511  2512  2513  2514  2515  2516  2517  2518  2519  2520  2521  2522  2523  2524  2525  2526  2527  2528  2529  2530  2531  2532  2533  2534  2535  2536  2537  2538  2539  2540  2541  2542  2543  2544  2545  2546  2547  2548  2549  p_loss 4.151509 v_loss 1.941676\n",
            "game 2550  2551  2552  2553  2554  2555  2556  2557  2558  2559  2560  2561  2562  2563  2564  2565  2566  2567  2568  2569  2570  2571  2572  2573  2574  2575  2576  2577  2578  2579  2580  2581  2582  2583  2584  2585  2586  2587  2588  2589  2590  2591  2592  2593  2594  2595  2596  2597  2598  2599  p_loss 4.142009 v_loss 1.965554\n",
            "game 2600  2601  2602  2603  2604  2605  2606  2607  2608  2609  2610  2611  2612  2613  2614  2615  2616  2617  2618  2619  2620  2621  2622  2623  2624  2625  2626  2627  2628  2629  2630  2631  2632  2633  2634  2635  2636  2637  2638  2639  2640  2641  2642  2643  2644  2645  2646  2647  2648  2649  p_loss 4.186767 v_loss 1.914295\n",
            "game 2650  2651  2652  2653  2654  2655  2656  2657  2658  2659  2660  2661  2662  2663  2664  2665  2666  2667  2668  2669  2670  2671  2672  2673  2674  2675  2676  2677  2678  2679  2680  2681  2682  2683  2684  2685  2686  2687  2688  2689  2690  2691  2692  2693  2694  2695  2696  2697  2698  2699  p_loss 4.133921 v_loss 1.869013\n",
            "game 2700  2701  2702  2703  2704  2705  2706  2707  2708  2709  2710  2711  2712  2713  2714  2715  2716  2717  2718  2719  2720  2721  2722  2723  2724  2725  2726  2727  2728  2729  2730  2731  2732  2733  2734  2735  2736  2737  2738  2739  2740  2741  2742  2743  2744  2745  2746  2747  2748  2749  p_loss 4.080963 v_loss 1.840145\n",
            "game 2750  2751  2752  2753  2754  2755  2756  2757  2758  2759  2760  2761  2762  2763  2764  2765  2766  2767  2768  2769  2770  2771  2772  2773  2774  2775  2776  2777  2778  2779  2780  2781  2782  2783  2784  2785  2786  2787  2788  2789  2790  2791  2792  2793  2794  2795  2796  2797  2798  2799  p_loss 4.152015 v_loss 1.910713\n",
            "game 2800  2801  2802  2803  2804  2805  2806  2807  2808  2809  2810  2811  2812  2813  2814  2815  2816  2817  2818  2819  2820  2821  2822  2823  2824  2825  2826  2827  2828  2829  2830  2831  2832  2833  2834  2835  2836  2837  2838  2839  2840  2841  2842  2843  2844  2845  2846  2847  2848  2849  p_loss 4.134004 v_loss 1.873253\n",
            "game 2850  2851  2852  2853  2854  2855  2856  2857  2858  2859  2860  2861  2862  2863  2864  2865  2866  2867  2868  2869  2870  2871  2872  2873  2874  2875  2876  2877  2878  2879  2880  2881  2882  2883  2884  2885  2886  2887  2888  2889  2890  2891  2892  2893  2894  2895  2896  2897  2898  2899  p_loss 4.064226 v_loss 1.831972\n",
            "game 2900  2901  2902  2903  2904  2905  2906  2907  2908  2909  2910  2911  2912  2913  2914  2915  2916  2917  2918  2919  2920  2921  2922  2923  2924  2925  2926  2927  2928  2929  2930  2931  2932  2933  2934  2935  2936  2937  2938  2939  2940  2941  2942  2943  2944  2945  2946  2947  2948  2949  p_loss 4.040708 v_loss 1.814429\n",
            "game 2950  2951  2952  2953  2954  2955  2956  2957  2958  2959  2960  2961  2962  2963  2964  2965  2966  2967  2968  2969  2970  2971  2972  2973  2974  2975  2976  2977  2978  2979  2980  2981  2982  2983  2984  2985  2986  2987  2988  2989  2990  2991  2992  2993  2994  2995  2996  2997  2998  2999  p_loss 3.959226 v_loss 1.703005\n",
            "game 3000  3001  3002  3003  3004  3005  3006  3007  3008  3009  3010  3011  3012  3013  3014  3015  3016  3017  3018  3019  3020  3021  3022  3023  3024  3025  3026  3027  3028  3029  3030  3031  3032  3033  3034  3035  3036  3037  3038  3039  3040  3041  3042  3043  3044  3045  3046  3047  3048  3049  p_loss 4.027356 v_loss 1.807226\n",
            "game 3050  3051  3052  3053  3054  3055  3056  3057  3058  3059  3060  3061  3062  3063  3064  3065  3066  3067  3068  3069  3070  3071  3072  3073  3074  3075  3076  3077  3078  3079  3080  3081  3082  3083  3084  3085  3086  3087  3088  3089  3090  3091  3092  3093  3094  3095  3096  3097  3098  3099  p_loss 4.059404 v_loss 1.835434\n",
            "game 3100  3101  3102  3103  3104  3105  3106  3107  3108  3109  3110  3111  3112  3113  3114  3115  3116  3117  3118  3119  3120  3121  3122  3123  3124  3125  3126  3127  3128  3129  3130  3131  3132  3133  3134  3135  3136  3137  3138  3139  3140  3141  3142  3143  3144  3145  3146  3147  3148  3149  p_loss 3.985408 v_loss 1.795058\n",
            "game 3150  3151  3152  3153  3154  3155  3156  3157  3158  3159  3160  3161  3162  3163  3164  3165  3166  3167  3168  3169  3170  3171  3172  3173  3174  3175  3176  3177  3178  3179  3180  3181  3182  3183  3184  3185  3186  3187  3188  3189  3190  3191  3192  3193  3194  3195  3196  3197  3198  3199  p_loss 3.953567 v_loss 1.794427\n",
            "game 3200  3201  3202  3203  3204  3205  3206  3207  3208  3209  3210  3211  3212  3213  3214  3215  3216  3217  3218  3219  3220  3221  3222  3223  3224  3225  3226  3227  3228  3229  3230  3231  3232  3233  3234  3235  3236  3237  3238  3239  3240  3241  3242  3243  3244  3245  3246  3247  3248  3249  p_loss 3.949529 v_loss 1.648810\n",
            "game 3250  3251  3252  3253  3254  3255  3256  3257  3258  3259  3260  3261  3262  3263  3264  3265  3266  3267  3268  3269  3270  3271  3272  3273  3274  3275  3276  3277  3278  3279  3280  3281  3282  3283  3284  3285  3286  3287  3288  3289  3290  3291  3292  3293  3294  3295  3296  3297  3298  3299  p_loss 3.942269 v_loss 1.713303\n",
            "game 3300  3301  3302  3303  3304  3305  3306  3307  3308  3309  3310  3311  3312  3313  3314  3315  3316  3317  3318  3319  3320  3321  3322  3323  3324  3325  3326  3327  3328  3329  3330  3331  3332  3333  3334  3335  3336  3337  3338  3339  3340  3341  3342  3343  3344  3345  3346  3347  3348  3349  p_loss 3.959023 v_loss 1.776813\n",
            "game 3350  3351  3352  3353  3354  3355  3356  3357  3358  3359  3360  3361  3362  3363  3364  3365  3366  3367  3368  3369  3370  3371  3372  3373  3374  3375  3376  3377  3378  3379  3380  3381  3382  3383  3384  3385  3386  3387  3388  3389  3390  3391  3392  3393  3394  3395  3396  3397  3398  3399  p_loss 3.838096 v_loss 1.606021\n",
            "game 3400  3401  3402  3403  3404  3405  3406  3407  3408  3409  3410  3411  3412  3413  3414  3415  3416  3417  3418  3419  3420  3421  3422  3423  3424  3425  3426  3427  3428  3429  3430  3431  3432  3433  3434  3435  3436  3437  3438  3439  3440  3441  3442  3443  3444  3445  3446  3447  3448  3449  p_loss 3.820444 v_loss 1.649599\n",
            "game 3450  3451  3452  3453  3454  3455  3456  3457  3458  3459  3460  3461  3462  3463  3464  3465  3466  3467  3468  3469  3470  3471  3472  3473  3474  3475  3476  3477  3478  3479  3480  3481  3482  3483  3484  3485  3486  3487  3488  3489  3490  3491  3492  3493  3494  3495  3496  3497  3498  3499  p_loss 3.888230 v_loss 1.723284\n",
            "game 3500  3501  3502  3503  3504  3505  3506  3507  3508  3509  3510  3511  3512  3513  3514  3515  3516  3517  3518  3519  3520  3521  3522  3523  3524  3525  3526  3527  3528  3529  3530  3531  3532  3533  3534  3535  3536  3537  3538  3539  3540  3541  3542  3543  3544  3545  3546  3547  3548  3549  p_loss 3.845085 v_loss 1.694767\n",
            "game 3550  3551  3552  3553  3554  3555  3556  3557  3558  3559  3560  3561  3562  3563  3564  3565  3566  3567  3568  3569  3570  3571  3572  3573  3574  3575  3576  3577  3578  3579  3580  3581  3582  3583  3584  3585  3586  3587  3588  3589  3590  3591  3592  3593  3594  3595  3596  3597  3598  3599  p_loss 3.808854 v_loss 1.672104\n",
            "game 3600  3601  3602  3603  3604  3605  3606  3607  3608  3609  3610  3611  3612  3613  3614  3615  3616  3617  3618  3619  3620  3621  3622  3623  3624  3625  3626  3627  3628  3629  3630  3631  3632  3633  3634  3635  3636  3637  3638  3639  3640  3641  3642  3643  3644  3645  3646  3647  3648  3649  p_loss 3.783798 v_loss 1.658328\n",
            "game 3650  3651  3652  3653  3654  3655  3656  3657  3658  3659  3660  3661  3662  3663  3664  3665  3666  3667  3668  3669  3670  3671  3672  3673  3674  3675  3676  3677  3678  3679  3680  3681  3682  3683  3684  3685  3686  3687  3688  3689  3690  3691  3692  3693  3694  3695  3696  3697  3698  3699  p_loss 3.750758 v_loss 1.663033\n",
            "game 3700  3701  3702  3703  3704  3705  3706  3707  3708  3709  3710  3711  3712  3713  3714  3715  3716  3717  3718  3719  3720  3721  3722  3723  3724  3725  3726  3727  3728  3729  3730  3731  3732  3733  3734  3735  3736  3737  3738  3739  3740  3741  3742  3743  3744  3745  3746  3747  3748  3749  p_loss 3.710585 v_loss 1.636680\n",
            "game 3750  3751  3752  3753  3754  3755  3756  3757  3758  3759  3760  3761  3762  3763  3764  3765  3766  3767  3768  3769  3770  3771  3772  3773  3774  3775  3776  3777  3778  3779  3780  3781  3782  3783  3784  3785  3786  3787  3788  3789  3790  3791  3792  3793  3794  3795  3796  3797  3798  3799  p_loss 3.796733 v_loss 1.583152\n",
            "game 3800  3801  3802  3803  3804  3805  3806  3807  3808  3809  3810  3811  3812  3813  3814  3815  3816  3817  3818  3819  3820  3821  3822  3823  3824  3825  3826  3827  3828  3829  3830  3831  3832  3833  3834  3835  3836  3837  3838  3839  3840  3841  3842  3843  3844  3845  3846  3847  3848  3849  p_loss 3.749965 v_loss 1.497689\n",
            "game 3850  3851  3852  3853  3854  3855  3856  3857  3858  3859  3860  3861  3862  3863  3864  3865  3866  3867  3868  3869  3870  3871  3872  3873  3874  3875  3876  3877  3878  3879  3880  3881  3882  3883  3884  3885  3886  3887  3888  3889  3890  3891  3892  3893  3894  3895  3896  3897  3898  3899  p_loss 3.602089 v_loss 1.549870\n",
            "game 3900  3901  3902  3903  3904  3905  3906  3907  3908  3909  3910  3911  3912  3913  3914  3915  3916  3917  3918  3919  3920  3921  3922  3923  3924  3925  3926  3927  3928  3929  3930  3931  3932  3933  3934  3935  3936  3937  3938  3939  3940  3941  3942  3943  3944  3945  3946  3947  3948  3949  p_loss 3.792165 v_loss 1.551785\n",
            "game 3950  3951  3952  3953  3954  3955  3956  3957  3958  3959  3960  3961  3962  3963  3964  3965  3966  3967  3968  3969  3970  3971  3972  3973  3974  3975  3976  3977  3978  3979  3980  3981  3982  3983  3984  3985  3986  3987  3988  3989  3990  3991  3992  3993  3994  3995  3996  3997  3998  3999  p_loss 3.701399 v_loss 1.520295\n",
            "game 4000  4001  4002  4003  4004  4005  4006  4007  4008  4009  4010  4011  4012  4013  4014  4015  4016  4017  4018  4019  4020  4021  4022  4023  4024  4025  4026  4027  4028  4029  4030  4031  4032  4033  4034  4035  4036  4037  4038  4039  4040  4041  4042  4043  4044  4045  4046  4047  4048  4049  p_loss 3.644038 v_loss 1.569558\n",
            "game 4050  4051  4052  4053  4054  4055  4056  4057  4058  4059  4060  4061  4062  4063  4064  4065  4066  4067  4068  4069  4070  4071  4072  4073  4074  4075  4076  4077  4078  4079  4080  4081  4082  4083  4084  4085  4086  4087  4088  4089  4090  4091  4092  4093  4094  4095  4096  4097  4098  4099  p_loss 3.658461 v_loss 1.494191\n",
            "game 4100  4101  4102  4103  4104  4105  4106  4107  4108  4109  4110  4111  4112  4113  4114  4115  4116  4117  4118  4119  4120  4121  4122  4123  4124  4125  4126  4127  4128  4129  4130  4131  4132  4133  4134  4135  4136  4137  4138  4139  4140  4141  4142  4143  4144  4145  4146  4147  4148  4149  p_loss 3.739172 v_loss 1.522155\n",
            "game 4150  4151  4152  4153  4154  4155  4156  4157  4158  4159  4160  4161  4162  4163  4164  4165  4166  4167  4168  4169  4170  4171  4172  4173  4174  4175  4176  4177  4178  4179  4180  4181  4182  4183  4184  4185  4186  4187  4188  4189  4190  4191  4192  4193  4194  4195  4196  4197  4198  4199  p_loss 3.614030 v_loss 1.412030\n",
            "game 4200  4201  4202  4203  4204  4205  4206  4207  4208  4209  4210  4211  4212  4213  4214  4215  4216  4217  4218  4219  4220  4221  4222  4223  4224  4225  4226  4227  4228  4229  4230  4231  4232  4233  4234  4235  4236  4237  4238  4239  4240  4241  4242  4243  4244  4245  4246  4247  4248  4249  p_loss 3.683947 v_loss 1.500764\n",
            "game 4250  4251  4252  4253  4254  4255  4256  4257  4258  4259  4260  4261  4262  4263  4264  4265  4266  4267  4268  4269  4270  4271  4272  4273  4274  4275  4276  4277  4278  4279  4280  4281  4282  4283  4284  4285  4286  4287  4288  4289  4290  4291  4292  4293  4294  4295  4296  4297  4298  4299  p_loss 3.504722 v_loss 1.450698\n",
            "game 4300  4301  4302  4303  4304  4305  4306  4307  4308  4309  4310  4311  4312  4313  4314  4315  4316  4317  4318  4319  4320  4321  4322  4323  4324  4325  4326  4327  4328  4329  4330  4331  4332  4333  4334  4335  4336  4337  4338  4339  4340  4341  4342  4343  4344  4345  4346  4347  4348  4349  p_loss 3.439686 v_loss 1.425016\n",
            "game 4350  4351  4352  4353  4354  4355  4356  4357  4358  4359  4360  4361  4362  4363  4364  4365  4366  4367  4368  4369  4370  4371  4372  4373  4374  4375  4376  4377  4378  4379  4380  4381  4382  4383  4384  4385  4386  4387  4388  4389  4390  4391  4392  4393  4394  4395  4396  4397  4398  4399  p_loss 3.607632 v_loss 1.492494\n",
            "game 4400  4401  4402  4403  4404  4405  4406  4407  4408  4409  4410  4411  4412  4413  4414  4415  4416  4417  4418  4419  4420  4421  4422  4423  4424  4425  4426  4427  4428  4429  4430  4431  4432  4433  4434  4435  4436  4437  4438  4439  4440  4441  4442  4443  4444  4445  4446  4447  4448  4449  p_loss 3.537218 v_loss 1.418721\n",
            "game 4450  4451  4452  4453  4454  4455  4456  4457  4458  4459  4460  4461  4462  4463  4464  4465  4466  4467  4468  4469  4470  4471  4472  4473  4474  4475  4476  4477  4478  4479  4480  4481  4482  4483  4484  4485  4486  4487  4488  4489  4490  4491  4492  4493  4494  4495  4496  4497  4498  4499  p_loss 3.566635 v_loss 1.362509\n",
            "game 4500  4501  4502  4503  4504  4505  4506  4507  4508  4509  4510  4511  4512  4513  4514  4515  4516  4517  4518  4519  4520  4521  4522  4523  4524  4525  4526  4527  4528  4529  4530  4531  4532  4533  4534  4535  4536  4537  4538  4539  4540  4541  4542  4543  4544  4545  4546  4547  4548  4549  p_loss 3.505389 v_loss 1.366975\n",
            "game 4550  4551  4552  4553  4554  4555  4556  4557  4558  4559  4560  4561  4562  4563  4564  4565  4566  4567  4568  4569  4570  4571  4572  4573  4574  4575  4576  4577  4578  4579  4580  4581  4582  4583  4584  4585  4586  4587  4588  4589  4590  4591  4592  4593  4594  4595  4596  4597  4598  4599  p_loss 3.551001 v_loss 1.339311\n",
            "game 4600  4601  4602  4603  4604  4605  4606  4607  4608  4609  4610  4611  4612  4613  4614  4615  4616  4617  4618  4619  4620  4621  4622  4623  4624  4625  4626  4627  4628  4629  4630  4631  4632  4633  4634  4635  4636  4637  4638  4639  4640  4641  4642  4643  4644  4645  4646  4647  4648  4649  p_loss 3.515288 v_loss 1.404447\n",
            "game 4650  4651  4652  4653  4654  4655  4656  4657  4658  4659  4660  4661  4662  4663  4664  4665  4666  4667  4668  4669  4670  4671  4672  4673  4674  4675  4676  4677  4678  4679  4680  4681  4682  4683  4684  4685  4686  4687  4688  4689  4690  4691  4692  4693  4694  4695  4696  4697  4698  4699  p_loss 3.475615 v_loss 1.400458\n",
            "game 4700  4701  4702  4703  4704  4705  4706  4707  4708  4709  4710  4711  4712  4713  4714  4715  4716  4717  4718  4719  4720  4721  4722  4723  4724  4725  4726  4727  4728  4729  4730  4731  4732  4733  4734  4735  4736  4737  4738  4739  4740  4741  4742  4743  4744  4745  4746  4747  4748  4749  p_loss 3.347238 v_loss 1.313624\n",
            "game 4750  4751  4752  4753  4754  4755  4756  4757  4758  4759  4760  4761  4762  4763  4764  4765  4766  4767  4768  4769  4770  4771  4772  4773  4774  4775  4776  4777  4778  4779  4780  4781  4782  4783  4784  4785  4786  4787  4788  4789  4790  4791  4792  4793  4794  4795  4796  4797  4798  4799  p_loss 3.426190 v_loss 1.351471\n",
            "game 4800  4801  4802  4803  4804  4805  4806  4807  4808  4809  4810  4811  4812  4813  4814  4815  4816  4817  4818  4819  4820  4821  4822  4823  4824  4825  4826  4827  4828  4829  4830  4831  4832  4833  4834  4835  4836  4837  4838  4839  4840  4841  4842  4843  4844  4845  4846  4847  4848  4849  p_loss 3.367664 v_loss 1.319181\n",
            "game 4850  4851  4852  4853  4854  4855  4856  4857  4858  4859  4860  4861  4862  4863  4864  4865  4866  4867  4868  4869  4870  4871  4872  4873  4874  4875  4876  4877  4878  4879  4880  4881  4882  4883  4884  4885  4886  4887  4888  4889  4890  4891  4892  4893  4894  4895  4896  4897  4898  4899  p_loss 3.304388 v_loss 1.264972\n",
            "game 4900  4901  4902  4903  4904  4905  4906  4907  4908  4909  4910  4911  4912  4913  4914  4915  4916  4917  4918  4919  4920  4921  4922  4923  4924  4925  4926  4927  4928  4929  4930  4931  4932  4933  4934  4935  4936  4937  4938  4939  4940  4941  4942  4943  4944  4945  4946  4947  4948  4949  p_loss 3.518656 v_loss 1.348185\n",
            "game 4950  4951  4952  4953  4954  4955  4956  4957  4958  4959  4960  4961  4962  4963  4964  4965  4966  4967  4968  4969  4970  4971  4972  4973  4974  4975  4976  4977  4978  4979  4980  4981  4982  4983  4984  4985  4986  4987  4988  4989  4990  4991  4992  4993  4994  4995  4996  4997  4998  4999  p_loss 3.301636 v_loss 1.318131\n",
            "game 5000  5001  5002  5003  5004  5005  5006  5007  5008  5009  5010  5011  5012  5013  5014  5015  5016  5017  5018  5019  5020  5021  5022  5023  5024  5025  5026  5027  5028  5029  5030  5031  5032  5033  5034  5035  5036  5037  5038  5039  5040  5041  5042  5043  5044  5045  5046  5047  5048  5049  p_loss 3.260905 v_loss 1.217900\n",
            "game 5050  5051  5052  5053  5054  5055  5056  5057  5058  5059  5060  5061  5062  5063  5064  5065  5066  5067  5068  5069  5070  5071  5072  5073  5074  5075  5076  5077  5078  5079  5080  5081  5082  5083  5084  5085  5086  5087  5088  5089  5090  5091  5092  5093  5094  5095  5096  5097  5098  5099  p_loss 3.285892 v_loss 1.258852\n",
            "game 5100  5101  5102  5103  5104  5105  5106  5107  5108  5109  5110  5111  5112  5113  5114  5115  5116  5117  5118  5119  5120  5121  5122  5123  5124  5125  5126  5127  5128  5129  5130  5131  5132  5133  5134  5135  5136  5137  5138  5139  5140  5141  5142  5143  5144  5145  5146  5147  5148  5149  p_loss 3.344468 v_loss 1.297449\n",
            "game 5150  5151  5152  5153  5154  5155  5156  5157  5158  5159  5160  5161  5162  5163  5164  5165  5166  5167  5168  5169  5170  5171  5172  5173  5174  5175  5176  5177  5178  5179  5180  5181  5182  5183  5184  5185  5186  5187  5188  5189  5190  5191  5192  5193  5194  5195  5196  5197  5198  5199  p_loss 3.310290 v_loss 1.254529\n",
            "game 5200  5201  5202  5203  5204  5205  5206  5207  5208  5209  5210  5211  5212  5213  5214  5215  5216  5217  5218  5219  5220  5221  5222  5223  5224  5225  5226  5227  5228  5229  5230  5231  5232  5233  5234  5235  5236  5237  5238  5239  5240  5241  5242  5243  5244  5245  5246  5247  5248  5249  p_loss 3.299728 v_loss 1.315767\n",
            "game 5250  5251  5252  5253  5254  5255  5256  5257  5258  5259  5260  5261  5262  5263  5264  5265  5266  5267  5268  5269  5270  5271  5272  5273  5274  5275  5276  5277  5278  5279  5280  5281  5282  5283  5284  5285  5286  5287  5288  5289  5290  5291  5292  5293  5294  5295  5296  5297  5298  5299  p_loss 3.278396 v_loss 1.252361\n",
            "game 5300  5301  5302  5303  5304  5305  5306  5307  5308  5309  5310  5311  5312  5313  5314  5315  5316  5317  5318  5319  5320  5321  5322  5323  5324  5325  5326  5327  5328  5329  5330  5331  5332  5333  5334  5335  5336  5337  5338  5339  5340  5341  5342  5343  5344  5345  5346  5347  5348  5349  p_loss 3.221606 v_loss 1.246159\n",
            "game 5350  5351  5352  5353  5354  5355  5356  5357  5358  5359  5360  5361  5362  5363  5364  5365  5366  5367  5368  5369  5370  5371  5372  5373  5374  5375  5376  5377  5378  5379  5380  5381  5382  5383  5384  5385  5386  5387  5388  5389  5390  5391  5392  5393  5394  5395  5396  5397  5398  5399  p_loss 3.187702 v_loss 1.200753\n",
            "game 5400  5401  5402  5403  5404  5405  5406  5407  5408  5409  5410  5411  5412  5413  5414  5415  5416  5417  5418  5419  5420  5421  5422  5423  5424  5425  5426  5427  5428  5429  5430  5431  5432  5433  5434  5435  5436  5437  5438  5439  5440  5441  5442  5443  5444  5445  5446  5447  5448  5449  p_loss 3.399776 v_loss 1.310072\n",
            "game 5450  5451  5452  5453  5454  5455  5456  5457  5458  5459  5460  5461  5462  5463  5464  5465  5466  5467  5468  5469  5470  5471  5472  5473  5474  5475  5476  5477  5478  5479  5480  5481  5482  5483  5484  5485  5486  5487  5488  5489  5490  5491  5492  5493  5494  5495  5496  5497  5498  5499  p_loss 3.112534 v_loss 1.174538\n",
            "game 5500  5501  5502  5503  5504  5505  5506  5507  5508  5509  5510  5511  5512  5513  5514  5515  5516  5517  5518  5519  5520  5521  5522  5523  5524  5525  5526  5527  5528  5529  5530  5531  5532  5533  5534  5535  5536  5537  5538  5539  5540  5541  5542  5543  5544  5545  5546  5547  5548  5549  p_loss 3.215196 v_loss 1.214609\n",
            "game 5550  5551  5552  5553  5554  5555  5556  5557  5558  5559  5560  5561  5562  5563  5564  5565  5566  5567  5568  5569  5570  5571  5572  5573  5574  5575  5576  5577  5578  5579  5580  5581  5582  5583  5584  5585  5586  5587  5588  5589  5590  5591  5592  5593  5594  5595  5596  5597  5598  5599  p_loss 3.270359 v_loss 1.261052\n",
            "game 5600  5601  5602  5603  5604  5605  5606  5607  5608  5609  5610  5611  5612  5613  5614  5615  5616  5617  5618  5619  5620  5621  5622  5623  5624  5625  5626  5627  5628  5629  5630  5631  5632  5633  5634  5635  5636  5637  5638  5639  5640  5641  5642  5643  5644  5645  5646  5647  5648  5649  p_loss 3.295330 v_loss 1.259843\n",
            "game 5650  5651  5652  5653  5654  5655  5656  5657  5658  5659  5660  5661  5662  5663  5664  5665  5666  5667  5668  5669  5670  5671  5672  5673  5674  5675  5676  5677  5678  5679  5680  5681  5682  5683  5684  5685  5686  5687  5688  5689  5690  5691  5692  5693  5694  5695  5696  5697  5698  5699  p_loss 3.148603 v_loss 1.224749\n",
            "game 5700  5701  5702  5703  5704  5705  5706  5707  5708  5709  5710  5711  5712  5713  5714  5715  5716  5717  5718  5719  5720  5721  5722  5723  5724  5725  5726  5727  5728  5729  5730  5731  5732  5733  5734  5735  5736  5737  5738  5739  5740  5741  5742  5743  5744  5745  5746  5747  5748  5749  p_loss 3.161409 v_loss 1.224578\n",
            "game 5750  5751  5752  5753  5754  5755  5756  5757  5758  5759  5760  5761  5762  5763  5764  5765  5766  5767  5768  5769  5770  5771  5772  5773  5774  5775  5776  5777  5778  5779  5780  5781  5782  5783  5784  5785  5786  5787  5788  5789  5790  5791  5792  5793  5794  5795  5796  5797  5798  5799  p_loss 3.162256 v_loss 1.205889\n",
            "game 5800  5801  5802  5803  5804  5805  5806  5807  5808  5809  5810  5811  5812  5813  5814  5815  5816  5817  5818  5819  5820  5821  5822  5823  5824  5825  5826  5827  5828  5829  5830  5831  5832  5833  5834  5835  5836  5837  5838  5839  5840  5841  5842  5843  5844  5845  5846  5847  5848  5849  p_loss 3.097001 v_loss 1.201815\n",
            "game 5850  5851  5852  5853  5854  5855  5856  5857  5858  5859  5860  5861  5862  5863  5864  5865  5866  5867  5868  5869  5870  5871  5872  5873  5874  5875  5876  5877  5878  5879  5880  5881  5882  5883  5884  5885  5886  5887  5888  5889  5890  5891  5892  5893  5894  5895  5896  5897  5898  5899  p_loss 3.183009 v_loss 1.193462\n",
            "game 5900  5901  5902  5903  5904  5905  5906  5907  5908  5909  5910  5911  5912  5913  5914  5915  5916  5917  5918  5919  5920  5921  5922  5923  5924  5925  5926  5927  5928  5929  5930  5931  5932  5933  5934  5935  5936  5937  5938  5939  5940  5941  5942  5943  5944  5945  5946  5947  5948  5949  p_loss 3.159546 v_loss 1.127833\n",
            "game 5950  5951  5952  5953  5954  5955  5956  5957  5958  5959  5960  5961  5962  5963  5964  5965  5966  5967  5968  5969  5970  5971  5972  5973  5974  5975  5976  5977  5978  5979  5980  5981  5982  5983  5984  5985  5986  5987  5988  5989  5990  5991  5992  5993  5994  5995  5996  5997  5998  5999  p_loss 3.101634 v_loss 1.185829\n",
            "finished\n"
          ],
          "name": "stdout"
        }
      ]
    },
    {
      "cell_type": "markdown",
      "metadata": {
        "id": "s1Rok1yAAFik"
      },
      "source": [
        "Some fancy plots"
      ]
    },
    {
      "cell_type": "code",
      "metadata": {
        "colab": {
          "base_uri": "https://localhost:8080/",
          "height": 296
        },
        "id": "ViTBp_6Cno7s",
        "outputId": "401ea8df-137d-49d7-bd89-d15e7144c86f"
      },
      "source": [
        "list_serie = [list(d) for d in plot_sum]\r\n",
        "win_serie = []\r\n",
        "lose_serie = []\r\n",
        "draw_serie = []\r\n",
        "\r\n",
        "for i in range(len(list_serie)):\r\n",
        "  sample = list_serie[i]\r\n",
        "  for j in range(len(sample)):\r\n",
        "    if sample[j][0]==1:\r\n",
        "      win_serie.append(sample[j][1])\r\n",
        "    elif sample[j][0]==-1:\r\n",
        "      lose_serie.append(sample[j][1])\r\n",
        "    else:\r\n",
        "      draw_serie.append(sample[j][1])\r\n",
        "\r\n",
        "plt.plot(win_serie,label='win')\r\n",
        "plt.plot(lose_serie,label='lose')\r\n",
        "plt.plot(draw_serie,label='draw')\r\n",
        "plt.legend()\r\n",
        "plt.xlabel('number of epochs')\r\n",
        "plt.ylabel('results')"
      ],
      "execution_count": null,
      "outputs": [
        {
          "output_type": "execute_result",
          "data": {
            "text/plain": [
              "Text(0, 0.5, 'results')"
            ]
          },
          "metadata": {
            "tags": []
          },
          "execution_count": 16
        },
        {
          "output_type": "display_data",
          "data": {
            "image/png": "[encoded data removed]",
            "text/plain": [
              "<Figure size 432x288 with 1 Axes>"
            ]
          },
          "metadata": {
            "tags": [],
            "needs_background": "light"
          }
        }
      ]
    },
    {
      "cell_type": "code",
      "metadata": {
        "colab": {
          "base_uri": "https://localhost:8080/",
          "height": 296
        },
        "id": "XVkuS-Wyzj6o",
        "outputId": "19493ad8-5177-4bc9-bcb1-d30aed9f44a5"
      },
      "source": [
        "plt.plot(plot_loss,label='policy prediction loss')\r\n",
        "plt.plot(plot_value,label='value prediction loss')\r\n",
        "plt.legend()\r\n",
        "plt.xlabel('number of epochs')"
      ],
      "execution_count": null,
      "outputs": [
        {
          "output_type": "execute_result",
          "data": {
            "text/plain": [
              "Text(0.5, 0, 'number of epochs')"
            ]
          },
          "metadata": {
            "tags": []
          },
          "execution_count": 17
        },
        {
          "output_type": "display_data",
          "data": {
            "image/png": "[encoded data removed]",
            "text/plain": [
              "<Figure size 432x288 with 1 Axes>"
            ]
          },
          "metadata": {
            "tags": [],
            "needs_background": "light"
          }
        }
      ]
    },
    {
      "cell_type": "code",
      "metadata": {
        "colab": {
          "base_uri": "https://localhost:8080/"
        },
        "id": "lbLYeCOEfzOL",
        "outputId": "106a3ced-fa85-4fdd-c1a1-7a1bf75a2b6d"
      },
      "source": [
        "# Search with trained net\r\n",
        "tree = Tree(net)\r\n",
        "tree.think(State().tictactoe().play('A1 B3 C1 A3 '), 1000, show=True)\r\n",
        "#tree.pv(State().tictactoe().play('A1 C1 C3 C2'))"
      ],
      "execution_count": null,
      "outputs": [
        {
          "output_type": "stream",
          "text": [
            "   1 2 3\n",
            "A O _ X\n",
            "B _ _ X\n",
            "C O _ _\n",
            "record = A1 B3 C1 A3\n",
            "1.00 sec. best C3. q = 0.8443. n = 133 / 240. pv = C3\n",
            "2.00 sec. best C3. q = 0.8512. n = 228 / 421. pv = C3\n",
            "3.01 sec. best C3. q = 0.8649. n = 300 / 606. pv = C3\n",
            "4.00 sec. best C3. q = 0.8718. n = 379 / 760. pv = C3\n",
            "5.00 sec. best C3. q = 0.8796. n = 443 / 914. pv = C3\n"
          ],
          "name": "stdout"
        },
        {
          "output_type": "execute_result",
          "data": {
            "text/plain": [
              "array([0., 0., 0., 0., 0., 0., 0., 0., 1.], dtype=float32)"
            ]
          },
          "metadata": {
            "tags": []
          },
          "execution_count": 18
        }
      ]
    },
    {
      "cell_type": "code",
      "metadata": {
        "colab": {
          "base_uri": "https://localhost:8080/"
        },
        "id": "m8UgY6adf4FP",
        "outputId": "f87c8332-b2cd-4019-aa33-e157488deddc"
      },
      "source": [
        "print(vs_random(net, n=1000))"
      ],
      "execution_count": null,
      "outputs": [
        {
          "output_type": "stream",
          "text": [
            "{1: 902, -1: 13, 0: 85}\n"
          ],
          "name": "stdout"
        }
      ]
    },
    {
      "cell_type": "markdown",
      "metadata": {
        "id": "xhQ8zepEmjxW"
      },
      "source": [
        "**Playing agiant MuZero**"
      ]
    },
    {
      "cell_type": "code",
      "metadata": {
        "colab": {
          "base_uri": "https://localhost:8080/"
        },
        "id": "o6d25pM3mZ25",
        "outputId": "4a2ee1a0-f97a-477e-e8d4-528bb70bcff1"
      },
      "source": [
        "quest = input(' Hey do you want to go first ? : O/N : ')\r\n",
        "while not(quest in ['O','N','o','n']) :\r\n",
        "  quest = input(' Did not understand ! your response should be O or N : ')\r\n",
        "if quest =='O':\r\n",
        "  turn = False\r\n",
        "else:\r\n",
        "  turn = True\r\n",
        "state = State().tictactoe()\r\n",
        "while not state.terminal():\r\n",
        "    if turn:\r\n",
        "        p, _ = net.predict(state, [])[-1]\r\n",
        "        action = sorted([(a, p[a]) for a in state.legal_actions()], key=lambda x:-x[1])[0][0]\r\n",
        "    else:\r\n",
        "        action = input('Up to you ! Choose an action : ')\r\n",
        "        while not (action in [state.action2str(e) for e in state.legal_actions()] ):\r\n",
        "              print('Oups try again !available actions are : ',[state.action2str(e) for e in state.legal_actions()])\r\n",
        "              action = input( 'Choose an action  : ')\r\n",
        "\r\n",
        "    state.play(action)\r\n",
        "    turn = not turn\r\n",
        "    print(state)\r\n",
        "\r\n",
        "if state.terminal_reward() == -1:\r\n",
        "  print(\"Hey you won !!!\")\r\n",
        "elif state.terminal_reward() == 1:\r\n",
        "  print(\"Ooh he got me\")\r\n",
        "else:\r\n",
        "  print(\"That was close\")"
      ],
      "execution_count": null,
      "outputs": [
        {
          "output_type": "stream",
          "text": [
            " Hey do you want to go first ? : O/N : A1\n",
            " Did not understand ! your response should be O or N : O\n",
            "Up to you ! Choose an action : A1\n",
            "   1 2 3\n",
            "A O _ _\n",
            "B _ _ _\n",
            "C _ _ _\n",
            "record = A1\n",
            "   1 2 3\n",
            "A O _ _\n",
            "B _ X _\n",
            "C _ _ _\n",
            "record = A1 B2\n",
            "Up to you ! Choose an action : A2\n",
            "   1 2 3\n",
            "A O O _\n",
            "B _ X _\n",
            "C _ _ _\n",
            "record = A1 B2 A2\n",
            "   1 2 3\n",
            "A O O X\n",
            "B _ X _\n",
            "C _ _ _\n",
            "record = A1 B2 A2 A3\n",
            "Up to you ! Choose an action : c1\n",
            "Oups try again !available actions are :  ['B1', 'B3', 'C1', 'C2', 'C3']\n",
            "Choose an action  : C1\n",
            "   1 2 3\n",
            "A O O X\n",
            "B _ X _\n",
            "C O _ _\n",
            "record = A1 B2 A2 A3 C1\n",
            "   1 2 3\n",
            "A O O X\n",
            "B X X _\n",
            "C O _ _\n",
            "record = A1 B2 A2 A3 C1 B1\n",
            "Up to you ! Choose an action : B3\n",
            "   1 2 3\n",
            "A O O X\n",
            "B X X O\n",
            "C O _ _\n",
            "record = A1 B2 A2 A3 C1 B1 B3\n",
            "   1 2 3\n",
            "A O O X\n",
            "B X X O\n",
            "C O X _\n",
            "record = A1 B2 A2 A3 C1 B1 B3 C2\n",
            "Up to you ! Choose an action : C3\n",
            "   1 2 3\n",
            "A O O X\n",
            "B X X O\n",
            "C O X O\n",
            "record = A1 B2 A2 A3 C1 B1 B3 C2 C3\n",
            "That was close\n"
          ],
          "name": "stdout"
        }
      ]
    },
    {
      "cell_type": "markdown",
      "metadata": {
        "id": "O1pw9R4I-iv4"
      },
      "source": [
        "# **MuZero VS MuZero**"
      ]
    },
    {
      "cell_type": "code",
      "metadata": {
        "id": "gM2D4ITfmqT2"
      },
      "source": [
        "# Training of neural net\r\n",
        "batch_size = 32\r\n",
        "num_steps = 100\r\n",
        "\r\n",
        "def gen_target(ep, k):\r\n",
        "    '''Generate inputs and targets for training'''\r\n",
        "    # path, reward, observation, action, policy\r\n",
        "    turn_idx = np.random.randint(len(ep[0]))\r\n",
        "    ps, vs, ax = [], [], []\r\n",
        "    for t in range(turn_idx, turn_idx + k + 1):\r\n",
        "        if t < len(ep[0]):\r\n",
        "            p = ep[4][t]\r\n",
        "            a = ep[3][t]\r\n",
        "        else: # state after finishing game\r\n",
        "            # p is 0 (loss is 0)\r\n",
        "            p = np.zeros_like(ep[4][-1])\r\n",
        "            # random action selection\r\n",
        "            a = np.zeros(np.prod(ep[3][-1].shape), dtype=np.float32)\r\n",
        "            a[np.random.randint(len(a))] = 1\r\n",
        "            a = a.reshape(ep[3][-1].shape)\r\n",
        "        vs.append([ep[1] if t % 2 == 0 else -ep[1]])\r\n",
        "        ps.append(p)\r\n",
        "        ax.append(a)\r\n",
        "        \r\n",
        "    return ep[2][turn_idx], ax, ps, vs\r\n",
        "\r\n",
        "def train(episodes, net, opt):\r\n",
        "    '''Train neural net'''\r\n",
        "    p_loss_sum, v_loss_sum = 0, 0\r\n",
        "    p_loss_l = []\r\n",
        "    v_loss_l = []\r\n",
        "    net.train()\r\n",
        "    k = 4\r\n",
        "    for _ in range(num_steps):\r\n",
        "        x, ax, p_target, v_target = zip(*[gen_target(episodes[np.random.randint(len(episodes))], k) for j in range(batch_size)])\r\n",
        "        x = torch.from_numpy(np.array(x))\r\n",
        "        ax = torch.from_numpy(np.array(ax))\r\n",
        "        p_target = torch.from_numpy(np.array(p_target))\r\n",
        "        v_target = torch.FloatTensor(np.array(v_target))\r\n",
        "\r\n",
        "        # Change the order of axis as [time step, batch, ...]\r\n",
        "        ax = torch.transpose(ax, 0, 1)\r\n",
        "        p_target = torch.transpose(p_target, 0, 1)\r\n",
        "        v_target = torch.transpose(v_target, 0, 1)\r\n",
        "\r\n",
        "        p_loss, v_loss = 0, 0\r\n",
        "\r\n",
        "        # Compute losses for k (+ current) steps\r\n",
        "        for t in range(k + 1):\r\n",
        "            rp = net.representation(x) if t == 0 else net.dynamics(rp, ax[t - 1])\r\n",
        "            p, v = net.prediction(rp)\r\n",
        "            p_loss += torch.sum(-p_target[t] * torch.log(p))\r\n",
        "            v_loss += torch.sum((v_target[t] - v) ** 2)\r\n",
        "\r\n",
        "        p_loss_sum += p_loss.item()\r\n",
        "        v_loss_sum += v_loss.item()\r\n",
        "\r\n",
        "        optimizer.zero_grad()\r\n",
        "        (p_loss + v_loss).backward()\r\n",
        "        optimizer.step()\r\n",
        "\r\n",
        "    num_train_datum = num_steps * batch_size\r\n",
        "    print('p_loss %f v_loss %f' % (p_loss_sum / num_train_datum, v_loss_sum / num_train_datum))\r\n",
        "    return net,p_loss_sum, v_loss_sum"
      ],
      "execution_count": null,
      "outputs": []
    },
    {
      "cell_type": "code",
      "metadata": {
        "id": "qKH3yqQ2hQ7B"
      },
      "source": [
        "# Battle against muzero\r\n",
        "def vs_muzero(net, n=100):\r\n",
        "    results = {}\r\n",
        "    for i in range(n):\r\n",
        "        first_turn = i % 2 == 0\r\n",
        "        turn = first_turn\r\n",
        "        state = State().tictactoe()\r\n",
        "        while not state.terminal():\r\n",
        "            if turn:\r\n",
        "                p, _ = net.predict(state, [])[-1]\r\n",
        "                action = sorted([(a, p[a]) for a in state.legal_actions()], key=lambda x:-x[1])[0][0]\r\n",
        "            else:\r\n",
        "                p, _ = net.predict(state, [])[-1]\r\n",
        "                action = sorted([(a, p[a]) for a in state.legal_actions()], key=lambda x:-x[1])[0][0]\r\n",
        "            state.play(action)\r\n",
        "            turn = not turn\r\n",
        "        r = state.terminal_reward() if turn else -state.terminal_reward()\r\n",
        "        results[r] = results.get(r, 0) + 1\r\n",
        "    return results"
      ],
      "execution_count": null,
      "outputs": []
    },
    {
      "cell_type": "code",
      "metadata": {
        "id": "KPQsh1ON-MWs",
        "colab": {
          "base_uri": "https://localhost:8080/"
        },
        "outputId": "7673aa02-4b60-46f6-8a08-3198dbf661de"
      },
      "source": [
        "# Main algorithm of MuZero vs MuZero\r\n",
        "\r\n",
        "num_games = 6000\r\n",
        "num_games_one_epoch = 20\r\n",
        "num_simulations = 40\r\n",
        "\r\n",
        "state_ttt = State().tictactoe()\r\n",
        "net = Net(state_ttt)\r\n",
        "optimizer = optim.SGD(net.parameters(), lr=3e-4, weight_decay=3e-5, momentum=0.8)\r\n",
        "\r\n",
        "# Display battle results as {-1: lose 0: draw 1: win} (for episode generated for training, 1 means that the first player won)\r\n",
        "vs_muzero_sum = vs_muzero(net)\r\n",
        "print('vs_muzero = ', sorted(vs_muzero_sum.items()))\r\n",
        "\r\n",
        "episodes = []\r\n",
        "result_distribution = {1: 0, 0: 0, -1: 0}\r\n",
        "plot_sum=[]\r\n",
        "plot_loss = []\r\n",
        "plot_value = []\r\n",
        "\r\n",
        "for g in range(num_games):\r\n",
        "    # Generate one episode\r\n",
        "    record, p_targets, features, action_features = [], [], [], []\r\n",
        "    #print(state)\r\n",
        "\r\n",
        "    state = State().tictactoe()\r\n",
        "    # temperature using to make policy targets from search results\r\n",
        "    temperature = 0.7\r\n",
        "    while not state.terminal():\r\n",
        "        tree = Tree(net)\r\n",
        "        p_target = tree.think(state, num_simulations, temperature)\r\n",
        "        p_targets.append(p_target)\r\n",
        "        features.append(state.feature())\r\n",
        "        # Select action with generated distribution, and then make a transition by that action\r\n",
        "        p, _ = net.predict(state, [])[-1]\r\n",
        "        action = sorted([(a, p[a]) for a in state.legal_actions()], key=lambda x:-x[1])[0][0]\r\n",
        "        action_features.append(state.action_feature(action))\r\n",
        "        state.play(action)\r\n",
        "        record.append(action)\r\n",
        "        temperature *= 0.8\r\n",
        "    # reward seen from the first turn player\r\n",
        "    reward = state.terminal_reward() * (1 if len(record) % 2 == 0 else -1)\r\n",
        "    result_distribution[reward] += 1\r\n",
        "    episodes.append((record, reward, features, action_features, p_targets))\r\n",
        "    if g % num_games_one_epoch == 0:\r\n",
        "        print('game ', end='')\r\n",
        "    print(g, ' ', end='')\r\n",
        "\r\n",
        "    # Training of neural net\r\n",
        "    if (g + 1) % num_games_one_epoch == 0:\r\n",
        "        # Show the result distributiuon of generated episodes\r\n",
        "        #print('generated = ', sorted(result_distribution.items()))\r\n",
        "        net,loss,value = train(episodes, net, optimizer)\r\n",
        "        plot_loss.append(loss)\r\n",
        "        plot_value.append(value)\r\n",
        "\r\n",
        "        vs_muzero_once = vs_muzero(net)\r\n",
        "        #print('vs_muzero = ', sorted(vs_muzero_once.items()), end='')\r\n",
        "        #for r, n in vs_muzero_once.items():\r\n",
        "            #vs_muzero_sum[r] += n\r\n",
        "        #print(' sum = ', sorted(vs_muzero_sum.items()))\r\n",
        "        plot_sum.append(vs_muzero_once.items())\r\n",
        "\r\n",
        "        #show_net(net, State().tictactoe())\r\n",
        "        #show_net(net, State().play('A1 C1 A2 C2'))\r\n",
        "        #show_net(net, State().play('A1 B2 C3 B3 C1'))\r\n",
        "        #show_net(net, State().play('B2 A2 A3 C1 B3'))\r\n",
        "        #show_net(net, State().play('B2 A2 A3 C1'))\r\n",
        "print('finished')"
      ],
      "execution_count": 26,
      "outputs": [
        {
          "output_type": "stream",
          "text": [
            "vs_muzero =  [(-1, 50), (1, 50)]\n",
            "game 0  1  2  3  4  5  6  7  8  9  10  11  12  13  14  15  16  17  18  19  p_loss 5.732936 v_loss 0.158424\n",
            "game 20  21  22  23  24  25  26  27  28  29  30  31  32  33  34  35  36  37  38  39  p_loss 6.087648 v_loss 1.803348\n",
            "game 40  41  42  43  44  45  46  47  48  49  50  51  52  53  54  55  56  57  58  59  p_loss 5.292745 v_loss 1.122534\n",
            "game 60  61  62  63  64  65  66  67  68  69  70  71  72  73  74  75  76  77  78  79  p_loss 4.457004 v_loss 0.449215\n",
            "game 80  81  82  83  84  85  86  87  88  89  90  91  92  93  94  95  96  97  98  99  p_loss 3.754937 v_loss 0.256287\n",
            "game 100  101  102  103  104  105  106  107  108  109  110  111  112  113  114  115  116  117  118  119  p_loss 3.357988 v_loss 0.233479\n",
            "game 120  121  122  123  124  125  126  127  128  129  130  131  132  133  134  135  136  137  138  139  p_loss 3.334091 v_loss 0.232024\n",
            "game 140  141  142  143  144  145  146  147  148  149  150  151  152  153  154  155  156  157  158  159  p_loss 3.018646 v_loss 0.192420\n",
            "game 160  161  162  163  164  165  166  167  168  169  170  171  172  173  174  175  176  177  178  179  p_loss 3.039061 v_loss 0.308201\n",
            "game 180  181  182  183  184  185  186  187  188  189  190  191  192  193  194  195  196  197  198  199  p_loss 2.833623 v_loss 0.176678\n",
            "game 200  201  202  203  204  205  206  207  208  209  210  211  212  213  214  215  216  217  218  219  p_loss 2.727794 v_loss 0.142871\n",
            "game 220  221  222  223  224  225  226  227  228  229  230  231  232  233  234  235  236  237  238  239  p_loss 2.680475 v_loss 0.140989\n",
            "game 240  241  242  243  244  245  246  247  248  249  250  251  252  253  254  255  256  257  258  259  p_loss 2.494215 v_loss 0.139602\n",
            "game 260  261  262  263  264  265  266  267  268  269  270  271  272  273  274  275  276  277  278  279  p_loss 2.445690 v_loss 0.131606\n",
            "game 280  281  282  283  284  285  286  287  288  289  290  291  292  293  294  295  296  297  298  299  p_loss 2.351498 v_loss 0.120560\n",
            "game 300  301  302  303  304  305  306  307  308  309  310  311  312  313  314  315  316  317  318  319  p_loss 2.275773 v_loss 0.098818\n",
            "game 320  321  322  323  324  325  326  327  328  329  330  331  332  333  334  335  336  337  338  339  p_loss 2.199997 v_loss 0.093579\n",
            "game 340  341  342  343  344  345  346  347  348  349  350  351  352  353  354  355  356  357  358  359  p_loss 2.246355 v_loss 0.094766\n",
            "game 360  361  362  363  364  365  366  367  368  369  370  371  372  373  374  375  376  377  378  379  p_loss 2.183929 v_loss 0.104596\n",
            "game 380  381  382  383  384  385  386  387  388  389  390  391  392  393  394  395  396  397  398  399  p_loss 2.130402 v_loss 0.074151\n",
            "game 400  401  402  403  404  405  406  407  408  409  410  411  412  413  414  415  416  417  418  419  p_loss 2.066133 v_loss 0.069737\n",
            "game 420  421  422  423  424  425  426  427  428  429  430  431  432  433  434  435  436  437  438  439  p_loss 2.023153 v_loss 0.085220\n",
            "game 440  441  442  443  444  445  446  447  448  449  450  451  452  453  454  455  456  457  458  459  p_loss 1.938649 v_loss 0.076507\n",
            "game 460  461  462  463  464  465  466  467  468  469  470  471  472  473  474  475  476  477  478  479  p_loss 1.845574 v_loss 0.059737\n",
            "game 480  481  482  483  484  485  486  487  488  489  490  491  492  493  494  495  496  497  498  499  p_loss 1.939618 v_loss 0.062329\n",
            "game 500  501  502  503  504  505  506  507  508  509  510  511  512  513  514  515  516  517  518  519  p_loss 1.845350 v_loss 0.069254\n",
            "game 520  521  522  523  524  525  526  527  528  529  530  531  532  533  534  535  536  537  538  539  p_loss 1.881344 v_loss 0.062592\n",
            "game 540  541  542  543  544  545  546  547  548  549  550  551  552  553  554  555  556  557  558  559  p_loss 1.834233 v_loss 0.058440\n",
            "game 560  561  562  563  564  565  566  567  568  569  570  571  572  573  574  575  576  577  578  579  p_loss 1.818480 v_loss 0.057589\n",
            "game 580  581  582  583  584  585  586  587  588  589  590  591  592  593  594  595  596  597  598  599  p_loss 1.758880 v_loss 0.054526\n",
            "game 600  601  602  603  604  605  606  607  608  609  610  611  612  613  614  615  616  617  618  619  p_loss 1.704311 v_loss 0.046190\n",
            "game 620  621  622  623  624  625  626  627  628  629  630  631  632  633  634  635  636  637  638  639  p_loss 1.733398 v_loss 0.062620\n",
            "game 640  641  642  643  644  645  646  647  648  649  650  651  652  653  654  655  656  657  658  659  p_loss 1.735994 v_loss 0.049414\n",
            "game 660  661  662  663  664  665  666  667  668  669  670  671  672  673  674  675  676  677  678  679  p_loss 1.767533 v_loss 0.059368\n",
            "game 680  681  682  683  684  685  686  687  688  689  690  691  692  693  694  695  696  697  698  699  p_loss 1.647014 v_loss 0.038270\n",
            "game 700  701  702  703  704  705  706  707  708  709  710  711  712  713  714  715  716  717  718  719  p_loss 1.797559 v_loss 0.618391\n",
            "game 720  721  722  723  724  725  726  727  728  729  730  731  732  733  734  735  736  737  738  739  p_loss 1.763602 v_loss 0.911323\n",
            "game 740  741  742  743  744  745  746  747  748  749  750  751  752  753  754  755  756  757  758  759  p_loss 1.649432 v_loss 0.537783\n",
            "game 760  761  762  763  764  765  766  767  768  769  770  771  772  773  774  775  776  777  778  779  p_loss 1.890387 v_loss 0.705780\n",
            "game 780  781  782  783  784  785  786  787  788  789  790  791  792  793  794  795  796  797  798  799  p_loss 1.745097 v_loss 0.466540\n",
            "game 800  801  802  803  804  805  806  807  808  809  810  811  812  813  814  815  816  817  818  819  p_loss 1.681306 v_loss 0.563543\n",
            "game 820  821  822  823  824  825  826  827  828  829  830  831  832  833  834  835  836  837  838  839  p_loss 1.728250 v_loss 0.450972\n",
            "game 840  841  842  843  844  845  846  847  848  849  850  851  852  853  854  855  856  857  858  859  p_loss 1.657022 v_loss 0.470349\n",
            "game 860  861  862  863  864  865  866  867  868  869  870  871  872  873  874  875  876  877  878  879  p_loss 1.686683 v_loss 0.594053\n",
            "game 880  881  882  883  884  885  886  887  888  889  890  891  892  893  894  895  896  897  898  899  p_loss 1.719797 v_loss 0.594800\n",
            "game 900  901  902  903  904  905  906  907  908  909  910  911  912  913  914  915  916  917  918  919  p_loss 1.679460 v_loss 0.556027\n",
            "game 920  921  922  923  924  925  926  927  928  929  930  931  932  933  934  935  936  937  938  939  p_loss 1.772144 v_loss 0.363476\n",
            "game 940  941  942  943  944  945  946  947  948  949  950  951  952  953  954  955  956  957  958  959  p_loss 1.731210 v_loss 0.207793\n",
            "game 960  961  962  963  964  965  966  967  968  969  970  971  972  973  974  975  976  977  978  979  p_loss 1.711677 v_loss 0.193037\n",
            "game 980  981  982  983  984  985  986  987  988  989  990  991  992  993  994  995  996  997  998  999  p_loss 1.674476 v_loss 0.231097\n",
            "game 1000  1001  1002  1003  1004  1005  1006  1007  1008  1009  1010  1011  1012  1013  1014  1015  1016  1017  1018  1019  p_loss 1.678157 v_loss 0.244838\n",
            "game 1020  1021  1022  1023  1024  1025  1026  1027  1028  1029  1030  1031  1032  1033  1034  1035  1036  1037  1038  1039  p_loss 1.716473 v_loss 0.289531\n",
            "game 1040  1041  1042  1043  1044  1045  1046  1047  1048  1049  1050  1051  1052  1053  1054  1055  1056  1057  1058  1059  p_loss 1.743376 v_loss 0.291326\n",
            "game 1060  1061  1062  1063  1064  1065  1066  1067  1068  1069  1070  1071  1072  1073  1074  1075  1076  1077  1078  1079  p_loss 1.706466 v_loss 0.334427\n",
            "game 1080  1081  1082  1083  1084  1085  1086  1087  1088  1089  1090  1091  1092  1093  1094  1095  1096  1097  1098  1099  p_loss 1.709224 v_loss 0.317933\n",
            "game 1100  1101  1102  1103  1104  1105  1106  1107  1108  1109  1110  1111  1112  1113  1114  1115  1116  1117  1118  1119  p_loss 1.702886 v_loss 0.324696\n",
            "game 1120  1121  1122  1123  1124  1125  1126  1127  1128  1129  1130  1131  1132  1133  1134  1135  1136  1137  1138  1139  p_loss 1.651103 v_loss 0.356751\n",
            "game 1140  1141  1142  1143  1144  1145  1146  1147  1148  1149  1150  1151  1152  1153  1154  1155  1156  1157  1158  1159  p_loss 1.651579 v_loss 0.347125\n",
            "game 1160  1161  1162  1163  1164  1165  1166  1167  1168  1169  1170  1171  1172  1173  1174  1175  1176  1177  1178  1179  p_loss 1.671844 v_loss 0.374649\n",
            "game 1180  1181  1182  1183  1184  1185  1186  1187  1188  1189  1190  1191  1192  1193  1194  1195  1196  1197  1198  1199  p_loss 1.727729 v_loss 0.398632\n",
            "game 1200  1201  1202  1203  1204  1205  1206  1207  1208  1209  1210  1211  1212  1213  1214  1215  1216  1217  1218  1219  p_loss 1.657413 v_loss 0.384255\n",
            "game 1220  1221  1222  1223  1224  1225  1226  1227  1228  1229  1230  1231  1232  1233  1234  1235  1236  1237  1238  1239  p_loss 1.638767 v_loss 0.375246\n",
            "game 1240  1241  1242  1243  1244  1245  1246  1247  1248  1249  1250  1251  1252  1253  1254  1255  1256  1257  1258  1259  p_loss 1.736311 v_loss 0.423424\n",
            "game 1260  1261  1262  1263  1264  1265  1266  1267  1268  1269  1270  1271  1272  1273  1274  1275  1276  1277  1278  1279  p_loss 1.669784 v_loss 0.403575\n",
            "game 1280  1281  1282  1283  1284  1285  1286  1287  1288  1289  1290  1291  1292  1293  1294  1295  1296  1297  1298  1299  p_loss 1.605229 v_loss 0.394253\n",
            "game 1300  1301  1302  1303  1304  1305  1306  1307  1308  1309  1310  1311  1312  1313  1314  1315  1316  1317  1318  1319  p_loss 1.750468 v_loss 0.442411\n",
            "game 1320  1321  1322  1323  1324  1325  1326  1327  1328  1329  1330  1331  1332  1333  1334  1335  1336  1337  1338  1339  p_loss 1.741840 v_loss 0.449683\n",
            "game 1340  1341  1342  1343  1344  1345  1346  1347  1348  1349  1350  1351  1352  1353  1354  1355  1356  1357  1358  1359  p_loss 1.679719 v_loss 0.423727\n",
            "game 1360  1361  1362  1363  1364  1365  1366  1367  1368  1369  1370  1371  1372  1373  1374  1375  1376  1377  1378  1379  p_loss 1.664337 v_loss 0.428459\n",
            "game 1380  1381  1382  1383  1384  1385  1386  1387  1388  1389  1390  1391  1392  1393  1394  1395  1396  1397  1398  1399  p_loss 1.642504 v_loss 0.441672\n",
            "game 1400  1401  1402  1403  1404  1405  1406  1407  1408  1409  1410  1411  1412  1413  1414  1415  1416  1417  1418  1419  p_loss 1.586028 v_loss 0.412540\n",
            "game 1420  1421  1422  1423  1424  1425  1426  1427  1428  1429  1430  1431  1432  1433  1434  1435  1436  1437  1438  1439  p_loss 1.603015 v_loss 0.425284\n",
            "game 1440  1441  1442  1443  1444  1445  1446  1447  1448  1449  1450  1451  1452  1453  1454  1455  1456  1457  1458  1459  p_loss 1.689784 v_loss 0.467216\n",
            "game 1460  1461  1462  1463  1464  1465  1466  1467  1468  1469  1470  1471  1472  1473  1474  1475  1476  1477  1478  1479  p_loss 1.617350 v_loss 0.437691\n",
            "game 1480  1481  1482  1483  1484  1485  1486  1487  1488  1489  1490  1491  1492  1493  1494  1495  1496  1497  1498  1499  p_loss 1.691676 v_loss 0.448282\n",
            "game 1500  1501  1502  1503  1504  1505  1506  1507  1508  1509  1510  1511  1512  1513  1514  1515  1516  1517  1518  1519  p_loss 1.685546 v_loss 0.465920\n",
            "game 1520  1521  1522  1523  1524  1525  1526  1527  1528  1529  1530  1531  1532  1533  1534  1535  1536  1537  1538  1539  p_loss 1.603049 v_loss 0.434615\n",
            "game 1540  1541  1542  1543  1544  1545  1546  1547  1548  1549  1550  1551  1552  1553  1554  1555  1556  1557  1558  1559  p_loss 1.661661 v_loss 0.466593\n",
            "game 1560  1561  1562  1563  1564  1565  1566  1567  1568  1569  1570  1571  1572  1573  1574  1575  1576  1577  1578  1579  p_loss 1.647400 v_loss 0.459300\n",
            "game 1580  1581  1582  1583  1584  1585  1586  1587  1588  1589  1590  1591  1592  1593  1594  1595  1596  1597  1598  1599  p_loss 1.640208 v_loss 0.452038\n",
            "game 1600  1601  1602  1603  1604  1605  1606  1607  1608  1609  1610  1611  1612  1613  1614  1615  1616  1617  1618  1619  p_loss 1.641195 v_loss 0.455557\n",
            "game 1620  1621  1622  1623  1624  1625  1626  1627  1628  1629  1630  1631  1632  1633  1634  1635  1636  1637  1638  1639  p_loss 1.622616 v_loss 0.449310\n",
            "game 1640  1641  1642  1643  1644  1645  1646  1647  1648  1649  1650  1651  1652  1653  1654  1655  1656  1657  1658  1659  p_loss 1.512697 v_loss 0.421041\n",
            "game 1660  1661  1662  1663  1664  1665  1666  1667  1668  1669  1670  1671  1672  1673  1674  1675  1676  1677  1678  1679  p_loss 1.554920 v_loss 0.420426\n",
            "game 1680  1681  1682  1683  1684  1685  1686  1687  1688  1689  1690  1691  1692  1693  1694  1695  1696  1697  1698  1699  p_loss 1.568708 v_loss 0.435882\n",
            "game 1700  1701  1702  1703  1704  1705  1706  1707  1708  1709  1710  1711  1712  1713  1714  1715  1716  1717  1718  1719  p_loss 1.565182 v_loss 0.447752\n",
            "game 1720  1721  1722  1723  1724  1725  1726  1727  1728  1729  1730  1731  1732  1733  1734  1735  1736  1737  1738  1739  p_loss 1.553085 v_loss 0.427032\n",
            "game 1740  1741  1742  1743  1744  1745  1746  1747  1748  1749  1750  1751  1752  1753  1754  1755  1756  1757  1758  1759  p_loss 1.605533 v_loss 0.442399\n",
            "game 1760  1761  1762  1763  1764  1765  1766  1767  1768  1769  1770  1771  1772  1773  1774  1775  1776  1777  1778  1779  p_loss 1.563183 v_loss 0.434496\n",
            "game 1780  1781  1782  1783  1784  1785  1786  1787  1788  1789  1790  1791  1792  1793  1794  1795  1796  1797  1798  1799  p_loss 1.582537 v_loss 0.450150\n",
            "game 1800  1801  1802  1803  1804  1805  1806  1807  1808  1809  1810  1811  1812  1813  1814  1815  1816  1817  1818  1819  p_loss 1.571899 v_loss 0.439657\n",
            "game 1820  1821  1822  1823  1824  1825  1826  1827  1828  1829  1830  1831  1832  1833  1834  1835  1836  1837  1838  1839  p_loss 1.618832 v_loss 0.447861\n",
            "game 1840  1841  1842  1843  1844  1845  1846  1847  1848  1849  1850  1851  1852  1853  1854  1855  1856  1857  1858  1859  p_loss 1.596829 v_loss 0.442148\n",
            "game 1860  1861  1862  1863  1864  1865  1866  1867  1868  1869  1870  1871  1872  1873  1874  1875  1876  1877  1878  1879  p_loss 1.570154 v_loss 0.445182\n",
            "game 1880  1881  1882  1883  1884  1885  1886  1887  1888  1889  1890  1891  1892  1893  1894  1895  1896  1897  1898  1899  p_loss 1.543274 v_loss 0.430377\n",
            "game 1900  1901  1902  1903  1904  1905  1906  1907  1908  1909  1910  1911  1912  1913  1914  1915  1916  1917  1918  1919  p_loss 1.590202 v_loss 0.442894\n",
            "game 1920  1921  1922  1923  1924  1925  1926  1927  1928  1929  1930  1931  1932  1933  1934  1935  1936  1937  1938  1939  p_loss 1.601105 v_loss 0.446337\n",
            "game 1940  1941  1942  1943  1944  1945  1946  1947  1948  1949  1950  1951  1952  1953  1954  1955  1956  1957  1958  1959  p_loss 1.535964 v_loss 0.426362\n",
            "game 1960  1961  1962  1963  1964  1965  1966  1967  1968  1969  1970  1971  1972  1973  1974  1975  1976  1977  1978  1979  p_loss 1.536426 v_loss 0.438550\n",
            "game 1980  1981  1982  1983  1984  1985  1986  1987  1988  1989  1990  1991  1992  1993  1994  1995  1996  1997  1998  1999  p_loss 1.480389 v_loss 0.395423\n",
            "game 2000  2001  2002  2003  2004  2005  2006  2007  2008  2009  2010  2011  2012  2013  2014  2015  2016  2017  2018  2019  p_loss 1.557674 v_loss 0.426838\n",
            "game 2020  2021  2022  2023  2024  2025  2026  2027  2028  2029  2030  2031  2032  2033  2034  2035  2036  2037  2038  2039  p_loss 1.546115 v_loss 0.420765\n",
            "game 2040  2041  2042  2043  2044  2045  2046  2047  2048  2049  2050  2051  2052  2053  2054  2055  2056  2057  2058  2059  p_loss 1.510765 v_loss 0.444504\n",
            "game 2060  2061  2062  2063  2064  2065  2066  2067  2068  2069  2070  2071  2072  2073  2074  2075  2076  2077  2078  2079  p_loss 1.575784 v_loss 0.446583\n",
            "game 2080  2081  2082  2083  2084  2085  2086  2087  2088  2089  2090  2091  2092  2093  2094  2095  2096  2097  2098  2099  p_loss 1.511488 v_loss 0.416049\n",
            "game 2100  2101  2102  2103  2104  2105  2106  2107  2108  2109  2110  2111  2112  2113  2114  2115  2116  2117  2118  2119  p_loss 1.493811 v_loss 0.421169\n",
            "game 2120  2121  2122  2123  2124  2125  2126  2127  2128  2129  2130  2131  2132  2133  2134  2135  2136  2137  2138  2139  p_loss 1.497770 v_loss 0.407499\n",
            "game 2140  2141  2142  2143  2144  2145  2146  2147  2148  2149  2150  2151  2152  2153  2154  2155  2156  2157  2158  2159  p_loss 1.506815 v_loss 0.422332\n",
            "game 2160  2161  2162  2163  2164  2165  2166  2167  2168  2169  2170  2171  2172  2173  2174  2175  2176  2177  2178  2179  p_loss 1.469944 v_loss 0.401309\n",
            "game 2180  2181  2182  2183  2184  2185  2186  2187  2188  2189  2190  2191  2192  2193  2194  2195  2196  2197  2198  2199  p_loss 1.523406 v_loss 0.423071\n",
            "game 2200  2201  2202  2203  2204  2205  2206  2207  2208  2209  2210  2211  2212  2213  2214  2215  2216  2217  2218  2219  p_loss 1.487086 v_loss 0.410570\n",
            "game 2220  2221  2222  2223  2224  2225  2226  2227  2228  2229  2230  2231  2232  2233  2234  2235  2236  2237  2238  2239  p_loss 1.524728 v_loss 0.416508\n",
            "game 2240  2241  2242  2243  2244  2245  2246  2247  2248  2249  2250  2251  2252  2253  2254  2255  2256  2257  2258  2259  p_loss 1.481339 v_loss 0.403252\n",
            "game 2260  2261  2262  2263  2264  2265  2266  2267  2268  2269  2270  2271  2272  2273  2274  2275  2276  2277  2278  2279  p_loss 1.491950 v_loss 0.406432\n",
            "game 2280  2281  2282  2283  2284  2285  2286  2287  2288  2289  2290  2291  2292  2293  2294  2295  2296  2297  2298  2299  p_loss 1.496210 v_loss 0.419399\n",
            "game 2300  2301  2302  2303  2304  2305  2306  2307  2308  2309  2310  2311  2312  2313  2314  2315  2316  2317  2318  2319  p_loss 1.468131 v_loss 0.410554\n",
            "game 2320  2321  2322  2323  2324  2325  2326  2327  2328  2329  2330  2331  2332  2333  2334  2335  2336  2337  2338  2339  p_loss 1.524393 v_loss 0.423917\n",
            "game 2340  2341  2342  2343  2344  2345  2346  2347  2348  2349  2350  2351  2352  2353  2354  2355  2356  2357  2358  2359  p_loss 1.460337 v_loss 0.406532\n",
            "game 2360  2361  2362  2363  2364  2365  2366  2367  2368  2369  2370  2371  2372  2373  2374  2375  2376  2377  2378  2379  p_loss 1.483576 v_loss 0.404945\n",
            "game 2380  2381  2382  2383  2384  2385  2386  2387  2388  2389  2390  2391  2392  2393  2394  2395  2396  2397  2398  2399  p_loss 1.520874 v_loss 0.415506\n",
            "game 2400  2401  2402  2403  2404  2405  2406  2407  2408  2409  2410  2411  2412  2413  2414  2415  2416  2417  2418  2419  p_loss 1.490198 v_loss 0.408683\n",
            "game 2420  2421  2422  2423  2424  2425  2426  2427  2428  2429  2430  2431  2432  2433  2434  2435  2436  2437  2438  2439  p_loss 1.532675 v_loss 0.407135\n",
            "game 2440  2441  2442  2443  2444  2445  2446  2447  2448  2449  2450  2451  2452  2453  2454  2455  2456  2457  2458  2459  p_loss 1.492237 v_loss 0.415031\n",
            "game 2460  2461  2462  2463  2464  2465  2466  2467  2468  2469  2470  2471  2472  2473  2474  2475  2476  2477  2478  2479  p_loss 1.463473 v_loss 0.416939\n",
            "game 2480  2481  2482  2483  2484  2485  2486  2487  2488  2489  2490  2491  2492  2493  2494  2495  2496  2497  2498  2499  p_loss 1.485568 v_loss 0.392433\n",
            "game 2500  2501  2502  2503  2504  2505  2506  2507  2508  2509  2510  2511  2512  2513  2514  2515  2516  2517  2518  2519  p_loss 1.422421 v_loss 0.376302\n",
            "game 2520  2521  2522  2523  2524  2525  2526  2527  2528  2529  2530  2531  2532  2533  2534  2535  2536  2537  2538  2539  p_loss 1.499392 v_loss 0.398568\n",
            "game 2540  2541  2542  2543  2544  2545  2546  2547  2548  2549  2550  2551  2552  2553  2554  2555  2556  2557  2558  2559  p_loss 1.548333 v_loss 0.410687\n",
            "game 2560  2561  2562  2563  2564  2565  2566  2567  2568  2569  2570  2571  2572  2573  2574  2575  2576  2577  2578  2579  p_loss 1.485067 v_loss 0.404333\n",
            "game 2580  2581  2582  2583  2584  2585  2586  2587  2588  2589  2590  2591  2592  2593  2594  2595  2596  2597  2598  2599  p_loss 1.446803 v_loss 0.374081\n",
            "game 2600  2601  2602  2603  2604  2605  2606  2607  2608  2609  2610  2611  2612  2613  2614  2615  2616  2617  2618  2619  p_loss 1.451033 v_loss 0.381973\n",
            "game 2620  2621  2622  2623  2624  2625  2626  2627  2628  2629  2630  2631  2632  2633  2634  2635  2636  2637  2638  2639  p_loss 1.478580 v_loss 0.389375\n",
            "game 2640  2641  2642  2643  2644  2645  2646  2647  2648  2649  2650  2651  2652  2653  2654  2655  2656  2657  2658  2659  p_loss 1.439078 v_loss 0.369879\n",
            "game 2660  2661  2662  2663  2664  2665  2666  2667  2668  2669  2670  2671  2672  2673  2674  2675  2676  2677  2678  2679  p_loss 1.404485 v_loss 0.371990\n",
            "game 2680  2681  2682  2683  2684  2685  2686  2687  2688  2689  2690  2691  2692  2693  2694  2695  2696  2697  2698  2699  p_loss 1.454089 v_loss 0.376650\n",
            "game 2700  2701  2702  2703  2704  2705  2706  2707  2708  2709  2710  2711  2712  2713  2714  2715  2716  2717  2718  2719  p_loss 1.488142 v_loss 0.378069\n",
            "game 2720  2721  2722  2723  2724  2725  2726  2727  2728  2729  2730  2731  2732  2733  2734  2735  2736  2737  2738  2739  p_loss 1.419092 v_loss 0.350845\n",
            "game 2740  2741  2742  2743  2744  2745  2746  2747  2748  2749  2750  2751  2752  2753  2754  2755  2756  2757  2758  2759  p_loss 1.465648 v_loss 0.365099\n",
            "game 2760  2761  2762  2763  2764  2765  2766  2767  2768  2769  2770  2771  2772  2773  2774  2775  2776  2777  2778  2779  p_loss 1.476289 v_loss 0.401994\n",
            "game 2780  2781  2782  2783  2784  2785  2786  2787  2788  2789  2790  2791  2792  2793  2794  2795  2796  2797  2798  2799  p_loss 1.485587 v_loss 0.389787\n",
            "game 2800  2801  2802  2803  2804  2805  2806  2807  2808  2809  2810  2811  2812  2813  2814  2815  2816  2817  2818  2819  p_loss 1.454313 v_loss 0.342596\n",
            "game 2820  2821  2822  2823  2824  2825  2826  2827  2828  2829  2830  2831  2832  2833  2834  2835  2836  2837  2838  2839  p_loss 1.503014 v_loss 0.389315\n",
            "game 2840  2841  2842  2843  2844  2845  2846  2847  2848  2849  2850  2851  2852  2853  2854  2855  2856  2857  2858  2859  p_loss 1.460296 v_loss 0.357939\n",
            "game 2860  2861  2862  2863  2864  2865  2866  2867  2868  2869  2870  2871  2872  2873  2874  2875  2876  2877  2878  2879  p_loss 1.404169 v_loss 0.354071\n",
            "game 2880  2881  2882  2883  2884  2885  2886  2887  2888  2889  2890  2891  2892  2893  2894  2895  2896  2897  2898  2899  p_loss 1.438829 v_loss 0.360618\n",
            "game 2900  2901  2902  2903  2904  2905  2906  2907  2908  2909  2910  2911  2912  2913  2914  2915  2916  2917  2918  2919  p_loss 1.419614 v_loss 0.340287\n",
            "game 2920  2921  2922  2923  2924  2925  2926  2927  2928  2929  2930  2931  2932  2933  2934  2935  2936  2937  2938  2939  p_loss 1.481630 v_loss 0.370164\n",
            "game 2940  2941  2942  2943  2944  2945  2946  2947  2948  2949  2950  2951  2952  2953  2954  2955  2956  2957  2958  2959  p_loss 1.433833 v_loss 0.369023\n",
            "game 2960  2961  2962  2963  2964  2965  2966  2967  2968  2969  2970  2971  2972  2973  2974  2975  2976  2977  2978  2979  p_loss 1.406083 v_loss 0.341084\n",
            "game 2980  2981  2982  2983  2984  2985  2986  2987  2988  2989  2990  2991  2992  2993  2994  2995  2996  2997  2998  2999  p_loss 1.365567 v_loss 0.312410\n",
            "game 3000  3001  3002  3003  3004  3005  3006  3007  3008  3009  3010  3011  3012  3013  3014  3015  3016  3017  3018  3019  p_loss 1.345159 v_loss 0.301949\n",
            "game 3020  3021  3022  3023  3024  3025  3026  3027  3028  3029  3030  3031  3032  3033  3034  3035  3036  3037  3038  3039  p_loss 1.353828 v_loss 0.326130\n",
            "game 3040  3041  3042  3043  3044  3045  3046  3047  3048  3049  3050  3051  3052  3053  3054  3055  3056  3057  3058  3059  p_loss 1.408380 v_loss 0.342203\n",
            "game 3060  3061  3062  3063  3064  3065  3066  3067  3068  3069  3070  3071  3072  3073  3074  3075  3076  3077  3078  3079  p_loss 1.428496 v_loss 0.340904\n",
            "game 3080  3081  3082  3083  3084  3085  3086  3087  3088  3089  3090  3091  3092  3093  3094  3095  3096  3097  3098  3099  p_loss 1.390819 v_loss 0.334597\n",
            "game 3100  3101  3102  3103  3104  3105  3106  3107  3108  3109  3110  3111  3112  3113  3114  3115  3116  3117  3118  3119  p_loss 1.395757 v_loss 0.313041\n",
            "game 3120  3121  3122  3123  3124  3125  3126  3127  3128  3129  3130  3131  3132  3133  3134  3135  3136  3137  3138  3139  p_loss 1.429572 v_loss 0.346657\n",
            "game 3140  3141  3142  3143  3144  3145  3146  3147  3148  3149  3150  3151  3152  3153  3154  3155  3156  3157  3158  3159  p_loss 1.350116 v_loss 0.311880\n",
            "game 3160  3161  3162  3163  3164  3165  3166  3167  3168  3169  3170  3171  3172  3173  3174  3175  3176  3177  3178  3179  p_loss 1.414785 v_loss 0.326819\n",
            "game 3180  3181  3182  3183  3184  3185  3186  3187  3188  3189  3190  3191  3192  3193  3194  3195  3196  3197  3198  3199  p_loss 1.436742 v_loss 0.332849\n",
            "game 3200  3201  3202  3203  3204  3205  3206  3207  3208  3209  3210  3211  3212  3213  3214  3215  3216  3217  3218  3219  p_loss 1.352356 v_loss 0.304016\n",
            "game 3220  3221  3222  3223  3224  3225  3226  3227  3228  3229  3230  3231  3232  3233  3234  3235  3236  3237  3238  3239  p_loss 1.335701 v_loss 0.314198\n",
            "game 3240  3241  3242  3243  3244  3245  3246  3247  3248  3249  3250  3251  3252  3253  3254  3255  3256  3257  3258  3259  p_loss 1.404884 v_loss 0.317023\n",
            "game 3260  3261  3262  3263  3264  3265  3266  3267  3268  3269  3270  3271  3272  3273  3274  3275  3276  3277  3278  3279  p_loss 1.342809 v_loss 0.312796\n",
            "game 3280  3281  3282  3283  3284  3285  3286  3287  3288  3289  3290  3291  3292  3293  3294  3295  3296  3297  3298  3299  p_loss 1.332638 v_loss 0.290247\n",
            "game 3300  3301  3302  3303  3304  3305  3306  3307  3308  3309  3310  3311  3312  3313  3314  3315  3316  3317  3318  3319  p_loss 1.391338 v_loss 0.317134\n",
            "game 3320  3321  3322  3323  3324  3325  3326  3327  3328  3329  3330  3331  3332  3333  3334  3335  3336  3337  3338  3339  p_loss 1.335041 v_loss 0.308365\n",
            "game 3340  3341  3342  3343  3344  3345  3346  3347  3348  3349  3350  3351  3352  3353  3354  3355  3356  3357  3358  3359  p_loss 1.319068 v_loss 0.305204\n",
            "game 3360  3361  3362  3363  3364  3365  3366  3367  3368  3369  3370  3371  3372  3373  3374  3375  3376  3377  3378  3379  p_loss 1.290284 v_loss 0.287473\n",
            "game 3380  3381  3382  3383  3384  3385  3386  3387  3388  3389  3390  3391  3392  3393  3394  3395  3396  3397  3398  3399  p_loss 1.339374 v_loss 0.311341\n",
            "game 3400  3401  3402  3403  3404  3405  3406  3407  3408  3409  3410  3411  3412  3413  3414  3415  3416  3417  3418  3419  p_loss 1.338782 v_loss 0.304641\n",
            "game 3420  3421  3422  3423  3424  3425  3426  3427  3428  3429  3430  3431  3432  3433  3434  3435  3436  3437  3438  3439  p_loss 1.332540 v_loss 0.291655\n",
            "game 3440  3441  3442  3443  3444  3445  3446  3447  3448  3449  3450  3451  3452  3453  3454  3455  3456  3457  3458  3459  p_loss 1.336037 v_loss 0.296131\n",
            "game 3460  3461  3462  3463  3464  3465  3466  3467  3468  3469  3470  3471  3472  3473  3474  3475  3476  3477  3478  3479  p_loss 1.311916 v_loss 0.291914\n",
            "game 3480  3481  3482  3483  3484  3485  3486  3487  3488  3489  3490  3491  3492  3493  3494  3495  3496  3497  3498  3499  p_loss 1.325002 v_loss 0.293747\n",
            "game 3500  3501  3502  3503  3504  3505  3506  3507  3508  3509  3510  3511  3512  3513  3514  3515  3516  3517  3518  3519  p_loss 1.327878 v_loss 0.298183\n",
            "game 3520  3521  3522  3523  3524  3525  3526  3527  3528  3529  3530  3531  3532  3533  3534  3535  3536  3537  3538  3539  p_loss 1.295509 v_loss 0.267281\n",
            "game 3540  3541  3542  3543  3544  3545  3546  3547  3548  3549  3550  3551  3552  3553  3554  3555  3556  3557  3558  3559  p_loss 1.304975 v_loss 0.279639\n",
            "game 3560  3561  3562  3563  3564  3565  3566  3567  3568  3569  3570  3571  3572  3573  3574  3575  3576  3577  3578  3579  p_loss 1.339748 v_loss 0.302475\n",
            "game 3580  3581  3582  3583  3584  3585  3586  3587  3588  3589  3590  3591  3592  3593  3594  3595  3596  3597  3598  3599  p_loss 1.324578 v_loss 0.272306\n",
            "game 3600  3601  3602  3603  3604  3605  3606  3607  3608  3609  3610  3611  3612  3613  3614  3615  3616  3617  3618  3619  p_loss 1.355400 v_loss 0.291588\n",
            "game 3620  3621  3622  3623  3624  3625  3626  3627  3628  3629  3630  3631  3632  3633  3634  3635  3636  3637  3638  3639  p_loss 1.308455 v_loss 0.279123\n",
            "game 3640  3641  3642  3643  3644  3645  3646  3647  3648  3649  3650  3651  3652  3653  3654  3655  3656  3657  3658  3659  p_loss 1.307755 v_loss 0.292011\n",
            "game 3660  3661  3662  3663  3664  3665  3666  3667  3668  3669  3670  3671  3672  3673  3674  3675  3676  3677  3678  3679  p_loss 1.253194 v_loss 0.264933\n",
            "game 3680  3681  3682  3683  3684  3685  3686  3687  3688  3689  3690  3691  3692  3693  3694  3695  3696  3697  3698  3699  p_loss 1.329498 v_loss 0.289325\n",
            "game 3700  3701  3702  3703  3704  3705  3706  3707  3708  3709  3710  3711  3712  3713  3714  3715  3716  3717  3718  3719  p_loss 1.332557 v_loss 0.283926\n",
            "game 3720  3721  3722  3723  3724  3725  3726  3727  3728  3729  3730  3731  3732  3733  3734  3735  3736  3737  3738  3739  p_loss 1.270772 v_loss 0.266601\n",
            "game 3740  3741  3742  3743  3744  3745  3746  3747  3748  3749  3750  3751  3752  3753  3754  3755  3756  3757  3758  3759  p_loss 1.297213 v_loss 0.267438\n",
            "game 3760  3761  3762  3763  3764  3765  3766  3767  3768  3769  3770  3771  3772  3773  3774  3775  3776  3777  3778  3779  p_loss 1.300228 v_loss 0.267103\n",
            "game 3780  3781  3782  3783  3784  3785  3786  3787  3788  3789  3790  3791  3792  3793  3794  3795  3796  3797  3798  3799  p_loss 1.305548 v_loss 0.276714\n",
            "game 3800  3801  3802  3803  3804  3805  3806  3807  3808  3809  3810  3811  3812  3813  3814  3815  3816  3817  3818  3819  p_loss 1.280859 v_loss 0.270031\n",
            "game 3820  3821  3822  3823  3824  3825  3826  3827  3828  3829  3830  3831  3832  3833  3834  3835  3836  3837  3838  3839  p_loss 1.305980 v_loss 0.281314\n",
            "game 3840  3841  3842  3843  3844  3845  3846  3847  3848  3849  3850  3851  3852  3853  3854  3855  3856  3857  3858  3859  p_loss 1.284479 v_loss 0.265407\n",
            "game 3860  3861  3862  3863  3864  3865  3866  3867  3868  3869  3870  3871  3872  3873  3874  3875  3876  3877  3878  3879  p_loss 1.296919 v_loss 0.262068\n",
            "game 3880  3881  3882  3883  3884  3885  3886  3887  3888  3889  3890  3891  3892  3893  3894  3895  3896  3897  3898  3899  p_loss 1.251501 v_loss 0.256328\n",
            "game 3900  3901  3902  3903  3904  3905  3906  3907  3908  3909  3910  3911  3912  3913  3914  3915  3916  3917  3918  3919  p_loss 1.281121 v_loss 0.260766\n",
            "game 3920  3921  3922  3923  3924  3925  3926  3927  3928  3929  3930  3931  3932  3933  3934  3935  3936  3937  3938  3939  p_loss 1.355591 v_loss 0.288327\n",
            "game 3940  3941  3942  3943  3944  3945  3946  3947  3948  3949  3950  3951  3952  3953  3954  3955  3956  3957  3958  3959  p_loss 1.287763 v_loss 0.270585\n",
            "game 3960  3961  3962  3963  3964  3965  3966  3967  3968  3969  3970  3971  3972  3973  3974  3975  3976  3977  3978  3979  p_loss 1.242989 v_loss 0.249891\n",
            "game 3980  3981  3982  3983  3984  3985  3986  3987  3988  3989  3990  3991  3992  3993  3994  3995  3996  3997  3998  3999  p_loss 1.275572 v_loss 0.274251\n",
            "game 4000  4001  4002  4003  4004  4005  4006  4007  4008  4009  4010  4011  4012  4013  4014  4015  4016  4017  4018  4019  p_loss 1.312258 v_loss 0.287218\n",
            "game 4020  4021  4022  4023  4024  4025  4026  4027  4028  4029  4030  4031  4032  4033  4034  4035  4036  4037  4038  4039  p_loss 1.230918 v_loss 0.266956\n",
            "game 4040  4041  4042  4043  4044  4045  4046  4047  4048  4049  4050  4051  4052  4053  4054  4055  4056  4057  4058  4059  p_loss 1.250451 v_loss 0.263998\n",
            "game 4060  4061  4062  4063  4064  4065  4066  4067  4068  4069  4070  4071  4072  4073  4074  4075  4076  4077  4078  4079  p_loss 1.298152 v_loss 0.263614\n",
            "game 4080  4081  4082  4083  4084  4085  4086  4087  4088  4089  4090  4091  4092  4093  4094  4095  4096  4097  4098  4099  p_loss 1.220867 v_loss 0.232890\n",
            "game 4100  4101  4102  4103  4104  4105  4106  4107  4108  4109  4110  4111  4112  4113  4114  4115  4116  4117  4118  4119  p_loss 1.256862 v_loss 0.266603\n",
            "game 4120  4121  4122  4123  4124  4125  4126  4127  4128  4129  4130  4131  4132  4133  4134  4135  4136  4137  4138  4139  p_loss 1.257496 v_loss 0.249179\n",
            "game 4140  4141  4142  4143  4144  4145  4146  4147  4148  4149  4150  4151  4152  4153  4154  4155  4156  4157  4158  4159  p_loss 1.268913 v_loss 0.256629\n",
            "game 4160  4161  4162  4163  4164  4165  4166  4167  4168  4169  4170  4171  4172  4173  4174  4175  4176  4177  4178  4179  p_loss 1.201915 v_loss 0.228664\n",
            "game 4180  4181  4182  4183  4184  4185  4186  4187  4188  4189  4190  4191  4192  4193  4194  4195  4196  4197  4198  4199  p_loss 1.239473 v_loss 0.246167\n",
            "game 4200  4201  4202  4203  4204  4205  4206  4207  4208  4209  4210  4211  4212  4213  4214  4215  4216  4217  4218  4219  p_loss 1.248633 v_loss 0.245938\n",
            "game 4220  4221  4222  4223  4224  4225  4226  4227  4228  4229  4230  4231  4232  4233  4234  4235  4236  4237  4238  4239  p_loss 1.200496 v_loss 0.227388\n",
            "game 4240  4241  4242  4243  4244  4245  4246  4247  4248  4249  4250  4251  4252  4253  4254  4255  4256  4257  4258  4259  p_loss 1.211873 v_loss 0.252216\n",
            "game 4260  4261  4262  4263  4264  4265  4266  4267  4268  4269  4270  4271  4272  4273  4274  4275  4276  4277  4278  4279  p_loss 1.238017 v_loss 0.240553\n",
            "game 4280  4281  4282  4283  4284  4285  4286  4287  4288  4289  4290  4291  4292  4293  4294  4295  4296  4297  4298  4299  p_loss 1.218456 v_loss 0.246788\n",
            "game 4300  4301  4302  4303  4304  4305  4306  4307  4308  4309  4310  4311  4312  4313  4314  4315  4316  4317  4318  4319  p_loss 1.211998 v_loss 0.238171\n",
            "game 4320  4321  4322  4323  4324  4325  4326  4327  4328  4329  4330  4331  4332  4333  4334  4335  4336  4337  4338  4339  p_loss 1.295227 v_loss 0.249683\n",
            "game 4340  4341  4342  4343  4344  4345  4346  4347  4348  4349  4350  4351  4352  4353  4354  4355  4356  4357  4358  4359  p_loss 1.213425 v_loss 0.239436\n",
            "game 4360  4361  4362  4363  4364  4365  4366  4367  4368  4369  4370  4371  4372  4373  4374  4375  4376  4377  4378  4379  p_loss 1.241473 v_loss 0.237781\n",
            "game 4380  4381  4382  4383  4384  4385  4386  4387  4388  4389  4390  4391  4392  4393  4394  4395  4396  4397  4398  4399  p_loss 1.279064 v_loss 0.264906\n",
            "game 4400  4401  4402  4403  4404  4405  4406  4407  4408  4409  4410  4411  4412  4413  4414  4415  4416  4417  4418  4419  p_loss 1.243099 v_loss 0.250571\n",
            "game 4420  4421  4422  4423  4424  4425  4426  4427  4428  4429  4430  4431  4432  4433  4434  4435  4436  4437  4438  4439  p_loss 1.193784 v_loss 0.226180\n",
            "game 4440  4441  4442  4443  4444  4445  4446  4447  4448  4449  4450  4451  4452  4453  4454  4455  4456  4457  4458  4459  p_loss 1.269319 v_loss 0.257552\n",
            "game 4460  4461  4462  4463  4464  4465  4466  4467  4468  4469  4470  4471  4472  4473  4474  4475  4476  4477  4478  4479  p_loss 1.218864 v_loss 0.236398\n",
            "game 4480  4481  4482  4483  4484  4485  4486  4487  4488  4489  4490  4491  4492  4493  4494  4495  4496  4497  4498  4499  p_loss 1.253029 v_loss 0.235446\n",
            "game 4500  4501  4502  4503  4504  4505  4506  4507  4508  4509  4510  4511  4512  4513  4514  4515  4516  4517  4518  4519  p_loss 1.220432 v_loss 0.227410\n",
            "game 4520  4521  4522  4523  4524  4525  4526  4527  4528  4529  4530  4531  4532  4533  4534  4535  4536  4537  4538  4539  p_loss 1.215238 v_loss 0.214876\n",
            "game 4540  4541  4542  4543  4544  4545  4546  4547  4548  4549  4550  4551  4552  4553  4554  4555  4556  4557  4558  4559  p_loss 1.202745 v_loss 0.222723\n",
            "game 4560  4561  4562  4563  4564  4565  4566  4567  4568  4569  4570  4571  4572  4573  4574  4575  4576  4577  4578  4579  p_loss 1.253875 v_loss 0.240377\n",
            "game 4580  4581  4582  4583  4584  4585  4586  4587  4588  4589  4590  4591  4592  4593  4594  4595  4596  4597  4598  4599  p_loss 1.208073 v_loss 0.240038\n",
            "game 4600  4601  4602  4603  4604  4605  4606  4607  4608  4609  4610  4611  4612  4613  4614  4615  4616  4617  4618  4619  p_loss 1.182816 v_loss 0.222042\n",
            "game 4620  4621  4622  4623  4624  4625  4626  4627  4628  4629  4630  4631  4632  4633  4634  4635  4636  4637  4638  4639  p_loss 1.260945 v_loss 0.252751\n",
            "game 4640  4641  4642  4643  4644  4645  4646  4647  4648  4649  4650  4651  4652  4653  4654  4655  4656  4657  4658  4659  p_loss 1.185036 v_loss 0.207972\n",
            "game 4660  4661  4662  4663  4664  4665  4666  4667  4668  4669  4670  4671  4672  4673  4674  4675  4676  4677  4678  4679  p_loss 1.226532 v_loss 0.235330\n",
            "game 4680  4681  4682  4683  4684  4685  4686  4687  4688  4689  4690  4691  4692  4693  4694  4695  4696  4697  4698  4699  p_loss 1.224227 v_loss 0.224929\n",
            "game 4700  4701  4702  4703  4704  4705  4706  4707  4708  4709  4710  4711  4712  4713  4714  4715  4716  4717  4718  4719  p_loss 1.210106 v_loss 0.236910\n",
            "game 4720  4721  4722  4723  4724  4725  4726  4727  4728  4729  4730  4731  4732  4733  4734  4735  4736  4737  4738  4739  p_loss 1.215098 v_loss 0.222010\n",
            "game 4740  4741  4742  4743  4744  4745  4746  4747  4748  4749  4750  4751  4752  4753  4754  4755  4756  4757  4758  4759  p_loss 1.154692 v_loss 0.220294\n",
            "game 4760  4761  4762  4763  4764  4765  4766  4767  4768  4769  4770  4771  4772  4773  4774  4775  4776  4777  4778  4779  p_loss 1.164032 v_loss 0.199953\n",
            "game 4780  4781  4782  4783  4784  4785  4786  4787  4788  4789  4790  4791  4792  4793  4794  4795  4796  4797  4798  4799  p_loss 1.186826 v_loss 0.220358\n",
            "game 4800  4801  4802  4803  4804  4805  4806  4807  4808  4809  4810  4811  4812  4813  4814  4815  4816  4817  4818  4819  p_loss 1.155458 v_loss 0.208306\n",
            "game 4820  4821  4822  4823  4824  4825  4826  4827  4828  4829  4830  4831  4832  4833  4834  4835  4836  4837  4838  4839  p_loss 1.183185 v_loss 0.223963\n",
            "game 4840  4841  4842  4843  4844  4845  4846  4847  4848  4849  4850  4851  4852  4853  4854  4855  4856  4857  4858  4859  p_loss 1.153237 v_loss 0.187808\n",
            "game 4860  4861  4862  4863  4864  4865  4866  4867  4868  4869  4870  4871  4872  4873  4874  4875  4876  4877  4878  4879  p_loss 1.123354 v_loss 0.210556\n",
            "game 4880  4881  4882  4883  4884  4885  4886  4887  4888  4889  4890  4891  4892  4893  4894  4895  4896  4897  4898  4899  p_loss 1.141303 v_loss 0.212575\n",
            "game 4900  4901  4902  4903  4904  4905  4906  4907  4908  4909  4910  4911  4912  4913  4914  4915  4916  4917  4918  4919  p_loss 1.217732 v_loss 0.220856\n",
            "game 4920  4921  4922  4923  4924  4925  4926  4927  4928  4929  4930  4931  4932  4933  4934  4935  4936  4937  4938  4939  p_loss 1.164307 v_loss 0.219478\n",
            "game 4940  4941  4942  4943  4944  4945  4946  4947  4948  4949  4950  4951  4952  4953  4954  4955  4956  4957  4958  4959  p_loss 1.168544 v_loss 0.215846\n",
            "game 4960  4961  4962  4963  4964  4965  4966  4967  4968  4969  4970  4971  4972  4973  4974  4975  4976  4977  4978  4979  p_loss 1.163996 v_loss 0.205226\n",
            "game 4980  4981  4982  4983  4984  4985  4986  4987  4988  4989  4990  4991  4992  4993  4994  4995  4996  4997  4998  4999  p_loss 1.148566 v_loss 0.213409\n",
            "game 5000  5001  5002  5003  5004  5005  5006  5007  5008  5009  5010  5011  5012  5013  5014  5015  5016  5017  5018  5019  p_loss 1.180393 v_loss 0.220329\n",
            "game 5020  5021  5022  5023  5024  5025  5026  5027  5028  5029  5030  5031  5032  5033  5034  5035  5036  5037  5038  5039  p_loss 1.159749 v_loss 0.198091\n",
            "game 5040  5041  5042  5043  5044  5045  5046  5047  5048  5049  5050  5051  5052  5053  5054  5055  5056  5057  5058  5059  p_loss 1.149857 v_loss 0.215667\n",
            "game 5060  5061  5062  5063  5064  5065  5066  5067  5068  5069  5070  5071  5072  5073  5074  5075  5076  5077  5078  5079  p_loss 1.185533 v_loss 0.199651\n",
            "game 5080  5081  5082  5083  5084  5085  5086  5087  5088  5089  5090  5091  5092  5093  5094  5095  5096  5097  5098  5099  p_loss 1.161662 v_loss 0.205166\n",
            "game 5100  5101  5102  5103  5104  5105  5106  5107  5108  5109  5110  5111  5112  5113  5114  5115  5116  5117  5118  5119  p_loss 1.147633 v_loss 0.209073\n",
            "game 5120  5121  5122  5123  5124  5125  5126  5127  5128  5129  5130  5131  5132  5133  5134  5135  5136  5137  5138  5139  p_loss 1.141102 v_loss 0.196074\n",
            "game 5140  5141  5142  5143  5144  5145  5146  5147  5148  5149  5150  5151  5152  5153  5154  5155  5156  5157  5158  5159  p_loss 1.145877 v_loss 0.198277\n",
            "game 5160  5161  5162  5163  5164  5165  5166  5167  5168  5169  5170  5171  5172  5173  5174  5175  5176  5177  5178  5179  p_loss 1.174458 v_loss 0.201439\n",
            "game 5180  5181  5182  5183  5184  5185  5186  5187  5188  5189  5190  5191  5192  5193  5194  5195  5196  5197  5198  5199  p_loss 1.067502 v_loss 0.192050\n",
            "game 5200  5201  5202  5203  5204  5205  5206  5207  5208  5209  5210  5211  5212  5213  5214  5215  5216  5217  5218  5219  p_loss 1.151776 v_loss 0.199934\n",
            "game 5220  5221  5222  5223  5224  5225  5226  5227  5228  5229  5230  5231  5232  5233  5234  5235  5236  5237  5238  5239  p_loss 1.121675 v_loss 0.195953\n",
            "game 5240  5241  5242  5243  5244  5245  5246  5247  5248  5249  5250  5251  5252  5253  5254  5255  5256  5257  5258  5259  p_loss 1.109773 v_loss 0.196413\n",
            "game 5260  5261  5262  5263  5264  5265  5266  5267  5268  5269  5270  5271  5272  5273  5274  5275  5276  5277  5278  5279  p_loss 1.143336 v_loss 0.193542\n",
            "game 5280  5281  5282  5283  5284  5285  5286  5287  5288  5289  5290  5291  5292  5293  5294  5295  5296  5297  5298  5299  p_loss 1.178141 v_loss 0.209466\n",
            "game 5300  5301  5302  5303  5304  5305  5306  5307  5308  5309  5310  5311  5312  5313  5314  5315  5316  5317  5318  5319  p_loss 1.141787 v_loss 0.196978\n",
            "game 5320  5321  5322  5323  5324  5325  5326  5327  5328  5329  5330  5331  5332  5333  5334  5335  5336  5337  5338  5339  p_loss 1.138778 v_loss 0.210721\n",
            "game 5340  5341  5342  5343  5344  5345  5346  5347  5348  5349  5350  5351  5352  5353  5354  5355  5356  5357  5358  5359  p_loss 1.150870 v_loss 0.188922\n",
            "game 5360  5361  5362  5363  5364  5365  5366  5367  5368  5369  5370  5371  5372  5373  5374  5375  5376  5377  5378  5379  p_loss 1.128979 v_loss 0.203955\n",
            "game 5380  5381  5382  5383  5384  5385  5386  5387  5388  5389  5390  5391  5392  5393  5394  5395  5396  5397  5398  5399  p_loss 1.100367 v_loss 0.190425\n",
            "game 5400  5401  5402  5403  5404  5405  5406  5407  5408  5409  5410  5411  5412  5413  5414  5415  5416  5417  5418  5419  p_loss 1.124411 v_loss 0.196298\n",
            "game 5420  5421  5422  5423  5424  5425  5426  5427  5428  5429  5430  5431  5432  5433  5434  5435  5436  5437  5438  5439  p_loss 1.084569 v_loss 0.176347\n",
            "game 5440  5441  5442  5443  5444  5445  5446  5447  5448  5449  5450  5451  5452  5453  5454  5455  5456  5457  5458  5459  p_loss 1.125737 v_loss 0.194399\n",
            "game 5460  5461  5462  5463  5464  5465  5466  5467  5468  5469  5470  5471  5472  5473  5474  5475  5476  5477  5478  5479  p_loss 1.207649 v_loss 0.211638\n",
            "game 5480  5481  5482  5483  5484  5485  5486  5487  5488  5489  5490  5491  5492  5493  5494  5495  5496  5497  5498  5499  p_loss 1.125219 v_loss 0.183202\n",
            "game 5500  5501  5502  5503  5504  5505  5506  5507  5508  5509  5510  5511  5512  5513  5514  5515  5516  5517  5518  5519  p_loss 1.067053 v_loss 0.173291\n",
            "game 5520  5521  5522  5523  5524  5525  5526  5527  5528  5529  5530  5531  5532  5533  5534  5535  5536  5537  5538  5539  p_loss 1.111071 v_loss 0.186983\n",
            "game 5540  5541  5542  5543  5544  5545  5546  5547  5548  5549  5550  5551  5552  5553  5554  5555  5556  5557  5558  5559  p_loss 1.116181 v_loss 0.188613\n",
            "game 5560  5561  5562  5563  5564  5565  5566  5567  5568  5569  5570  5571  5572  5573  5574  5575  5576  5577  5578  5579  p_loss 1.156292 v_loss 0.192750\n",
            "game 5580  5581  5582  5583  5584  5585  5586  5587  5588  5589  5590  5591  5592  5593  5594  5595  5596  5597  5598  5599  p_loss 1.151765 v_loss 0.199390\n",
            "game 5600  5601  5602  5603  5604  5605  5606  5607  5608  5609  5610  5611  5612  5613  5614  5615  5616  5617  5618  5619  p_loss 1.126534 v_loss 0.192693\n",
            "game 5620  5621  5622  5623  5624  5625  5626  5627  5628  5629  5630  5631  5632  5633  5634  5635  5636  5637  5638  5639  p_loss 1.071268 v_loss 0.176364\n",
            "game 5640  5641  5642  5643  5644  5645  5646  5647  5648  5649  5650  5651  5652  5653  5654  5655  5656  5657  5658  5659  p_loss 1.125276 v_loss 0.201333\n",
            "game 5660  5661  5662  5663  5664  5665  5666  5667  5668  5669  5670  5671  5672  5673  5674  5675  5676  5677  5678  5679  p_loss 1.110060 v_loss 0.174129\n",
            "game 5680  5681  5682  5683  5684  5685  5686  5687  5688  5689  5690  5691  5692  5693  5694  5695  5696  5697  5698  5699  p_loss 1.068729 v_loss 0.169083\n",
            "game 5700  5701  5702  5703  5704  5705  5706  5707  5708  5709  5710  5711  5712  5713  5714  5715  5716  5717  5718  5719  p_loss 1.059453 v_loss 0.172103\n",
            "game 5720  5721  5722  5723  5724  5725  5726  5727  5728  5729  5730  5731  5732  5733  5734  5735  5736  5737  5738  5739  p_loss 1.099938 v_loss 0.199569\n",
            "game 5740  5741  5742  5743  5744  5745  5746  5747  5748  5749  5750  5751  5752  5753  5754  5755  5756  5757  5758  5759  p_loss 1.124687 v_loss 0.184639\n",
            "game 5760  5761  5762  5763  5764  5765  5766  5767  5768  5769  5770  5771  5772  5773  5774  5775  5776  5777  5778  5779  p_loss 1.097733 v_loss 0.168852\n",
            "game 5780  5781  5782  5783  5784  5785  5786  5787  5788  5789  5790  5791  5792  5793  5794  5795  5796  5797  5798  5799  p_loss 1.106200 v_loss 0.177230\n",
            "game 5800  5801  5802  5803  5804  5805  5806  5807  5808  5809  5810  5811  5812  5813  5814  5815  5816  5817  5818  5819  p_loss 1.103018 v_loss 0.183537\n",
            "game 5820  5821  5822  5823  5824  5825  5826  5827  5828  5829  5830  5831  5832  5833  5834  5835  5836  5837  5838  5839  p_loss 1.051021 v_loss 0.159114\n",
            "game 5840  5841  5842  5843  5844  5845  5846  5847  5848  5849  5850  5851  5852  5853  5854  5855  5856  5857  5858  5859  p_loss 1.035506 v_loss 0.165753\n",
            "game 5860  5861  5862  5863  5864  5865  5866  5867  5868  5869  5870  5871  5872  5873  5874  5875  5876  5877  5878  5879  p_loss 1.122749 v_loss 0.183800\n",
            "game 5880  5881  5882  5883  5884  5885  5886  5887  5888  5889  5890  5891  5892  5893  5894  5895  5896  5897  5898  5899  p_loss 1.062022 v_loss 0.161726\n",
            "game 5900  5901  5902  5903  5904  5905  5906  5907  5908  5909  5910  5911  5912  5913  5914  5915  5916  5917  5918  5919  p_loss 1.070523 v_loss 0.168621\n",
            "game 5920  5921  5922  5923  5924  5925  5926  5927  5928  5929  5930  5931  5932  5933  5934  5935  5936  5937  5938  5939  p_loss 1.047993 v_loss 0.175804\n",
            "game 5940  5941  5942  5943  5944  5945  5946  5947  5948  5949  5950  5951  5952  5953  5954  5955  5956  5957  5958  5959  p_loss 1.112835 v_loss 0.191211\n",
            "game 5960  5961  5962  5963  5964  5965  5966  5967  5968  5969  5970  5971  5972  5973  5974  5975  5976  5977  5978  5979  p_loss 1.123706 v_loss 0.186325\n",
            "game 5980  5981  5982  5983  5984  5985  5986  5987  5988  5989  5990  5991  5992  5993  5994  5995  5996  5997  5998  5999  p_loss 1.117583 v_loss 0.181794\n",
            "finished\n"
          ],
          "name": "stdout"
        }
      ]
    },
    {
      "cell_type": "code",
      "metadata": {
        "id": "3tvaWJX9NqJc",
        "colab": {
          "base_uri": "https://localhost:8080/",
          "height": 296
        },
        "outputId": "6f36a697-1df6-4d45-86d3-e29db48db887"
      },
      "source": [
        "list_serie = [list(d) for d in plot_sum]\r\n",
        "win_serie = []\r\n",
        "lose_serie = []\r\n",
        "draw_serie = []\r\n",
        "\r\n",
        "for i in range(len(list_serie)):\r\n",
        "  sample = list_serie[i]\r\n",
        "  for j in range(len(sample)):\r\n",
        "    if sample[j][0]==1:\r\n",
        "      win_serie.append(sample[j][1])\r\n",
        "    elif sample[j][0]==-1:\r\n",
        "      lose_serie.append(sample[j][1])\r\n",
        "    else:\r\n",
        "      draw_serie.append(sample[j][1])\r\n",
        "\r\n",
        "plt.plot(win_serie,label='win')\r\n",
        "plt.plot(lose_serie,label='lose')\r\n",
        "plt.plot(draw_serie,label='draw')\r\n",
        "plt.legend()\r\n",
        "plt.xlabel('number of epochs')\r\n",
        "plt.ylabel('Results')"
      ],
      "execution_count": 27,
      "outputs": [
        {
          "output_type": "execute_result",
          "data": {
            "text/plain": [
              "Text(0, 0.5, 'Results')"
            ]
          },
          "metadata": {
            "tags": []
          },
          "execution_count": 27
        },
        {
          "output_type": "display_data",
          "data": {
            "image/png": "[encoded data removed]",
            "text/plain": [
              "<Figure size 432x288 with 1 Axes>"
            ]
          },
          "metadata": {
            "tags": [],
            "needs_background": "light"
          }
        }
      ]
    },
    {
      "cell_type": "code",
      "metadata": {
        "id": "sBdQZk-PN7jh",
        "colab": {
          "base_uri": "https://localhost:8080/",
          "height": 296
        },
        "outputId": "88ccae95-2006-434e-d664-b5701786dc8a"
      },
      "source": [
        "plt.plot(plot_loss,label='policy prediction loss')\r\n",
        "plt.plot(plot_value,label='value prediction loss')\r\n",
        "\r\n",
        "plt.legend()\r\n",
        "plt.xlabel('number of epochs')"
      ],
      "execution_count": 28,
      "outputs": [
        {
          "output_type": "execute_result",
          "data": {
            "text/plain": [
              "Text(0.5, 0, 'number of epochs')"
            ]
          },
          "metadata": {
            "tags": []
          },
          "execution_count": 28
        },
        {
          "output_type": "display_data",
          "data": {
            "image/png": "[encoded data removed]",
            "text/plain": [
              "<Figure size 432x288 with 1 Axes>"
            ]
          },
          "metadata": {
            "tags": [],
            "needs_background": "light"
          }
        }
      ]
    },
    {
      "cell_type": "code",
      "metadata": {
        "id": "BXL0Chmd1LeG",
        "colab": {
          "base_uri": "https://localhost:8080/"
        },
        "outputId": "c7567709-4af2-4f24-a391-f859bf0fbe70"
      },
      "source": [
        "print(vs_muzero(net, n=1000))"
      ],
      "execution_count": 29,
      "outputs": [
        {
          "output_type": "stream",
          "text": [
            "{0: 1000}\n"
          ],
          "name": "stdout"
        }
      ]
    },
    {
      "cell_type": "code",
      "metadata": {
        "id": "5NWzlHe21LeG"
      },
      "source": [
        "# Search with trained net\n",
        "tree = Tree(net)\n",
        "s = State().tictactoe().play('A1 A3 ')\n",
        "tree.think(s, 100, show=True)\n",
        "tree.pv(s)"
      ],
      "execution_count": null,
      "outputs": []
    },
    {
      "cell_type": "markdown",
      "metadata": {
        "id": "GJdFCxo8cinZ"
      },
      "source": [
        "**Game simulation**"
      ]
    },
    {
      "cell_type": "code",
      "metadata": {
        "id": "KVB2K97TaMsT",
        "colab": {
          "base_uri": "https://localhost:8080/"
        },
        "outputId": "ff1dbb45-5d51-4479-e195-423980af57d5"
      },
      "source": [
        "num_simulations = 1\r\n",
        "for i in range(num_simulations):\r\n",
        "  print('GAME',i+1)\r\n",
        "  turn = True\r\n",
        "  state = State().tictactoe()\r\n",
        "  while not state.terminal():\r\n",
        "      if turn:\r\n",
        "          p, _ = net.predict(state, [])[-1]\r\n",
        "          action = sorted([(a, p[a]) for a in state.legal_actions()], key=lambda x:-x[1])[0][0]\r\n",
        "      else:\r\n",
        "          p, _ = net.predict(state, [])[-1]\r\n",
        "          action = sorted([(a, p[a]) for a in state.legal_actions()], key=lambda x:-x[1])[0][0]\r\n",
        "\r\n",
        "      state.play(action)\r\n",
        "      turn = not turn\r\n",
        "      print(state)\r\n",
        "\r\n",
        "  if state.terminal_reward() == -1:\r\n",
        "    print(\" MuZero1 won \")\r\n",
        "  elif state.terminal_reward() == 1:\r\n",
        "    print(\" MuZero2 won\")\r\n",
        "  else:\r\n",
        "    print(\" Draw \")"
      ],
      "execution_count": 33,
      "outputs": [
        {
          "output_type": "stream",
          "text": [
            "GAME 1\n",
            "   1 2 3\n",
            "A _ _ _\n",
            "B _ _ _\n",
            "C O _ _\n",
            "record = C1\n",
            "   1 2 3\n",
            "A _ _ _\n",
            "B X _ _\n",
            "C O _ _\n",
            "record = C1 B1\n",
            "   1 2 3\n",
            "A _ _ _\n",
            "B X _ O\n",
            "C O _ _\n",
            "record = C1 B1 B3\n",
            "   1 2 3\n",
            "A _ _ _\n",
            "B X _ O\n",
            "C O X _\n",
            "record = C1 B1 B3 C2\n",
            "   1 2 3\n",
            "A O _ _\n",
            "B X _ O\n",
            "C O X _\n",
            "record = C1 B1 B3 C2 A1\n",
            "   1 2 3\n",
            "A O _ _\n",
            "B X _ O\n",
            "C O X X\n",
            "record = C1 B1 B3 C2 A1 C3\n",
            "   1 2 3\n",
            "A O _ _\n",
            "B X O O\n",
            "C O X X\n",
            "record = C1 B1 B3 C2 A1 C3 B2\n",
            "   1 2 3\n",
            "A O _ X\n",
            "B X O O\n",
            "C O X X\n",
            "record = C1 B1 B3 C2 A1 C3 B2 A3\n",
            "   1 2 3\n",
            "A O O X\n",
            "B X O O\n",
            "C O X X\n",
            "record = C1 B1 B3 C2 A1 C3 B2 A3 A2\n",
            " Draw \n"
          ],
          "name": "stdout"
        }
      ]
    }
  ]
}