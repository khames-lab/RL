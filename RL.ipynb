{
  "nbformat": 4,
  "nbformat_minor": 0,
  "metadata": {
    "kernelspec": {
      "display_name": "Python 3",
      "language": "python",
      "name": "python3"
    },
    "language_info": {
      "codemirror_mode": {
        "name": "ipython",
        "version": 3
      },
      "file_extension": ".py",
      "mimetype": "text/x-python",
      "name": "python",
      "nbconvert_exporter": "python",
      "pygments_lexer": "ipython3",
      "version": "3.8.4"
    },
    "colab": {
      "name": "RL_muZero.ipynb",
      "provenance": [],
      "collapsed_sections": []
    },
    "accelerator": "GPU"
  },
  "cells": [
    {
      "cell_type": "markdown",
      "metadata": {
        "id": "WPydH9ic9RH-"
      },
      "source": [
        "# Reinforcement Learning Projet\r\n",
        "\r\n",
        "**Athors** : Yassine Filali, Mohamed Farhat and Mohamed El Khames Boumaiza"
      ]
    },
    {
      "cell_type": "code",
      "metadata": {
        "id": "6mLzblyI9Puc"
      },
      "source": [
        "#Importing necessary libraries\r\n",
        "import numpy as np\r\n",
        "import torch\r\n",
        "import torch.nn as nn\r\n",
        "import torch.nn.functional as F\r\n",
        "import time\r\n",
        "import copy\r\n",
        "import torch.optim as optim\r\n",
        "import matplotlib.pyplot as plt"
      ],
      "execution_count": 7,
      "outputs": []
    },
    {
      "cell_type": "markdown",
      "metadata": {
        "id": "pW4JhU2I9rzi"
      },
      "source": [
        "Implementation of the class State"
      ]
    },
    {
      "cell_type": "code",
      "metadata": {
        "id": "uGVp4juJFra3"
      },
      "source": [
        "class State:\r\n",
        "  def __init__(self):\r\n",
        "        self.tictactoe = State_tictactoe \r\n",
        "        "
      ],
      "execution_count": 8,
      "outputs": []
    },
    {
      "cell_type": "markdown",
      "metadata": {
        "id": "jtFeqWPS9ucE"
      },
      "source": [
        "Implementation of a simple game: Tic-Tac-Toe"
      ]
    },
    {
      "cell_type": "code",
      "metadata": {
        "id": "0ppZnlVYGIdY"
      },
      "source": [
        "class State_tictactoe:\r\n",
        "    X, Y = 'ABC',  '123'\r\n",
        "    C = {0: '_', 1: 'O', -1: 'X'}\r\n",
        "\r\n",
        "    def __init__(self):\r\n",
        "        self.board = np.zeros((3, 3)) \r\n",
        "        self.color = 1\r\n",
        "        self.win_color = 0\r\n",
        "        self.record = []\r\n",
        "        self.BLACK = 1  # first turn\r\n",
        "        self.WHITE = -1 #second turn player\r\n",
        "\r\n",
        "    def action2str(self, a):\r\n",
        "        return self.X[a // 3] + self.Y[a % 3]\r\n",
        "\r\n",
        "    def str2action(self, s):\r\n",
        "        return self.X.find(s[0]) * 3 + self.Y.find(s[1])\r\n",
        "\r\n",
        "    def record_string(self):\r\n",
        "        return ' '.join([self.action2str(a) for a in self.record])\r\n",
        "\r\n",
        "    def __str__(self):\r\n",
        "        # output board.\r\n",
        "        s = '   ' + ' '.join(self.Y) + '\\n'\r\n",
        "        for i in range(3):\r\n",
        "            s += self.X[i] + ' ' + ' '.join([self.C[self.board[i, j]] for j in range(3)]) + '\\n'\r\n",
        "        s += 'record = ' + self.record_string()\r\n",
        "        return s\r\n",
        "\r\n",
        "    def play(self, action):\r\n",
        "        # state transition function\r\n",
        "        # action is position inerger (0~8) or string representation of action sequence\r\n",
        "        if isinstance(action, str):\r\n",
        "            for astr in action.split():\r\n",
        "                self.play(self.str2action(astr))\r\n",
        "            return self\r\n",
        "\r\n",
        "        x, y = action // 3, action % 3\r\n",
        "        self.board[x, y] = self.color\r\n",
        "\r\n",
        "        # check whether 3 stones are on the line\r\n",
        "        if self.board[x, :].sum() == 3 * self.color \\\r\n",
        "          or self.board[:, y].sum() == 3 * self.color \\\r\n",
        "          or (x == y and np.diag(self.board, k=0).sum() == 3 * self.color) \\\r\n",
        "          or (x == 2 - y and np.diag(self.board[::-1,:], k=0).sum() == 3 * self.color):\r\n",
        "            self.win_color = self.color\r\n",
        "\r\n",
        "        self.color = -self.color\r\n",
        "        self.record.append(action)\r\n",
        "        return self\r\n",
        "\r\n",
        "    def terminal(self):\r\n",
        "        # terminal state check\r\n",
        "        return self.win_color != 0 or len(self.record) == 3 * 3\r\n",
        "\r\n",
        "    def terminal_reward(self):\r\n",
        "        # terminal reward \r\n",
        "        return self.win_color if self.color == self.BLACK else -self.win_color\r\n",
        "\r\n",
        "    def legal_actions(self):\r\n",
        "        # list of legal actions on each state\r\n",
        "        return [a for a in range(3 * 3) if self.board[a // 3, a % 3] == 0]\r\n",
        "\r\n",
        "    def feature(self):\r\n",
        "        # input tensor for neural net (state)\r\n",
        "        return np.stack([self.board == self.color, self.board == -self.color]).astype(np.float32)\r\n",
        "\r\n",
        "    def action_feature(self, action):\r\n",
        "        # input tensor for neural net (action)\r\n",
        "        a = np.zeros((1, 3, 3), dtype=np.float32)\r\n",
        "        a[0, action // 3, action % 3] = 1\r\n",
        "        return a"
      ],
      "execution_count": 9,
      "outputs": []
    },
    {
      "cell_type": "markdown",
      "metadata": {
        "id": "cmACNHCN9zP_"
      },
      "source": [
        "An example"
      ]
    },
    {
      "cell_type": "code",
      "metadata": {
        "colab": {
          "base_uri": "https://localhost:8080/"
        },
        "id": "2hrXXfHtGMBm",
        "outputId": "1655a580-cbab-481a-ec13-0373da2c5a03"
      },
      "source": [
        "state_ttt = State().tictactoe()\r\n",
        "print(\"Example 1 : \")\r\n",
        "action = 'A1 A2'\r\n",
        "state = state_ttt.play(action)\r\n",
        "print(state)\r\n",
        "print('Input feature after playing', action)\r\n",
        "print(state.feature())\r\n",
        "\r\n",
        "print(\"Example 2 : \")\r\n",
        "action = 'B1 A2 A1 B3'\r\n",
        "state = state_ttt.play(action)\r\n",
        "print(state)\r\n",
        "print('Input feature after playing', action)\r\n",
        "print(state.feature())\r\n"
      ],
      "execution_count": 10,
      "outputs": [
        {
          "output_type": "stream",
          "text": [
            "Example 1 : \n",
            "   1 2 3\n",
            "A O X _\n",
            "B _ _ _\n",
            "C _ _ _\n",
            "record = A1 A2\n",
            "Input feature after playing A1 A2\n",
            "[[[1. 0. 0.]\n",
            "  [0. 0. 0.]\n",
            "  [0. 0. 0.]]\n",
            "\n",
            " [[0. 1. 0.]\n",
            "  [0. 0. 0.]\n",
            "  [0. 0. 0.]]]\n",
            "Example 2 : \n",
            "   1 2 3\n",
            "A O X _\n",
            "B O _ X\n",
            "C _ _ _\n",
            "record = A1 A2 B1 A2 A1 B3\n",
            "Input feature after playing B1 A2 A1 B3\n",
            "[[[1. 0. 0.]\n",
            "  [1. 0. 0.]\n",
            "  [0. 0. 0.]]\n",
            "\n",
            " [[0. 1. 0.]\n",
            "  [0. 0. 1.]\n",
            "  [0. 0. 0.]]]\n"
          ],
          "name": "stdout"
        }
      ]
    },
    {
      "cell_type": "markdown",
      "metadata": {
        "id": "6cAVei_494pQ"
      },
      "source": [
        "Small Convolutional neural network using PyTorch"
      ]
    },
    {
      "cell_type": "code",
      "metadata": {
        "id": "9MtrJHcd1LeB"
      },
      "source": [
        "# \n",
        "class Conv(nn.Module):\n",
        "    def __init__(self, filters0, filters1, kernel_size, bn=False):\n",
        "        super().__init__()\n",
        "        self.conv = nn.Conv2d(filters0, filters1, kernel_size, stride=1, padding=kernel_size//2, bias=False)\n",
        "        self.bn = None\n",
        "        if bn:\n",
        "            self.bn = nn.BatchNorm2d(filters1)\n",
        "\n",
        "    def forward(self, x):\n",
        "        h = self.conv(x)\n",
        "        if self.bn is not None:\n",
        "            h = self.bn(h)\n",
        "        return h\n",
        "\n",
        "class ResidualBlock(nn.Module):\n",
        "    def __init__(self, filters):\n",
        "        super().__init__()\n",
        "        self.conv = Conv(filters, filters, 3, True)\n",
        "\n",
        "    def forward(self, x):\n",
        "        return F.relu(x + (self.conv(x)))\n"
      ],
      "execution_count": 11,
      "outputs": []
    },
    {
      "cell_type": "code",
      "metadata": {
        "id": "yp7wSCbq1LeB"
      },
      "source": [
        "num_filters = 16\n",
        "num_blocks = 4\n",
        "\n",
        "class Representation(nn.Module):\n",
        "    ''' Conversion from observation to inner abstract state '''\n",
        "    def __init__(self, input_shape):\n",
        "        super().__init__()\n",
        "        self.input_shape = input_shape\n",
        "        self.board_size = self.input_shape[1] * self.input_shape[2]\n",
        "\n",
        "        self.layer0 = Conv(self.input_shape[0], num_filters, 3, bn=True)\n",
        "        self.blocks = nn.ModuleList([ResidualBlock(num_filters) for _ in range(num_blocks)])\n",
        "\n",
        "    def forward(self, x):\n",
        "        h = F.relu(self.layer0(x))\n",
        "        for block in self.blocks:\n",
        "            h = block(h)\n",
        "        return h\n",
        "\n",
        "    def inference(self, x):\n",
        "        self.eval()\n",
        "        with torch.no_grad():\n",
        "            rp = self(torch.from_numpy(x).unsqueeze(0))\n",
        "        return rp.cpu().numpy()[0]\n",
        "\n",
        "class Prediction(nn.Module):\n",
        "    ''' Policy and value prediction from inner abstract state '''\n",
        "    def __init__(self, action_shape):\n",
        "        super().__init__()\n",
        "        self.board_size = np.prod(action_shape[1:])\n",
        "        self.action_size = action_shape[0] * self.board_size\n",
        "\n",
        "        self.conv_p1 = Conv(num_filters, 4, 1, bn=True)\n",
        "        self.conv_p2 = Conv(4, 1, 1)\n",
        "\n",
        "        self.conv_v = Conv(num_filters, 4, 1, bn=True)\n",
        "        self.fc_v = nn.Linear(self.board_size * 4, 1, bias=False)\n",
        "\n",
        "    def forward(self, rp):\n",
        "        h_p = F.relu(self.conv_p1(rp))\n",
        "        h_p = self.conv_p2(h_p).view(-1, self.action_size)\n",
        "\n",
        "        h_v = F.relu(self.conv_v(rp))\n",
        "        h_v = self.fc_v(h_v.view(-1, self.board_size * 4))\n",
        "\n",
        "        # range of value is -1 ~ 1\n",
        "        return F.softmax(h_p, dim=-1), torch.tanh(h_v)\n",
        "\n",
        "    def inference(self, rp):\n",
        "        self.eval()\n",
        "        with torch.no_grad():\n",
        "            p, v = self(torch.from_numpy(rp).unsqueeze(0))\n",
        "        return p.cpu().numpy()[0], v.cpu().numpy()[0][0]\n",
        "\n",
        "class Dynamics(nn.Module):\n",
        "    '''Abstract state transition'''\n",
        "    def __init__(self, rp_shape, act_shape):\n",
        "        super().__init__()\n",
        "        self.rp_shape = rp_shape\n",
        "        self.layer0 = Conv(rp_shape[0] + act_shape[0], num_filters, 3, bn=True)\n",
        "        self.blocks = nn.ModuleList([ResidualBlock(num_filters) for _ in range(num_blocks)])\n",
        "\n",
        "    def forward(self, rp, a):\n",
        "        h = torch.cat([rp, a], dim=1)\n",
        "        h = self.layer0(h)\n",
        "        for block in self.blocks:\n",
        "            h = block(h)\n",
        "        return h\n",
        "\n",
        "    def inference(self, rp, a):\n",
        "        self.eval()\n",
        "        with torch.no_grad():\n",
        "            rp = self(torch.from_numpy(rp).unsqueeze(0), torch.from_numpy(a).unsqueeze(0))\n",
        "        return rp.cpu().numpy()[0]\n",
        "\n",
        "class Net(nn.Module):\n",
        "    '''Whole net'''\n",
        "    def __init__(self,state):\n",
        "        super().__init__()\n",
        "        #state = State()\n",
        "        input_shape = state.feature().shape\n",
        "        action_shape = state.action_feature(0).shape\n",
        "        rp_shape = (num_filters, *input_shape[1:])\n",
        "\n",
        "        self.representation = Representation(input_shape)\n",
        "        self.prediction = Prediction(action_shape)\n",
        "        self.dynamics = Dynamics(rp_shape, action_shape)\n",
        "\n",
        "    def predict(self, state0, path):\n",
        "        '''Predict p and v from original state and path'''\n",
        "        outputs = []\n",
        "        x = state0.feature()\n",
        "        rp = self.representation.inference(x)\n",
        "        outputs.append(self.prediction.inference(rp))\n",
        "        for action in path:\n",
        "            a = state0.action_feature(action)\n",
        "            rp = self.dynamics.inference(rp, a)\n",
        "            outputs.append(self.prediction.inference(rp))\n",
        "        return outputs"
      ],
      "execution_count": 12,
      "outputs": []
    },
    {
      "cell_type": "code",
      "metadata": {
        "colab": {
          "base_uri": "https://localhost:8080/"
        },
        "id": "5dfQrmCA1LeC",
        "outputId": "1883a1bb-eadc-4613-b254-873deb132db5"
      },
      "source": [
        "def show_net(net, state):\n",
        "    '''Display policy (p) and value (v)'''\n",
        "    print(state)\n",
        "    p, v = net.predict(state, [])[-1]\n",
        "    print('policy p = ')\n",
        "    print((p * 1000).astype(int).reshape((-1, *net.representation.input_shape[1:3])))\n",
        "    print('value v = ', v)\n",
        "    print()\n",
        "\n",
        "#  Outputs before training\n",
        "state = State().tictactoe()\n",
        "show_net(Net(state),state )"
      ],
      "execution_count": 13,
      "outputs": [
        {
          "output_type": "stream",
          "text": [
            "   1 2 3\n",
            "A _ _ _\n",
            "B _ _ _\n",
            "C _ _ _\n",
            "record = \n",
            "policy p = \n",
            "[[[111 111 111]\n",
            "  [111 111 111]\n",
            "  [111 111 111]]]\n",
            "value v =  0.0\n",
            "\n"
          ],
          "name": "stdout"
        }
      ]
    },
    {
      "cell_type": "markdown",
      "metadata": {
        "id": "woYqVrR7-BAW"
      },
      "source": [
        "Implementation of the MCTS (Monte Carlo Tree Search)"
      ]
    },
    {
      "cell_type": "code",
      "metadata": {
        "id": "jZo72FTa1LeD"
      },
      "source": [
        "class Tree:\n",
        "    def __init__(self, net):\n",
        "        self.net = net\n",
        "        self.nodes = {}\n",
        "\n",
        "    def search(self, state, path, rp, depth):\n",
        "        # Return the predicted value from the new state\n",
        "        key = state.record_string()\n",
        "        if len(path) > 0:\n",
        "            key += '|' + ' '.join(map(state.action2str, path))\n",
        "        if key not in self.nodes:\n",
        "            p, v = self.net.prediction.inference(rp)\n",
        "            self.nodes[key] = Node(p, v)\n",
        "            return v\n",
        "\n",
        "        # State transition by an action selected from bandit\n",
        "        node = self.nodes[key]\n",
        "        p = node.p\n",
        "        mask = np.zeros_like(p)\n",
        "        if depth == 0:\n",
        "            # Add noise to policy on the root node\n",
        "            p = 0.75 * p + 0.25 * np.random.dirichlet([0.15] * len(p))\n",
        "            # On the root node, we choose action only from legal actions\n",
        "            mask[state.legal_actions()] = 1\n",
        "            p *= mask\n",
        "            p /= p.sum() + 1e-16\n",
        "\n",
        "        n, q_sum = 1 + node.n, node.q_sum_all / node.n_all + node.q_sum\n",
        "        ucb = q_sum / n + 2.0 * np.sqrt(node.n_all) * p / n + mask * 4 # PUCB formula\n",
        "        best_action = np.argmax(ucb)\n",
        "\n",
        "        # Search next state by recursively calling this function\n",
        "        rp_next = self.net.dynamics.inference(rp, state.action_feature(best_action))\n",
        "        path.append(best_action)\n",
        "        q_new = -self.search(state, path, rp_next, depth + 1) # With the assumption of changing player by turn\n",
        "        node.update(best_action, q_new)\n",
        "\n",
        "        return q_new\n",
        "\n",
        "    def think(self, state, num_simulations, temperature = 0, show=False):\n",
        "        # End point of MCTS\n",
        "        if show:\n",
        "            print(state)\n",
        "        start, prev_time = time.time(), 0\n",
        "        for _ in range(num_simulations):\n",
        "            self.search(state, [], self.net.representation.inference(state.feature()), depth=0)\n",
        "\n",
        "            # Display search result on every second\n",
        "            if show:\n",
        "                tmp_time = time.time() - start\n",
        "                if int(tmp_time) > int(prev_time):\n",
        "                    prev_time = tmp_time\n",
        "                    root, pv = self.nodes[state.record_string()], self.pv(state)\n",
        "                    print('%.2f sec. best %s. q = %.4f. n = %d / %d. pv = %s'\n",
        "                          % (tmp_time, state.action2str(pv[0]), root.q_sum[pv[0]] / root.n[pv[0]],\n",
        "                             root.n[pv[0]], root.n_all, ' '.join([state.action2str(a) for a in pv])))\n",
        "\n",
        "        #  Return probability distribution weighted by the number of simulations\n",
        "        n = root = self.nodes[state.record_string()].n + 1\n",
        "        n = (n / np.max(n)) ** (1 / (temperature + 1e-8))\n",
        "        return n / n.sum()\n",
        "\n",
        "    def pv(self, state):\n",
        "        # Return principal variation (action sequence which is considered as the best)\n",
        "        s, pv_seq = copy.deepcopy(state), []\n",
        "        while True:\n",
        "            key = s.record_string()\n",
        "            if key not in self.nodes or self.nodes[key].n.sum() == 0:\n",
        "                break\n",
        "            best_action = sorted([(a, self.nodes[key].n[a]) for a in s.legal_actions()], key=lambda x: -x[1])[0][0]\n",
        "            pv_seq.append(best_action)\n",
        "            s.play(best_action)\n",
        "        return pv_seq\n",
        "\n",
        "class Node:\n",
        "    '''Search result of one abstract (or root) state'''\n",
        "    def __init__(self, p, v):\n",
        "        self.p, self.v = p, v\n",
        "        self.n, self.q_sum = np.zeros_like(p), np.zeros_like(p)\n",
        "        self.n_all, self.q_sum_all = 1, v / 2 # prior\n",
        "\n",
        "    def update(self, action, q_new):\n",
        "        # Update\n",
        "        self.n[action] += 1\n",
        "        self.q_sum[action] += q_new\n",
        "\n",
        "        # Update overall stats\n",
        "        self.n_all += 1\n",
        "        self.q_sum_all += q_new"
      ],
      "execution_count": 14,
      "outputs": []
    },
    {
      "cell_type": "markdown",
      "metadata": {
        "id": "7x_JnFbR-E4D"
      },
      "source": [
        "Search with initialized net"
      ]
    },
    {
      "cell_type": "code",
      "metadata": {
        "scrolled": true,
        "colab": {
          "base_uri": "https://localhost:8080/"
        },
        "id": "v_vz07zd1LeE",
        "outputId": "059270bb-c3cb-452e-cbc8-6ea719f85b17"
      },
      "source": [
        "state = State().tictactoe()\n",
        "\n",
        "tree = Tree(Net(state))\n",
        "tree.think(state, 100, show=True)\n",
        "\n",
        "tree = Tree(Net(state))\n",
        "tree.think(state.play('A1 C1 A2 C2'), 100, show=True)\n"
      ],
      "execution_count": 15,
      "outputs": [
        {
          "output_type": "stream",
          "text": [
            "   1 2 3\n",
            "A _ _ _\n",
            "B _ _ _\n",
            "C _ _ _\n",
            "record = \n",
            "   1 2 3\n",
            "A O O _\n",
            "B _ _ _\n",
            "C X X _\n",
            "record = A1 C1 A2 C2\n"
          ],
          "name": "stdout"
        },
        {
          "output_type": "execute_result",
          "data": {
            "text/plain": [
              "array([0., 0., 0., 0., 0., 0., 0., 0., 1.], dtype=float32)"
            ]
          },
          "metadata": {
            "tags": []
          },
          "execution_count": 15
        }
      ]
    },
    {
      "cell_type": "markdown",
      "metadata": {
        "id": "xpVxBOV2-Hik"
      },
      "source": [
        "Training of neural net"
      ]
    },
    {
      "cell_type": "code",
      "metadata": {
        "id": "PijUuwGh1LeF"
      },
      "source": [
        "batch_size = 32\n",
        "num_steps = 100\n",
        "\n",
        "def gen_target(ep, k):\n",
        "    '''Generate inputs and targets for training'''\n",
        "    # path, reward, observation, action, policy\n",
        "    turn_idx = np.random.randint(len(ep[0]))\n",
        "    ps, vs, ax = [], [], []\n",
        "    for t in range(turn_idx, turn_idx + k + 1):\n",
        "        if t < len(ep[0]):\n",
        "            p = ep[4][t]\n",
        "            a = ep[3][t]\n",
        "        else: # state after finishing game\n",
        "            # p is 0 (loss is 0)\n",
        "            p = np.zeros_like(ep[4][-1])\n",
        "            # random action selection\n",
        "            a = np.zeros(np.prod(ep[3][-1].shape), dtype=np.float32)\n",
        "            a[np.random.randint(len(a))] = 1\n",
        "            a = a.reshape(ep[3][-1].shape)\n",
        "        vs.append([ep[1] if t % 2 == 0 else -ep[1]])\n",
        "        ps.append(p)\n",
        "        ax.append(a)\n",
        "        \n",
        "    return ep[2][turn_idx], ax, ps, vs\n",
        "\n",
        "def train(episodes, net, opt):\n",
        "    '''Train neural net'''\n",
        "    p_loss_sum, v_loss_sum = 0, 0\n",
        "    p_loss_l = []\n",
        "    v_loss_l = []\n",
        "    net.train()\n",
        "    k = 4\n",
        "    for _ in range(num_steps):\n",
        "        x, ax, p_target, v_target = zip(*[gen_target(episodes[np.random.randint(len(episodes))], k) for j in range(batch_size)])\n",
        "        x = torch.from_numpy(np.array(x))\n",
        "        ax = torch.from_numpy(np.array(ax))\n",
        "        p_target = torch.from_numpy(np.array(p_target))\n",
        "        v_target = torch.FloatTensor(np.array(v_target))\n",
        "\n",
        "        # Change the order of axis as [time step, batch, ...]\n",
        "        ax = torch.transpose(ax, 0, 1)\n",
        "        p_target = torch.transpose(p_target, 0, 1)\n",
        "        v_target = torch.transpose(v_target, 0, 1)\n",
        "\n",
        "        p_loss, v_loss = 0, 0\n",
        "\n",
        "        # Compute losses for k (+ current) steps\n",
        "        for t in range(k + 1):\n",
        "            rp = net.representation(x) if t == 0 else net.dynamics(rp, ax[t - 1])\n",
        "            p, v = net.prediction(rp)\n",
        "            p_loss += torch.sum(-p_target[t] * torch.log(p))\n",
        "            v_loss += torch.sum((v_target[t] - v) ** 2)\n",
        "\n",
        "        p_loss_sum += p_loss.item()\n",
        "        v_loss_sum += v_loss.item()\n",
        "\n",
        "        optimizer.zero_grad()\n",
        "        (p_loss + v_loss).backward()\n",
        "        optimizer.step()\n",
        "\n",
        "    num_train_datum = num_steps * batch_size\n",
        "    print('p_loss %f v_loss %f' % (p_loss_sum / num_train_datum, v_loss_sum / num_train_datum))\n",
        "    return net,p_loss_sum, v_loss_sum"
      ],
      "execution_count": 16,
      "outputs": []
    },
    {
      "cell_type": "markdown",
      "metadata": {
        "id": "O75aD2Bf-LHS"
      },
      "source": [
        "# **Battle against random agents**"
      ]
    },
    {
      "cell_type": "code",
      "metadata": {
        "id": "nYXkTlt81LeF"
      },
      "source": [
        "def vs_random(net, n=100):\n",
        "    results = {}\n",
        "    for i in range(n):\n",
        "        first_turn = i % 2 == 0\n",
        "        turn = first_turn\n",
        "        state =  State().tictactoe()\n",
        "        while not state.terminal():\n",
        "            if turn:\n",
        "                p, _ = net.predict(state, [])[-1]\n",
        "                action = sorted([(a, p[a]) for a in state.legal_actions()], key=lambda x:-x[1])[0][0]\n",
        "            else:\n",
        "                action = np.random.choice(state.legal_actions())\n",
        "            state.play(action)\n",
        "            turn = not turn\n",
        "        r = state.terminal_reward() if turn else -state.terminal_reward()\n",
        "        results[r] = results.get(r, 0) + 1\n",
        "    return results"
      ],
      "execution_count": 17,
      "outputs": []
    },
    {
      "cell_type": "markdown",
      "metadata": {
        "id": "NsoC4XWT-OWL"
      },
      "source": [
        "Main algorithm of MuZero vs random agent"
      ]
    },
    {
      "cell_type": "code",
      "metadata": {
        "scrolled": true,
        "colab": {
          "base_uri": "https://localhost:8080/"
        },
        "id": "LwKvPfDQ1LeG",
        "outputId": "fe982fd4-10cc-4e19-8aa4-c0ecb1d74011"
      },
      "source": [
        "num_games = 100\n",
        "num_games_one_epoch = 50\n",
        "num_simulations = 50\n",
        "\n",
        "state_ttt = State().tictactoe()\n",
        "net = Net(state_ttt)\n",
        "optimizer = optim.SGD(net.parameters(), lr=3e-4, weight_decay=3e-5, momentum=0.8)\n",
        "\n",
        "# Display battle results as {-1: lose 0: draw 1: win} (for episode generated for training, 1 means that the first player won)\n",
        "vs_random_sum = vs_random(net)\n",
        "print('vs_random = ', sorted(vs_random_sum.items()))\n",
        "\n",
        "episodes = []\n",
        "result_distribution = {1: 0, 0: 0, -1: 0}\n",
        "plot_sum=[]\n",
        "plot_loss = []\n",
        "plot_value = []\n",
        "\n",
        "for g in range(num_games):\n",
        "    # Generate one episode\n",
        "    record, p_targets, features, action_features = [], [], [], []\n",
        "    #print(state)\n",
        "\n",
        "    state = State().tictactoe()\n",
        "    # temperature using to make policy targets from search results\n",
        "    temperature = 0.7\n",
        "    while not state.terminal():\n",
        "        tree = Tree(net)\n",
        "        p_target = tree.think(state, num_simulations, temperature)\n",
        "        p_targets.append(p_target)\n",
        "        features.append(state.feature())\n",
        "        # Select action with generated distribution, and then make a transition by that action\n",
        "        action = np.random.choice(np.arange(len(p_target)), p=p_target)\n",
        "        action_features.append(state.action_feature(action))\n",
        "        state.play(action)\n",
        "        record.append(action)\n",
        "        temperature *= 0.8\n",
        "    # reward seen from the first turn player\n",
        "    reward = state.terminal_reward() * (1 if len(record) % 2 == 0 else -1)\n",
        "    result_distribution[reward] += 1\n",
        "    episodes.append((record, reward, features, action_features, p_targets))\n",
        "    if g % num_games_one_epoch == 0:\n",
        "        print('game ', end='')\n",
        "    print(g, ' ', end='')\n",
        "\n",
        "    # Training of neural net\n",
        "    if (g + 1) % num_games_one_epoch == 0:\n",
        "        # Show the result distributiuon of generated episodes\n",
        "        #print('generated = ', sorted(result_distribution.items()))\n",
        "        net,loss,value = train(episodes, net, optimizer)\n",
        "        plot_loss.append(loss)\n",
        "        plot_value.append(value)\n",
        "\n",
        "        vs_random_once = vs_random(net)\n",
        "        #print('vs_random = ', sorted(vs_random_once.items()), end='')\n",
        "        for r, n in vs_random_once.items():\n",
        "            vs_random_sum[r] += n\n",
        "        #print(' sum = ', sorted(vs_random_sum.items()))\n",
        "        plot_sum.append(vs_random_once.items())\n",
        "\n",
        "        #show_net(net, State().tictactoe())\n",
        "        #show_net(net, State().play('A1 C1 A2 C2'))\n",
        "        #show_net(net, State().play('A1 B2 C3 B3 C1'))\n",
        "        #show_net(net, State().play('B2 A2 A3 C1 B3'))\n",
        "        #show_net(net, State().play('B2 A2 A3 C1'))\n",
        "print('finished')"
      ],
      "execution_count": 18,
      "outputs": [
        {
          "output_type": "stream",
          "text": [
            "vs_random =  [(-1, 36), (0, 15), (1, 49)]\n",
            "game 0  1  2  3  4  5  6  7  8  9  10  11  12  13  14  15  16  17  18  19  20  21  22  23  24  25  26  27  28  29  30  31  32  33  34  35  36  37  38  39  40  41  42  43  44  45  46  47  48  49  p_loss 7.664570 v_loss 3.330757\n",
            "game 50  51  52  53  54  55  56  57  58  59  60  61  62  63  64  65  66  67  68  69  70  71  72  73  74  75  76  77  78  79  80  81  82  83  84  85  86  87  88  89  90  91  92  93  94  95  96  97  98  99  p_loss 6.909109 v_loss 3.578579\n",
            "finished\n"
          ],
          "name": "stdout"
        }
      ]
    },
    {
      "cell_type": "markdown",
      "metadata": {
        "id": "s1Rok1yAAFik"
      },
      "source": [
        "Some fancy plots"
      ]
    },
    {
      "cell_type": "code",
      "metadata": {
        "colab": {
          "base_uri": "https://localhost:8080/",
          "height": 296
        },
        "id": "ViTBp_6Cno7s",
        "outputId": "45151105-d44b-435f-9136-ef2e8d844f29"
      },
      "source": [
        "list_serie = [list(d) for d in plot_sum]\r\n",
        "win_serie = []\r\n",
        "lose_serie = []\r\n",
        "draw_serie = []\r\n",
        "\r\n",
        "for i in range(len(list_serie)):\r\n",
        "  sample = list_serie[i]\r\n",
        "  for j in range(len(sample)):\r\n",
        "    if sample[j][0]==1:\r\n",
        "      win_serie.append(sample[j][1])\r\n",
        "    elif sample[j][0]==-1:\r\n",
        "      lose_serie.append(sample[j][1])\r\n",
        "    else:\r\n",
        "      draw_serie.append(sample[j][1])\r\n",
        "\r\n",
        "plt.plot(win_serie,label='win')\r\n",
        "plt.plot(lose_serie,label='lose')\r\n",
        "plt.plot(draw_serie,label='draw')\r\n",
        "plt.legend()\r\n",
        "plt.xlabel('number of epochs')\r\n",
        "plt.ylabel('results')"
      ],
      "execution_count": 19,
      "outputs": [
        {
          "output_type": "execute_result",
          "data": {
            "text/plain": [
              "Text(0, 0.5, 'results')"
            ]
          },
          "metadata": {
            "tags": []
          },
          "execution_count": 19
        },
        {
          "output_type": "display_data",
          "data": {
            "image/png": "[encoded data removed]",
            "text/plain": [
              "<Figure size 432x288 with 1 Axes>"
            ]
          },
          "metadata": {
            "tags": [],
            "needs_background": "light"
          }
        }
      ]
    },
    {
      "cell_type": "code",
      "metadata": {
        "colab": {
          "base_uri": "https://localhost:8080/",
          "height": 296
        },
        "id": "XVkuS-Wyzj6o",
        "outputId": "dbf8abbf-1cff-4fe1-d550-1b20fca948ea"
      },
      "source": [
        "plt.plot(plot_loss,label='policy prediction loss')\r\n",
        "plt.plot(plot_value,label='value prediction loss')\r\n",
        "plt.legend()\r\n",
        "plt.xlabel('number of epochs')"
      ],
      "execution_count": 20,
      "outputs": [
        {
          "output_type": "execute_result",
          "data": {
            "text/plain": [
              "Text(0.5, 0, 'number of epochs')"
            ]
          },
          "metadata": {
            "tags": []
          },
          "execution_count": 20
        },
        {
          "output_type": "display_data",
          "data": {
            "image/png": "[encoded data removed]",
            "text/plain": [
              "<Figure size 432x288 with 1 Axes>"
            ]
          },
          "metadata": {
            "tags": [],
            "needs_background": "light"
          }
        }
      ]
    },
    {
      "cell_type": "code",
      "metadata": {
        "colab": {
          "base_uri": "https://localhost:8080/"
        },
        "id": "lbLYeCOEfzOL",
        "outputId": "c8af1b1a-4bd6-482b-b190-7395a6c6efcc"
      },
      "source": [
        "# Search with trained net\r\n",
        "tree = Tree(net)\r\n",
        "tree.think(State().tictactoe().play('A1 B3 C1 A3 '), 1000, show=True)\r\n",
        "#tree.pv(State().tictactoe().play('A1 C1 C3 C2'))"
      ],
      "execution_count": 21,
      "outputs": [
        {
          "output_type": "stream",
          "text": [
            "   1 2 3\n",
            "A O _ X\n",
            "B _ _ X\n",
            "C O _ _\n",
            "record = A1 B3 C1 A3\n",
            "1.00 sec. best A2. q = -0.6638. n = 88 / 326. pv = A2\n",
            "2.00 sec. best A2. q = -0.6822. n = 158 / 609. pv = A2\n",
            "3.00 sec. best A2. q = -0.6850. n = 227 / 867. pv = A2\n"
          ],
          "name": "stdout"
        },
        {
          "output_type": "execute_result",
          "data": {
            "text/plain": [
              "array([0., 1., 0., 0., 0., 0., 0., 0., 0.], dtype=float32)"
            ]
          },
          "metadata": {
            "tags": []
          },
          "execution_count": 21
        }
      ]
    },
    {
      "cell_type": "code",
      "metadata": {
        "colab": {
          "base_uri": "https://localhost:8080/"
        },
        "id": "m8UgY6adf4FP",
        "outputId": "c81ea214-e9dc-4903-e45b-0835478cc8e4"
      },
      "source": [
        "print(vs_random(net, n=1000))"
      ],
      "execution_count": 22,
      "outputs": [
        {
          "output_type": "stream",
          "text": [
            "{1: 536, -1: 348, 0: 116}\n"
          ],
          "name": "stdout"
        }
      ]
    },
    {
      "cell_type": "markdown",
      "metadata": {
        "id": "xhQ8zepEmjxW"
      },
      "source": [
        "**Playing agiant MuZero**"
      ]
    },
    {
      "cell_type": "code",
      "metadata": {
        "colab": {
          "base_uri": "https://localhost:8080/",
          "height": 612
        },
        "id": "o6d25pM3mZ25",
        "outputId": "f48a238d-2af7-47e0-a63d-4a39048d579a"
      },
      "source": [
        "first_turn = True\r\n",
        "turn = first_turn\r\n",
        "state = State().tictactoe()\r\n",
        "while not state.terminal():\r\n",
        "    if turn:\r\n",
        "        p, _ = net.predict(state, [])[-1]\r\n",
        "        action = sorted([(a, p[a]) for a in state.legal_actions()], key=lambda x:-x[1])[0][0]\r\n",
        "    else:\r\n",
        "        action = input('Up to you ! Choose an action : ')\r\n",
        "        while not (action in [state.action2str(e) for e in state.legal_actions()] ):\r\n",
        "              print('Oups try again !available actions are : ',[state.action2str(e) for e in state.legal_actions()])\r\n",
        "              action = input( 'Choose an action  : ')\r\n",
        "\r\n",
        "    state.play(action)\r\n",
        "    turn = not turn\r\n",
        "    print(state)\r\n",
        "\r\n",
        "if state.terminal_reward() == -1:\r\n",
        "  print(\"Hey you won !!!\")\r\n",
        "elif state.terminal_reward() == 1:\r\n",
        "  print(\"Fuck he got me\")\r\n",
        "else:\r\n",
        "  print(\"That was close\")"
      ],
      "execution_count": 23,
      "outputs": [
        {
          "output_type": "stream",
          "text": [
            "   1 2 3\n",
            "A _ _ _\n",
            "B _ _ O\n",
            "C _ _ _\n",
            "record = B3\n"
          ],
          "name": "stdout"
        },
        {
          "output_type": "error",
          "ename": "KeyboardInterrupt",
          "evalue": "ignored",
          "traceback": [
            "\u001b[0;31m---------------------------------------------------------------------------\u001b[0m",
            "\u001b[0;31mKeyboardInterrupt\u001b[0m                         Traceback (most recent call last)",
            "\u001b[0;32m/usr/local/lib/python3.7/dist-packages/ipykernel/kernelbase.py\u001b[0m in \u001b[0;36m_input_request\u001b[0;34m(self, prompt, ident, parent, password)\u001b[0m\n\u001b[1;32m    728\u001b[0m             \u001b[0;32mtry\u001b[0m\u001b[0;34m:\u001b[0m\u001b[0;34m\u001b[0m\u001b[0;34m\u001b[0m\u001b[0m\n\u001b[0;32m--> 729\u001b[0;31m                 \u001b[0mident\u001b[0m\u001b[0;34m,\u001b[0m \u001b[0mreply\u001b[0m \u001b[0;34m=\u001b[0m \u001b[0mself\u001b[0m\u001b[0;34m.\u001b[0m\u001b[0msession\u001b[0m\u001b[0;34m.\u001b[0m\u001b[0mrecv\u001b[0m\u001b[0;34m(\u001b[0m\u001b[0mself\u001b[0m\u001b[0;34m.\u001b[0m\u001b[0mstdin_socket\u001b[0m\u001b[0;34m,\u001b[0m \u001b[0;36m0\u001b[0m\u001b[0;34m)\u001b[0m\u001b[0;34m\u001b[0m\u001b[0;34m\u001b[0m\u001b[0m\n\u001b[0m\u001b[1;32m    730\u001b[0m             \u001b[0;32mexcept\u001b[0m \u001b[0mException\u001b[0m\u001b[0;34m:\u001b[0m\u001b[0;34m\u001b[0m\u001b[0;34m\u001b[0m\u001b[0m\n",
            "\u001b[0;32m/usr/local/lib/python3.7/dist-packages/jupyter_client/session.py\u001b[0m in \u001b[0;36mrecv\u001b[0;34m(self, socket, mode, content, copy)\u001b[0m\n\u001b[1;32m    802\u001b[0m         \u001b[0;32mtry\u001b[0m\u001b[0;34m:\u001b[0m\u001b[0;34m\u001b[0m\u001b[0;34m\u001b[0m\u001b[0m\n\u001b[0;32m--> 803\u001b[0;31m             \u001b[0mmsg_list\u001b[0m \u001b[0;34m=\u001b[0m \u001b[0msocket\u001b[0m\u001b[0;34m.\u001b[0m\u001b[0mrecv_multipart\u001b[0m\u001b[0;34m(\u001b[0m\u001b[0mmode\u001b[0m\u001b[0;34m,\u001b[0m \u001b[0mcopy\u001b[0m\u001b[0;34m=\u001b[0m\u001b[0mcopy\u001b[0m\u001b[0;34m)\u001b[0m\u001b[0;34m\u001b[0m\u001b[0;34m\u001b[0m\u001b[0m\n\u001b[0m\u001b[1;32m    804\u001b[0m         \u001b[0;32mexcept\u001b[0m \u001b[0mzmq\u001b[0m\u001b[0;34m.\u001b[0m\u001b[0mZMQError\u001b[0m \u001b[0;32mas\u001b[0m \u001b[0me\u001b[0m\u001b[0;34m:\u001b[0m\u001b[0;34m\u001b[0m\u001b[0;34m\u001b[0m\u001b[0m\n",
            "\u001b[0;32m/usr/local/lib/python3.7/dist-packages/zmq/sugar/socket.py\u001b[0m in \u001b[0;36mrecv_multipart\u001b[0;34m(self, flags, copy, track)\u001b[0m\n\u001b[1;32m    582\u001b[0m         \"\"\"\n\u001b[0;32m--> 583\u001b[0;31m         \u001b[0mparts\u001b[0m \u001b[0;34m=\u001b[0m \u001b[0;34m[\u001b[0m\u001b[0mself\u001b[0m\u001b[0;34m.\u001b[0m\u001b[0mrecv\u001b[0m\u001b[0;34m(\u001b[0m\u001b[0mflags\u001b[0m\u001b[0;34m,\u001b[0m \u001b[0mcopy\u001b[0m\u001b[0;34m=\u001b[0m\u001b[0mcopy\u001b[0m\u001b[0;34m,\u001b[0m \u001b[0mtrack\u001b[0m\u001b[0;34m=\u001b[0m\u001b[0mtrack\u001b[0m\u001b[0;34m)\u001b[0m\u001b[0;34m]\u001b[0m\u001b[0;34m\u001b[0m\u001b[0;34m\u001b[0m\u001b[0m\n\u001b[0m\u001b[1;32m    584\u001b[0m         \u001b[0;31m# have first part already, only loop while more to receive\u001b[0m\u001b[0;34m\u001b[0m\u001b[0;34m\u001b[0m\u001b[0;34m\u001b[0m\u001b[0m\n",
            "\u001b[0;32mzmq/backend/cython/socket.pyx\u001b[0m in \u001b[0;36mzmq.backend.cython.socket.Socket.recv\u001b[0;34m()\u001b[0m\n",
            "\u001b[0;32mzmq/backend/cython/socket.pyx\u001b[0m in \u001b[0;36mzmq.backend.cython.socket.Socket.recv\u001b[0;34m()\u001b[0m\n",
            "\u001b[0;32mzmq/backend/cython/socket.pyx\u001b[0m in \u001b[0;36mzmq.backend.cython.socket._recv_copy\u001b[0;34m()\u001b[0m\n",
            "\u001b[0;32m/usr/local/lib/python3.7/dist-packages/zmq/backend/cython/checkrc.pxd\u001b[0m in \u001b[0;36mzmq.backend.cython.checkrc._check_rc\u001b[0;34m()\u001b[0m\n",
            "\u001b[0;31mKeyboardInterrupt\u001b[0m: ",
            "\nDuring handling of the above exception, another exception occurred:\n",
            "\u001b[0;31mKeyboardInterrupt\u001b[0m                         Traceback (most recent call last)",
            "\u001b[0;32m<ipython-input-23-b7fefadf4994>\u001b[0m in \u001b[0;36m<module>\u001b[0;34m()\u001b[0m\n\u001b[1;32m      7\u001b[0m         \u001b[0maction\u001b[0m \u001b[0;34m=\u001b[0m \u001b[0msorted\u001b[0m\u001b[0;34m(\u001b[0m\u001b[0;34m[\u001b[0m\u001b[0;34m(\u001b[0m\u001b[0ma\u001b[0m\u001b[0;34m,\u001b[0m \u001b[0mp\u001b[0m\u001b[0;34m[\u001b[0m\u001b[0ma\u001b[0m\u001b[0;34m]\u001b[0m\u001b[0;34m)\u001b[0m \u001b[0;32mfor\u001b[0m \u001b[0ma\u001b[0m \u001b[0;32min\u001b[0m \u001b[0mstate\u001b[0m\u001b[0;34m.\u001b[0m\u001b[0mlegal_actions\u001b[0m\u001b[0;34m(\u001b[0m\u001b[0;34m)\u001b[0m\u001b[0;34m]\u001b[0m\u001b[0;34m,\u001b[0m \u001b[0mkey\u001b[0m\u001b[0;34m=\u001b[0m\u001b[0;32mlambda\u001b[0m \u001b[0mx\u001b[0m\u001b[0;34m:\u001b[0m\u001b[0;34m-\u001b[0m\u001b[0mx\u001b[0m\u001b[0;34m[\u001b[0m\u001b[0;36m1\u001b[0m\u001b[0;34m]\u001b[0m\u001b[0;34m)\u001b[0m\u001b[0;34m[\u001b[0m\u001b[0;36m0\u001b[0m\u001b[0;34m]\u001b[0m\u001b[0;34m[\u001b[0m\u001b[0;36m0\u001b[0m\u001b[0;34m]\u001b[0m\u001b[0;34m\u001b[0m\u001b[0;34m\u001b[0m\u001b[0m\n\u001b[1;32m      8\u001b[0m     \u001b[0;32melse\u001b[0m\u001b[0;34m:\u001b[0m\u001b[0;34m\u001b[0m\u001b[0;34m\u001b[0m\u001b[0m\n\u001b[0;32m----> 9\u001b[0;31m         \u001b[0maction\u001b[0m \u001b[0;34m=\u001b[0m \u001b[0minput\u001b[0m\u001b[0;34m(\u001b[0m\u001b[0;34m'Up to you ! Choose an action : '\u001b[0m\u001b[0;34m)\u001b[0m\u001b[0;34m\u001b[0m\u001b[0;34m\u001b[0m\u001b[0m\n\u001b[0m\u001b[1;32m     10\u001b[0m         \u001b[0;32mwhile\u001b[0m \u001b[0;32mnot\u001b[0m \u001b[0;34m(\u001b[0m\u001b[0maction\u001b[0m \u001b[0;32min\u001b[0m \u001b[0;34m[\u001b[0m\u001b[0mstate\u001b[0m\u001b[0;34m.\u001b[0m\u001b[0maction2str\u001b[0m\u001b[0;34m(\u001b[0m\u001b[0me\u001b[0m\u001b[0;34m)\u001b[0m \u001b[0;32mfor\u001b[0m \u001b[0me\u001b[0m \u001b[0;32min\u001b[0m \u001b[0mstate\u001b[0m\u001b[0;34m.\u001b[0m\u001b[0mlegal_actions\u001b[0m\u001b[0;34m(\u001b[0m\u001b[0;34m)\u001b[0m\u001b[0;34m]\u001b[0m \u001b[0;34m)\u001b[0m\u001b[0;34m:\u001b[0m\u001b[0;34m\u001b[0m\u001b[0;34m\u001b[0m\u001b[0m\n\u001b[1;32m     11\u001b[0m               \u001b[0mprint\u001b[0m\u001b[0;34m(\u001b[0m\u001b[0;34m'Oups try again !available actions are : '\u001b[0m\u001b[0;34m,\u001b[0m\u001b[0;34m[\u001b[0m\u001b[0mstate\u001b[0m\u001b[0;34m.\u001b[0m\u001b[0maction2str\u001b[0m\u001b[0;34m(\u001b[0m\u001b[0me\u001b[0m\u001b[0;34m)\u001b[0m \u001b[0;32mfor\u001b[0m \u001b[0me\u001b[0m \u001b[0;32min\u001b[0m \u001b[0mstate\u001b[0m\u001b[0;34m.\u001b[0m\u001b[0mlegal_actions\u001b[0m\u001b[0;34m(\u001b[0m\u001b[0;34m)\u001b[0m\u001b[0;34m]\u001b[0m\u001b[0;34m)\u001b[0m\u001b[0;34m\u001b[0m\u001b[0;34m\u001b[0m\u001b[0m\n",
            "\u001b[0;32m/usr/local/lib/python3.7/dist-packages/ipykernel/kernelbase.py\u001b[0m in \u001b[0;36mraw_input\u001b[0;34m(self, prompt)\u001b[0m\n\u001b[1;32m    702\u001b[0m             \u001b[0mself\u001b[0m\u001b[0;34m.\u001b[0m\u001b[0m_parent_ident\u001b[0m\u001b[0;34m,\u001b[0m\u001b[0;34m\u001b[0m\u001b[0;34m\u001b[0m\u001b[0m\n\u001b[1;32m    703\u001b[0m             \u001b[0mself\u001b[0m\u001b[0;34m.\u001b[0m\u001b[0m_parent_header\u001b[0m\u001b[0;34m,\u001b[0m\u001b[0;34m\u001b[0m\u001b[0;34m\u001b[0m\u001b[0m\n\u001b[0;32m--> 704\u001b[0;31m             \u001b[0mpassword\u001b[0m\u001b[0;34m=\u001b[0m\u001b[0;32mFalse\u001b[0m\u001b[0;34m,\u001b[0m\u001b[0;34m\u001b[0m\u001b[0;34m\u001b[0m\u001b[0m\n\u001b[0m\u001b[1;32m    705\u001b[0m         )\n\u001b[1;32m    706\u001b[0m \u001b[0;34m\u001b[0m\u001b[0m\n",
            "\u001b[0;32m/usr/local/lib/python3.7/dist-packages/ipykernel/kernelbase.py\u001b[0m in \u001b[0;36m_input_request\u001b[0;34m(self, prompt, ident, parent, password)\u001b[0m\n\u001b[1;32m    732\u001b[0m             \u001b[0;32mexcept\u001b[0m \u001b[0mKeyboardInterrupt\u001b[0m\u001b[0;34m:\u001b[0m\u001b[0;34m\u001b[0m\u001b[0;34m\u001b[0m\u001b[0m\n\u001b[1;32m    733\u001b[0m                 \u001b[0;31m# re-raise KeyboardInterrupt, to truncate traceback\u001b[0m\u001b[0;34m\u001b[0m\u001b[0;34m\u001b[0m\u001b[0;34m\u001b[0m\u001b[0m\n\u001b[0;32m--> 734\u001b[0;31m                 \u001b[0;32mraise\u001b[0m \u001b[0mKeyboardInterrupt\u001b[0m\u001b[0;34m\u001b[0m\u001b[0;34m\u001b[0m\u001b[0m\n\u001b[0m\u001b[1;32m    735\u001b[0m             \u001b[0;32melse\u001b[0m\u001b[0;34m:\u001b[0m\u001b[0;34m\u001b[0m\u001b[0;34m\u001b[0m\u001b[0m\n\u001b[1;32m    736\u001b[0m                 \u001b[0;32mbreak\u001b[0m\u001b[0;34m\u001b[0m\u001b[0;34m\u001b[0m\u001b[0m\n",
            "\u001b[0;31mKeyboardInterrupt\u001b[0m: "
          ]
        }
      ]
    },
    {
      "cell_type": "markdown",
      "metadata": {
        "id": "O1pw9R4I-iv4"
      },
      "source": [
        "# **MuZero VS MuZero**"
      ]
    },
    {
      "cell_type": "code",
      "metadata": {
        "id": "gM2D4ITfmqT2"
      },
      "source": [
        "# Training of neural net\r\n",
        "batch_size = 32\r\n",
        "num_steps = 100\r\n",
        "\r\n",
        "def gen_target(ep, k):\r\n",
        "    '''Generate inputs and targets for training'''\r\n",
        "    # path, reward, observation, action, policy\r\n",
        "    turn_idx = np.random.randint(len(ep[0]))\r\n",
        "    ps, vs, ax = [], [], []\r\n",
        "    for t in range(turn_idx, turn_idx + k + 1):\r\n",
        "        if t < len(ep[0]):\r\n",
        "            p = ep[4][t]\r\n",
        "            a = ep[3][t]\r\n",
        "        else: # state after finishing game\r\n",
        "            # p is 0 (loss is 0)\r\n",
        "            p = np.zeros_like(ep[4][-1])\r\n",
        "            # random action selection\r\n",
        "            a = np.zeros(np.prod(ep[3][-1].shape), dtype=np.float32)\r\n",
        "            a[np.random.randint(len(a))] = 1\r\n",
        "            a = a.reshape(ep[3][-1].shape)\r\n",
        "        vs.append([ep[1] if t % 2 == 0 else -ep[1]])\r\n",
        "        ps.append(p)\r\n",
        "        ax.append(a)\r\n",
        "        \r\n",
        "    return ep[2][turn_idx], ax, ps, vs\r\n",
        "\r\n",
        "def train(episodes, net, opt):\r\n",
        "    '''Train neural net'''\r\n",
        "    p_loss_sum, v_loss_sum = 0, 0\r\n",
        "    p_loss_l = []\r\n",
        "    v_loss_l = []\r\n",
        "    net.train()\r\n",
        "    k = 4\r\n",
        "    for _ in range(num_steps):\r\n",
        "        x, ax, p_target, v_target = zip(*[gen_target(episodes[np.random.randint(len(episodes))], k) for j in range(batch_size)])\r\n",
        "        x = torch.from_numpy(np.array(x))\r\n",
        "        ax = torch.from_numpy(np.array(ax))\r\n",
        "        p_target = torch.from_numpy(np.array(p_target))\r\n",
        "        v_target = torch.FloatTensor(np.array(v_target))\r\n",
        "\r\n",
        "        # Change the order of axis as [time step, batch, ...]\r\n",
        "        ax = torch.transpose(ax, 0, 1)\r\n",
        "        p_target = torch.transpose(p_target, 0, 1)\r\n",
        "        v_target = torch.transpose(v_target, 0, 1)\r\n",
        "\r\n",
        "        p_loss, v_loss = 0, 0\r\n",
        "\r\n",
        "        # Compute losses for k (+ current) steps\r\n",
        "        for t in range(k + 1):\r\n",
        "            rp = net.representation(x) if t == 0 else net.dynamics(rp, ax[t - 1])\r\n",
        "            p, v = net.prediction(rp)\r\n",
        "            p_loss += torch.sum(-p_target[t] * torch.log(p))\r\n",
        "            v_loss += torch.sum((v_target[t] - v) ** 2)\r\n",
        "\r\n",
        "        p_loss_sum += p_loss.item()\r\n",
        "        v_loss_sum += v_loss.item()\r\n",
        "\r\n",
        "        optimizer.zero_grad()\r\n",
        "        (p_loss + v_loss).backward()\r\n",
        "        optimizer.step()\r\n",
        "\r\n",
        "    num_train_datum = num_steps * batch_size\r\n",
        "    print('p_loss %f v_loss %f' % (p_loss_sum / num_train_datum, v_loss_sum / num_train_datum))\r\n",
        "    return net,p_loss_sum, v_loss_sum"
      ],
      "execution_count": null,
      "outputs": []
    },
    {
      "cell_type": "code",
      "metadata": {
        "id": "qKH3yqQ2hQ7B"
      },
      "source": [
        "# Battle against muzero\r\n",
        "def vs_muzero(net, n=100):\r\n",
        "    results = {}\r\n",
        "    for i in range(n):\r\n",
        "        first_turn = i % 2 == 0\r\n",
        "        turn = first_turn\r\n",
        "        state = State().tictactoe()\r\n",
        "        while not state.terminal():\r\n",
        "            if turn:\r\n",
        "                p, _ = net.predict(state, [])[-1]\r\n",
        "                action = sorted([(a, p[a]) for a in state.legal_actions()], key=lambda x:-x[1])[0][0]\r\n",
        "            else:\r\n",
        "                p, _ = net.predict(state, [])[-1]\r\n",
        "                action = sorted([(a, p[a]) for a in state.legal_actions()], key=lambda x:-x[1])[0][0]\r\n",
        "            state.play(action)\r\n",
        "            turn = not turn\r\n",
        "        r = state.terminal_reward() if turn else -state.terminal_reward()\r\n",
        "        results[r] = results.get(r, 0) + 1\r\n",
        "    return results"
      ],
      "execution_count": null,
      "outputs": []
    },
    {
      "cell_type": "code",
      "metadata": {
        "id": "KPQsh1ON-MWs"
      },
      "source": [
        "# Main algorithm of MuZero vs MuZero\r\n",
        "\r\n",
        "num_games = 100\r\n",
        "num_games_one_epoch = 20\r\n",
        "num_simulations = 40\r\n",
        "\r\n",
        "state_ttt = State().tictactoe()\r\n",
        "net = Net(state_ttt)\r\n",
        "optimizer = optim.SGD(net.parameters(), lr=3e-4, weight_decay=3e-5, momentum=0.8)\r\n",
        "\r\n",
        "# Display battle results as {-1: lose 0: draw 1: win} (for episode generated for training, 1 means that the first player won)\r\n",
        "vs_muzero_sum = vs_muzero(net)\r\n",
        "print('vs_muzero = ', sorted(vs_muzero_sum.items()))\r\n",
        "\r\n",
        "episodes = []\r\n",
        "result_distribution = {1: 0, 0: 0, -1: 0}\r\n",
        "plot_sum=[]\r\n",
        "plot_loss = []\r\n",
        "plot_value = []\r\n",
        "\r\n",
        "for g in range(num_games):\r\n",
        "    # Generate one episode\r\n",
        "    record, p_targets, features, action_features = [], [], [], []\r\n",
        "    #print(state)\r\n",
        "\r\n",
        "    state = State().tictactoe()\r\n",
        "    # temperature using to make policy targets from search results\r\n",
        "    temperature = 0.7\r\n",
        "    while not state.terminal():\r\n",
        "        tree = Tree(net)\r\n",
        "        p_target = tree.think(state, num_simulations, temperature)\r\n",
        "        p_targets.append(p_target)\r\n",
        "        features.append(state.feature())\r\n",
        "        # Select action with generated distribution, and then make a transition by that action\r\n",
        "        p, _ = net.predict(state, [])[-1]\r\n",
        "        action = sorted([(a, p[a]) for a in state.legal_actions()], key=lambda x:-x[1])[0][0]\r\n",
        "        action_features.append(state.action_feature(action))\r\n",
        "        state.play(action)\r\n",
        "        record.append(action)\r\n",
        "        temperature *= 0.8\r\n",
        "    # reward seen from the first turn player\r\n",
        "    reward = state.terminal_reward() * (1 if len(record) % 2 == 0 else -1)\r\n",
        "    result_distribution[reward] += 1\r\n",
        "    episodes.append((record, reward, features, action_features, p_targets))\r\n",
        "    if g % num_games_one_epoch == 0:\r\n",
        "        print('game ', end='')\r\n",
        "    print(g, ' ', end='')\r\n",
        "\r\n",
        "    # Training of neural net\r\n",
        "    if (g + 1) % num_games_one_epoch == 0:\r\n",
        "        # Show the result distributiuon of generated episodes\r\n",
        "        #print('generated = ', sorted(result_distribution.items()))\r\n",
        "        net,loss,value = train(episodes, net, optimizer)\r\n",
        "        plot_loss.append(loss)\r\n",
        "        plot_value.append(value)\r\n",
        "\r\n",
        "        vs_muzero_once = vs_muzero(net)\r\n",
        "        #print('vs_muzero = ', sorted(vs_muzero_once.items()), end='')\r\n",
        "        #for r, n in vs_muzero_once.items():\r\n",
        "            #vs_muzero_sum[r] += n\r\n",
        "        #print(' sum = ', sorted(vs_muzero_sum.items()))\r\n",
        "        plot_sum.append(vs_muzero_once.items())\r\n",
        "\r\n",
        "        #show_net(net, State().tictactoe())\r\n",
        "        #show_net(net, State().play('A1 C1 A2 C2'))\r\n",
        "        #show_net(net, State().play('A1 B2 C3 B3 C1'))\r\n",
        "        #show_net(net, State().play('B2 A2 A3 C1 B3'))\r\n",
        "        #show_net(net, State().play('B2 A2 A3 C1'))\r\n",
        "print('finished')"
      ],
      "execution_count": null,
      "outputs": []
    },
    {
      "cell_type": "code",
      "metadata": {
        "id": "3tvaWJX9NqJc"
      },
      "source": [
        "list_serie = [list(d) for d in plot_sum]\r\n",
        "win_serie = []\r\n",
        "lose_serie = []\r\n",
        "draw_serie = []\r\n",
        "\r\n",
        "for i in range(len(list_serie)):\r\n",
        "  sample = list_serie[i]\r\n",
        "  for j in range(len(sample)):\r\n",
        "    if sample[j][0]==1:\r\n",
        "      win_serie.append(sample[j][1])\r\n",
        "    elif sample[j][0]==-1:\r\n",
        "      lose_serie.append(sample[j][1])\r\n",
        "    else:\r\n",
        "      draw_serie.append(sample[j][1])\r\n",
        "\r\n",
        "plt.plot(win_serie,label='win')\r\n",
        "plt.plot(lose_serie,label='lose')\r\n",
        "plt.plot(draw_serie,label='draw')\r\n",
        "plt.legend()\r\n",
        "plt.xlabel('number of epochs')\r\n",
        "plt.ylabel('Results')"
      ],
      "execution_count": null,
      "outputs": []
    },
    {
      "cell_type": "code",
      "metadata": {
        "id": "sBdQZk-PN7jh"
      },
      "source": [
        "plt.plot(plot_loss,label='policy prediction loss')\r\n",
        "plt.legend()\r\n",
        "plt.xlabel('number of epochs')"
      ],
      "execution_count": null,
      "outputs": []
    },
    {
      "cell_type": "code",
      "metadata": {
        "id": "BXL0Chmd1LeG"
      },
      "source": [
        "print(vs_muzero(net, n=1000))"
      ],
      "execution_count": null,
      "outputs": []
    },
    {
      "cell_type": "code",
      "metadata": {
        "id": "5NWzlHe21LeG"
      },
      "source": [
        "# Search with trained net\n",
        "tree = Tree(net)\n",
        "s = State().tictactoe().play('A1 A3 ')\n",
        "tree.think(s, 100, show=True)\n",
        "tree.pv(s)"
      ],
      "execution_count": null,
      "outputs": []
    },
    {
      "cell_type": "code",
      "metadata": {
        "id": "JwnzOKmw7CTQ"
      },
      "source": [
        "# Show outputs from trained net\r\n",
        "print('initial state')\r\n",
        "show_net(net, State().tictactoe())\r\n",
        "\r\n",
        "print('WIN by put')\r\n",
        "show_net(net, State().tictactoe().play('A1 C1 A2 C2'))\r\n",
        "\r\n",
        "print('LOSE by opponent\\'s double')\r\n",
        "show_net(net, State().tictactoe().play('B2 A2 A3 C1 B3'))\r\n",
        "\r\n",
        "print('WIN through double')\r\n",
        "show_net(net, State().tictactoe().play('B2 A2 A3 C1'))\r\n",
        "\r\n",
        "# hard case: putting on A1 will cause double\r\n",
        "print('strategic WIN by following double')\r\n",
        "show_net(net, State().tictactoe().play('B1 A3'))"
      ],
      "execution_count": null,
      "outputs": []
    }
  ]
}